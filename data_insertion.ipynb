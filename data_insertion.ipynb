{
 "cells": [
  {
   "cell_type": "code",
   "execution_count": 3,
   "id": "ea68a052-aa9e-4bf4-a9db-2b9b749e2fba",
   "metadata": {
    "tags": []
   },
   "outputs": [
    {
     "name": "stdout",
     "output_type": "stream",
     "text": [
      "2017-11-24 13:22:50          0 \n",
      "2017-11-24 13:48:03  241896005 amazon_reviews_multilingual_DE_v1_00.tsv.gz\n",
      "2017-11-24 13:48:17   70583516 amazon_reviews_multilingual_FR_v1_00.tsv.gz\n",
      "2017-11-24 13:48:34   94688992 amazon_reviews_multilingual_JP_v1_00.tsv.gz\n",
      "2017-11-24 13:49:14  349370868 amazon_reviews_multilingual_UK_v1_00.tsv.gz\n",
      "2017-11-24 13:48:47 1466965039 amazon_reviews_multilingual_US_v1_00.tsv.gz\n",
      "2017-11-24 13:49:53  648641286 amazon_reviews_us_Apparel_v1_00.tsv.gz\n",
      "2017-11-24 13:56:36  582145299 amazon_reviews_us_Automotive_v1_00.tsv.gz\n",
      "2017-11-24 14:04:02  357392893 amazon_reviews_us_Baby_v1_00.tsv.gz\n",
      "2017-11-24 14:08:11  914070021 amazon_reviews_us_Beauty_v1_00.tsv.gz\n",
      "2017-11-24 14:17:41 2740337188 amazon_reviews_us_Books_v1_00.tsv.gz\n",
      "2017-11-24 14:45:50 2692708591 amazon_reviews_us_Books_v1_01.tsv.gz\n",
      "2017-11-24 15:10:21 1329539135 amazon_reviews_us_Books_v1_02.tsv.gz\n",
      "2017-11-24 15:22:13  442653086 amazon_reviews_us_Camera_v1_00.tsv.gz\n",
      "2017-11-24 15:27:13 2689739299 amazon_reviews_us_Digital_Ebook_Purchase_v1_00.tsv.gz\n",
      "2017-11-24 15:49:13 1294879074 amazon_reviews_us_Digital_Ebook_Purchase_v1_01.tsv.gz\n",
      "2017-11-24 15:59:24  253570168 amazon_reviews_us_Digital_Music_Purchase_v1_00.tsv.gz\n",
      "2017-11-24 16:01:47   18997559 amazon_reviews_us_Digital_Software_v1_00.tsv.gz\n",
      "2017-11-24 16:01:53  506979922 amazon_reviews_us_Digital_Video_Download_v1_00.tsv.gz\n",
      "2017-11-24 16:06:31   27442648 amazon_reviews_us_Digital_Video_Games_v1_00.tsv.gz\n",
      "2017-11-24 16:06:42  698828243 amazon_reviews_us_Electronics_v1_00.tsv.gz\n",
      "2017-11-24 16:12:44  148982796 amazon_reviews_us_Furniture_v1_00.tsv.gz\n",
      "2017-11-24 16:13:52   12134676 amazon_reviews_us_Gift_Card_v1_00.tsv.gz\n",
      "2017-11-24 16:13:59  401337166 amazon_reviews_us_Grocery_v1_00.tsv.gz\n",
      "2017-11-24 19:55:29 1011180212 amazon_reviews_us_Health_Personal_Care_v1_00.tsv.gz\n",
      "2017-11-24 20:30:55  193168458 amazon_reviews_us_Home_Entertainment_v1_00.tsv.gz\n",
      "2017-11-24 20:37:56  503339178 amazon_reviews_us_Home_Improvement_v1_00.tsv.gz\n",
      "2017-11-24 20:55:43 1081002012 amazon_reviews_us_Home_v1_00.tsv.gz\n",
      "2017-11-24 21:47:51  247022254 amazon_reviews_us_Jewelry_v1_00.tsv.gz\n",
      "2017-11-24 21:59:56  930744854 amazon_reviews_us_Kitchen_v1_00.tsv.gz\n",
      "2017-11-24 23:41:48  486772662 amazon_reviews_us_Lawn_and_Garden_v1_00.tsv.gz\n",
      "2017-11-24 23:59:42   60320191 amazon_reviews_us_Luggage_v1_00.tsv.gz\n",
      "2017-11-25 00:01:59   24359816 amazon_reviews_us_Major_Appliances_v1_00.tsv.gz\n",
      "2017-11-25 00:02:45  557959415 amazon_reviews_us_Mobile_Apps_v1_00.tsv.gz\n",
      "2017-11-25 00:22:19   22870508 amazon_reviews_us_Mobile_Electronics_v1_00.tsv.gz\n",
      "2017-11-25 00:23:06 1521994296 amazon_reviews_us_Music_v1_00.tsv.gz\n",
      "2017-11-25 00:58:36  193389086 amazon_reviews_us_Musical_Instruments_v1_00.tsv.gz\n",
      "2017-11-25 01:03:14  512323500 amazon_reviews_us_Office_Products_v1_00.tsv.gz\n",
      "2017-11-25 07:21:21  448963100 amazon_reviews_us_Outdoors_v1_00.tsv.gz\n",
      "2017-11-25 07:32:46 1512903923 amazon_reviews_us_PC_v1_00.tsv.gz\n",
      "2017-11-25 08:10:33   17634794 amazon_reviews_us_Personal_Care_Appliances_v1_00.tsv.gz\n",
      "2017-11-25 08:11:02  515815253 amazon_reviews_us_Pet_Products_v1_00.tsv.gz\n",
      "2017-11-25 08:22:26  642255314 amazon_reviews_us_Shoes_v1_00.tsv.gz\n",
      "2017-11-25 08:39:15   94010685 amazon_reviews_us_Software_v1_00.tsv.gz\n",
      "2017-11-27 10:36:58  872478735 amazon_reviews_us_Sports_v1_00.tsv.gz\n",
      "2017-11-25 08:52:11  333782939 amazon_reviews_us_Tools_v1_00.tsv.gz\n",
      "2017-11-25 09:06:08  838451398 amazon_reviews_us_Toys_v1_00.tsv.gz\n",
      "2017-11-25 09:42:13 1512355451 amazon_reviews_us_Video_DVD_v1_00.tsv.gz\n",
      "2017-11-25 10:50:22  475199894 amazon_reviews_us_Video_Games_v1_00.tsv.gz\n",
      "2017-11-25 11:07:59  138929896 amazon_reviews_us_Video_v1_00.tsv.gz\n",
      "2017-11-25 11:14:07  162973819 amazon_reviews_us_Watches_v1_00.tsv.gz\n",
      "2017-11-26 15:24:07 1704713674 amazon_reviews_us_Wireless_v1_00.tsv.gz\n",
      "2022-02-17 08:46:18       6162 index.txt\n",
      "2017-11-27 11:08:16      17553 sample_fr.tsv\n",
      "2017-11-27 11:08:17      15906 sample_us.tsv\n"
     ]
    }
   ],
   "source": [
    "!aws s3 ls s3://amazon-reviews-pds/tsv/"
   ]
  },
  {
   "cell_type": "code",
   "execution_count": 4,
   "id": "d8ae66df-8311-46b8-b7a2-e57f50907635",
   "metadata": {
    "tags": []
   },
   "outputs": [
    {
     "name": "stdout",
     "output_type": "stream",
     "text": [
      "                           PRE product_category=Apparel/\n",
      "                           PRE product_category=Automotive/\n",
      "                           PRE product_category=Baby/\n",
      "                           PRE product_category=Beauty/\n",
      "                           PRE product_category=Books/\n",
      "                           PRE product_category=Camera/\n",
      "                           PRE product_category=Digital_Ebook_Purchase/\n",
      "                           PRE product_category=Digital_Music_Purchase/\n",
      "                           PRE product_category=Digital_Software/\n",
      "                           PRE product_category=Digital_Video_Download/\n",
      "                           PRE product_category=Digital_Video_Games/\n",
      "                           PRE product_category=Electronics/\n",
      "                           PRE product_category=Furniture/\n",
      "                           PRE product_category=Gift_Card/\n",
      "                           PRE product_category=Grocery/\n",
      "                           PRE product_category=Health_&_Personal_Care/\n",
      "                           PRE product_category=Home/\n",
      "                           PRE product_category=Home_Entertainment/\n",
      "                           PRE product_category=Home_Improvement/\n",
      "                           PRE product_category=Jewelry/\n",
      "                           PRE product_category=Kitchen/\n",
      "                           PRE product_category=Lawn_and_Garden/\n",
      "                           PRE product_category=Luggage/\n",
      "                           PRE product_category=Major_Appliances/\n",
      "                           PRE product_category=Mobile_Apps/\n",
      "                           PRE product_category=Mobile_Electronics/\n",
      "                           PRE product_category=Music/\n",
      "                           PRE product_category=Musical_Instruments/\n",
      "                           PRE product_category=Office_Products/\n",
      "                           PRE product_category=Outdoors/\n",
      "                           PRE product_category=PC/\n",
      "                           PRE product_category=Personal_Care_Appliances/\n",
      "                           PRE product_category=Pet_Products/\n",
      "                           PRE product_category=Shoes/\n",
      "                           PRE product_category=Software/\n",
      "                           PRE product_category=Sports/\n",
      "                           PRE product_category=Tools/\n",
      "                           PRE product_category=Toys/\n",
      "                           PRE product_category=Video/\n",
      "                           PRE product_category=Video_DVD/\n",
      "                           PRE product_category=Video_Games/\n",
      "                           PRE product_category=Watches/\n",
      "                           PRE product_category=Wireless/\n"
     ]
    }
   ],
   "source": [
    "!aws s3 ls s3://amazon-reviews-pds/parquet/"
   ]
  },
  {
   "cell_type": "code",
   "execution_count": 5,
   "id": "d739cdc5-9f33-4425-bdb2-18b5fde38989",
   "metadata": {
    "tags": []
   },
   "outputs": [],
   "source": [
    "import boto3\n",
    "import sagemaker\n",
    "import pandas as pd\n",
    "\n",
    "sess = sagemaker.Session()\n",
    "bucket = sess.default_bucket()\n",
    "role = sagemaker.get_execution_role()\n",
    "region = boto3.Session().region_name\n",
    "account_id = boto3.client(\"sts\").get_caller_identity().get(\"Account\")\n",
    "\n",
    "sm = boto3.Session().client(service_name=\"sagemaker\", region_name=region)"
   ]
  },
  {
   "cell_type": "code",
   "execution_count": 20,
   "id": "3c8880ee-5e63-437d-9487-2d0eaa6ec042",
   "metadata": {
    "tags": []
   },
   "outputs": [
    {
     "name": "stdout",
     "output_type": "stream",
     "text": [
      "make_bucket: amazon-reviews-capstone\n"
     ]
    }
   ],
   "source": [
    "!aws s3 mb s3://amazon-reviews-capstone"
   ]
  },
  {
   "cell_type": "code",
   "execution_count": 6,
   "id": "83b0ef0d-2030-4e6d-9f87-9231afafe417",
   "metadata": {
    "tags": []
   },
   "outputs": [],
   "source": [
    "s3_public_source_tsv = \"s3://amazon-reviews-pds/tsv\""
   ]
  },
  {
   "cell_type": "code",
   "execution_count": 8,
   "id": "33f1a841-de8e-4485-8bc2-7aac4ceb8a1b",
   "metadata": {
    "tags": []
   },
   "outputs": [
    {
     "name": "stdout",
     "output_type": "stream",
     "text": [
      "Stored 's3_source_tsv' (str)\n"
     ]
    }
   ],
   "source": [
    "%store s3_source_tsv"
   ]
  },
  {
   "cell_type": "code",
   "execution_count": 9,
   "id": "18a21f28-aa68-4828-bd07-e514dd29d926",
   "metadata": {
    "tags": []
   },
   "outputs": [
    {
     "name": "stdout",
     "output_type": "stream",
     "text": [
      "s3://sagemaker-us-east-1-518606024901/amazon-reviews-pds/tsv\n"
     ]
    }
   ],
   "source": [
    "s3_private_source_tsv = \"s3://{}/amazon-reviews-pds/tsv\".format(bucket)\n",
    "print(s3_private_source_tsv)"
   ]
  },
  {
   "cell_type": "code",
   "execution_count": 10,
   "id": "cac4753d-757a-4861-b643-5736abe062cb",
   "metadata": {
    "tags": []
   },
   "outputs": [
    {
     "name": "stdout",
     "output_type": "stream",
     "text": [
      "Stored 's3_private_source_tsv' (str)\n"
     ]
    }
   ],
   "source": [
    "%store s3_private_source_tsv"
   ]
  },
  {
   "cell_type": "code",
   "execution_count": 15,
   "id": "7b1a46e6-791a-4785-b23d-21797f54ab27",
   "metadata": {
    "tags": []
   },
   "outputs": [
    {
     "name": "stdout",
     "output_type": "stream",
     "text": [
      "copy failed: s3://amazon-reviews-pds/tsv/amazon_reviews_multilingual_FR_v1_00.tsv.gz to s3://{}/amazon-reviews-pds/tsv/amazon_reviews_multilingual_FR_v1_00.tsv.gz Parameter validation failed:\n",
      "Invalid bucket name \"{}\": Bucket name must match the regex \"^[a-zA-Z0-9.\\-_]{1,255}$\" or be an ARN matching the regex \"^arn:(aws).*:(s3|s3-object-lambda):[a-z\\-0-9]*:[0-9]{12}:accesspoint[/:][a-zA-Z0-9\\-.]{1,63}$|^arn:(aws).*:s3-outposts:[a-z\\-0-9]+:[0-9]{12}:outpost[/:][a-zA-Z0-9\\-]{1,63}[/:]accesspoint[/:][a-zA-Z0-9\\-]{1,63}$\"\n",
      "copy failed: s3://amazon-reviews-pds/tsv/amazon_reviews_multilingual_JP_v1_00.tsv.gz to s3://{}/amazon-reviews-pds/tsv/amazon_reviews_multilingual_JP_v1_00.tsv.gz Parameter validation failed:\n",
      "Invalid bucket name \"{}\": Bucket name must match the regex \"^[a-zA-Z0-9.\\-_]{1,255}$\" or be an ARN matching the regex \"^arn:(aws).*:(s3|s3-object-lambda):[a-z\\-0-9]*:[0-9]{12}:accesspoint[/:][a-zA-Z0-9\\-.]{1,63}$|^arn:(aws).*:s3-outposts:[a-z\\-0-9]+:[0-9]{12}:outpost[/:][a-zA-Z0-9\\-]{1,63}[/:]accesspoint[/:][a-zA-Z0-9\\-]{1,63}$\"\n",
      "copy failed: s3://amazon-reviews-pds/tsv/amazon_reviews_multilingual_DE_v1_00.tsv.gz to s3://{}/amazon-reviews-pds/tsv/amazon_reviews_multilingual_DE_v1_00.tsv.gz Parameter validation failed:\n",
      "Invalid bucket name \"{}\": Bucket name must match the regex \"^[a-zA-Z0-9.\\-_]{1,255}$\" or be an ARN matching the regex \"^arn:(aws).*:(s3|s3-object-lambda):[a-z\\-0-9]*:[0-9]{12}:accesspoint[/:][a-zA-Z0-9\\-.]{1,63}$|^arn:(aws).*:s3-outposts:[a-z\\-0-9]+:[0-9]{12}:outpost[/:][a-zA-Z0-9\\-]{1,63}[/:]accesspoint[/:][a-zA-Z0-9\\-]{1,63}$\"\n",
      "copy failed: s3://amazon-reviews-pds/tsv/amazon_reviews_multilingual_UK_v1_00.tsv.gz to s3://{}/amazon-reviews-pds/tsv/amazon_reviews_multilingual_UK_v1_00.tsv.gz Parameter validation failed:\n",
      "Invalid bucket name \"{}\": Bucket name must match the regex \"^[a-zA-Z0-9.\\-_]{1,255}$\" or be an ARN matching the regex \"^arn:(aws).*:(s3|s3-object-lambda):[a-z\\-0-9]*:[0-9]{12}:accesspoint[/:][a-zA-Z0-9\\-.]{1,63}$|^arn:(aws).*:s3-outposts:[a-z\\-0-9]+:[0-9]{12}:outpost[/:][a-zA-Z0-9\\-]{1,63}[/:]accesspoint[/:][a-zA-Z0-9\\-]{1,63}$\"\n",
      "copy failed: s3://amazon-reviews-pds/tsv/amazon_reviews_us_Baby_v1_00.tsv.gz to s3://{}/amazon-reviews-pds/tsv/amazon_reviews_us_Baby_v1_00.tsv.gz Parameter validation failed:\n",
      "Invalid bucket name \"{}\": Bucket name must match the regex \"^[a-zA-Z0-9.\\-_]{1,255}$\" or be an ARN matching the regex \"^arn:(aws).*:(s3|s3-object-lambda):[a-z\\-0-9]*:[0-9]{12}:accesspoint[/:][a-zA-Z0-9\\-.]{1,63}$|^arn:(aws).*:s3-outposts:[a-z\\-0-9]+:[0-9]{12}:outpost[/:][a-zA-Z0-9\\-]{1,63}[/:]accesspoint[/:][a-zA-Z0-9\\-]{1,63}$\"\n",
      "copy failed: s3://amazon-reviews-pds/tsv/amazon_reviews_us_Automotive_v1_00.tsv.gz to s3://{}/amazon-reviews-pds/tsv/amazon_reviews_us_Automotive_v1_00.tsv.gz Parameter validation failed:\n",
      "Invalid bucket name \"{}\": Bucket name must match the regex \"^[a-zA-Z0-9.\\-_]{1,255}$\" or be an ARN matching the regex \"^arn:(aws).*:(s3|s3-object-lambda):[a-z\\-0-9]*:[0-9]{12}:accesspoint[/:][a-zA-Z0-9\\-.]{1,63}$|^arn:(aws).*:s3-outposts:[a-z\\-0-9]+:[0-9]{12}:outpost[/:][a-zA-Z0-9\\-]{1,63}[/:]accesspoint[/:][a-zA-Z0-9\\-]{1,63}$\"\n",
      "copy failed: s3://amazon-reviews-pds/tsv/amazon_reviews_us_Apparel_v1_00.tsv.gz to s3://{}/amazon-reviews-pds/tsv/amazon_reviews_us_Apparel_v1_00.tsv.gz Parameter validation failed:\n",
      "Invalid bucket name \"{}\": Bucket name must match the regex \"^[a-zA-Z0-9.\\-_]{1,255}$\" or be an ARN matching the regex \"^arn:(aws).*:(s3|s3-object-lambda):[a-z\\-0-9]*:[0-9]{12}:accesspoint[/:][a-zA-Z0-9\\-.]{1,63}$|^arn:(aws).*:s3-outposts:[a-z\\-0-9]+:[0-9]{12}:outpost[/:][a-zA-Z0-9\\-]{1,63}[/:]accesspoint[/:][a-zA-Z0-9\\-]{1,63}$\"\n",
      "copy failed: s3://amazon-reviews-pds/tsv/amazon_reviews_us_Beauty_v1_00.tsv.gz to s3://{}/amazon-reviews-pds/tsv/amazon_reviews_us_Beauty_v1_00.tsv.gz Parameter validation failed:\n",
      "Invalid bucket name \"{}\": Bucket name must match the regex \"^[a-zA-Z0-9.\\-_]{1,255}$\" or be an ARN matching the regex \"^arn:(aws).*:(s3|s3-object-lambda):[a-z\\-0-9]*:[0-9]{12}:accesspoint[/:][a-zA-Z0-9\\-.]{1,63}$|^arn:(aws).*:s3-outposts:[a-z\\-0-9]+:[0-9]{12}:outpost[/:][a-zA-Z0-9\\-]{1,63}[/:]accesspoint[/:][a-zA-Z0-9\\-]{1,63}$\"\n",
      "copy failed: s3://amazon-reviews-pds/tsv/amazon_reviews_multilingual_US_v1_00.tsv.gz to s3://{}/amazon-reviews-pds/tsv/amazon_reviews_multilingual_US_v1_00.tsv.gz Parameter validation failed:\n",
      "Invalid bucket name \"{}\": Bucket name must match the regex \"^[a-zA-Z0-9.\\-_]{1,255}$\" or be an ARN matching the regex \"^arn:(aws).*:(s3|s3-object-lambda):[a-z\\-0-9]*:[0-9]{12}:accesspoint[/:][a-zA-Z0-9\\-.]{1,63}$|^arn:(aws).*:s3-outposts:[a-z\\-0-9]+:[0-9]{12}:outpost[/:][a-zA-Z0-9\\-]{1,63}[/:]accesspoint[/:][a-zA-Z0-9\\-]{1,63}$\"\n",
      "copy failed: s3://amazon-reviews-pds/tsv/amazon_reviews_us_Camera_v1_00.tsv.gz to s3://{}/amazon-reviews-pds/tsv/amazon_reviews_us_Camera_v1_00.tsv.gz Parameter validation failed:\n",
      "Invalid bucket name \"{}\": Bucket name must match the regex \"^[a-zA-Z0-9.\\-_]{1,255}$\" or be an ARN matching the regex \"^arn:(aws).*:(s3|s3-object-lambda):[a-z\\-0-9]*:[0-9]{12}:accesspoint[/:][a-zA-Z0-9\\-.]{1,63}$|^arn:(aws).*:s3-outposts:[a-z\\-0-9]+:[0-9]{12}:outpost[/:][a-zA-Z0-9\\-]{1,63}[/:]accesspoint[/:][a-zA-Z0-9\\-]{1,63}$\"\n",
      "copy failed: s3://amazon-reviews-pds/tsv/amazon_reviews_us_Books_v1_02.tsv.gz to s3://{}/amazon-reviews-pds/tsv/amazon_reviews_us_Books_v1_02.tsv.gz Parameter validation failed:\n",
      "Invalid bucket name \"{}\": Bucket name must match the regex \"^[a-zA-Z0-9.\\-_]{1,255}$\" or be an ARN matching the regex \"^arn:(aws).*:(s3|s3-object-lambda):[a-z\\-0-9]*:[0-9]{12}:accesspoint[/:][a-zA-Z0-9\\-.]{1,63}$|^arn:(aws).*:s3-outposts:[a-z\\-0-9]+:[0-9]{12}:outpost[/:][a-zA-Z0-9\\-]{1,63}[/:]accesspoint[/:][a-zA-Z0-9\\-]{1,63}$\"\n",
      "copy failed: s3://amazon-reviews-pds/tsv/amazon_reviews_us_Digital_Music_Purchase_v1_00.tsv.gz to s3://{}/amazon-reviews-pds/tsv/amazon_reviews_us_Digital_Music_Purchase_v1_00.tsv.gz Parameter validation failed:\n",
      "Invalid bucket name \"{}\": Bucket name must match the regex \"^[a-zA-Z0-9.\\-_]{1,255}$\" or be an ARN matching the regex \"^arn:(aws).*:(s3|s3-object-lambda):[a-z\\-0-9]*:[0-9]{12}:accesspoint[/:][a-zA-Z0-9\\-.]{1,63}$|^arn:(aws).*:s3-outposts:[a-z\\-0-9]+:[0-9]{12}:outpost[/:][a-zA-Z0-9\\-]{1,63}[/:]accesspoint[/:][a-zA-Z0-9\\-]{1,63}$\"\n",
      "copy failed: s3://amazon-reviews-pds/tsv/amazon_reviews_us_Digital_Software_v1_00.tsv.gz to s3://{}/amazon-reviews-pds/tsv/amazon_reviews_us_Digital_Software_v1_00.tsv.gz Parameter validation failed:\n",
      "Invalid bucket name \"{}\": Bucket name must match the regex \"^[a-zA-Z0-9.\\-_]{1,255}$\" or be an ARN matching the regex \"^arn:(aws).*:(s3|s3-object-lambda):[a-z\\-0-9]*:[0-9]{12}:accesspoint[/:][a-zA-Z0-9\\-.]{1,63}$|^arn:(aws).*:s3-outposts:[a-z\\-0-9]+:[0-9]{12}:outpost[/:][a-zA-Z0-9\\-]{1,63}[/:]accesspoint[/:][a-zA-Z0-9\\-]{1,63}$\"\n",
      "copy failed: s3://amazon-reviews-pds/tsv/amazon_reviews_us_Digital_Video_Download_v1_00.tsv.gz to s3://{}/amazon-reviews-pds/tsv/amazon_reviews_us_Digital_Video_Download_v1_00.tsv.gz Parameter validation failed:\n",
      "Invalid bucket name \"{}\": Bucket name must match the regex \"^[a-zA-Z0-9.\\-_]{1,255}$\" or be an ARN matching the regex \"^arn:(aws).*:(s3|s3-object-lambda):[a-z\\-0-9]*:[0-9]{12}:accesspoint[/:][a-zA-Z0-9\\-.]{1,63}$|^arn:(aws).*:s3-outposts:[a-z\\-0-9]+:[0-9]{12}:outpost[/:][a-zA-Z0-9\\-]{1,63}[/:]accesspoint[/:][a-zA-Z0-9\\-]{1,63}$\"\n",
      "copy failed: s3://amazon-reviews-pds/tsv/amazon_reviews_us_Digital_Video_Games_v1_00.tsv.gz to s3://{}/amazon-reviews-pds/tsv/amazon_reviews_us_Digital_Video_Games_v1_00.tsv.gz Parameter validation failed:\n",
      "Invalid bucket name \"{}\": Bucket name must match the regex \"^[a-zA-Z0-9.\\-_]{1,255}$\" or be an ARN matching the regex \"^arn:(aws).*:(s3|s3-object-lambda):[a-z\\-0-9]*:[0-9]{12}:accesspoint[/:][a-zA-Z0-9\\-.]{1,63}$|^arn:(aws).*:s3-outposts:[a-z\\-0-9]+:[0-9]{12}:outpost[/:][a-zA-Z0-9\\-]{1,63}[/:]accesspoint[/:][a-zA-Z0-9\\-]{1,63}$\"\n",
      "copy failed: s3://amazon-reviews-pds/tsv/amazon_reviews_us_Books_v1_00.tsv.gz to s3://{}/amazon-reviews-pds/tsv/amazon_reviews_us_Books_v1_00.tsv.gz Parameter validation failed:\n",
      "Invalid bucket name \"{}\": Bucket name must match the regex \"^[a-zA-Z0-9.\\-_]{1,255}$\" or be an ARN matching the regex \"^arn:(aws).*:(s3|s3-object-lambda):[a-z\\-0-9]*:[0-9]{12}:accesspoint[/:][a-zA-Z0-9\\-.]{1,63}$|^arn:(aws).*:s3-outposts:[a-z\\-0-9]+:[0-9]{12}:outpost[/:][a-zA-Z0-9\\-]{1,63}[/:]accesspoint[/:][a-zA-Z0-9\\-]{1,63}$\"\n",
      "copy failed: s3://amazon-reviews-pds/tsv/amazon_reviews_us_Furniture_v1_00.tsv.gz to s3://{}/amazon-reviews-pds/tsv/amazon_reviews_us_Furniture_v1_00.tsv.gz Parameter validation failed:\n",
      "Invalid bucket name \"{}\": Bucket name must match the regex \"^[a-zA-Z0-9.\\-_]{1,255}$\" or be an ARN matching the regex \"^arn:(aws).*:(s3|s3-object-lambda):[a-z\\-0-9]*:[0-9]{12}:accesspoint[/:][a-zA-Z0-9\\-.]{1,63}$|^arn:(aws).*:s3-outposts:[a-z\\-0-9]+:[0-9]{12}:outpost[/:][a-zA-Z0-9\\-]{1,63}[/:]accesspoint[/:][a-zA-Z0-9\\-]{1,63}$\"\n",
      "copy failed: s3://amazon-reviews-pds/tsv/amazon_reviews_us_Digital_Ebook_Purchase_v1_01.tsv.gz to s3://{}/amazon-reviews-pds/tsv/amazon_reviews_us_Digital_Ebook_Purchase_v1_01.tsv.gz Parameter validation failed:\n",
      "Invalid bucket name \"{}\": Bucket name must match the regex \"^[a-zA-Z0-9.\\-_]{1,255}$\" or be an ARN matching the regex \"^arn:(aws).*:(s3|s3-object-lambda):[a-z\\-0-9]*:[0-9]{12}:accesspoint[/:][a-zA-Z0-9\\-.]{1,63}$|^arn:(aws).*:s3-outposts:[a-z\\-0-9]+:[0-9]{12}:outpost[/:][a-zA-Z0-9\\-]{1,63}[/:]accesspoint[/:][a-zA-Z0-9\\-]{1,63}$\"\n",
      "copy failed: s3://amazon-reviews-pds/tsv/amazon_reviews_us_Gift_Card_v1_00.tsv.gz to s3://{}/amazon-reviews-pds/tsv/amazon_reviews_us_Gift_Card_v1_00.tsv.gz Parameter validation failed:\n",
      "Invalid bucket name \"{}\": Bucket name must match the regex \"^[a-zA-Z0-9.\\-_]{1,255}$\" or be an ARN matching the regex \"^arn:(aws).*:(s3|s3-object-lambda):[a-z\\-0-9]*:[0-9]{12}:accesspoint[/:][a-zA-Z0-9\\-.]{1,63}$|^arn:(aws).*:s3-outposts:[a-z\\-0-9]+:[0-9]{12}:outpost[/:][a-zA-Z0-9\\-]{1,63}[/:]accesspoint[/:][a-zA-Z0-9\\-]{1,63}$\"\n",
      "copy failed: s3://amazon-reviews-pds/tsv/amazon_reviews_us_Grocery_v1_00.tsv.gz to s3://{}/amazon-reviews-pds/tsv/amazon_reviews_us_Grocery_v1_00.tsv.gz Parameter validation failed:\n",
      "Invalid bucket name \"{}\": Bucket name must match the regex \"^[a-zA-Z0-9.\\-_]{1,255}$\" or be an ARN matching the regex \"^arn:(aws).*:(s3|s3-object-lambda):[a-z\\-0-9]*:[0-9]{12}:accesspoint[/:][a-zA-Z0-9\\-.]{1,63}$|^arn:(aws).*:s3-outposts:[a-z\\-0-9]+:[0-9]{12}:outpost[/:][a-zA-Z0-9\\-]{1,63}[/:]accesspoint[/:][a-zA-Z0-9\\-]{1,63}$\"\n",
      "copy failed: s3://amazon-reviews-pds/tsv/amazon_reviews_us_Home_Entertainment_v1_00.tsv.gz to s3://{}/amazon-reviews-pds/tsv/amazon_reviews_us_Home_Entertainment_v1_00.tsv.gz Parameter validation failed:\n",
      "Invalid bucket name \"{}\": Bucket name must match the regex \"^[a-zA-Z0-9.\\-_]{1,255}$\" or be an ARN matching the regex \"^arn:(aws).*:(s3|s3-object-lambda):[a-z\\-0-9]*:[0-9]{12}:accesspoint[/:][a-zA-Z0-9\\-.]{1,63}$|^arn:(aws).*:s3-outposts:[a-z\\-0-9]+:[0-9]{12}:outpost[/:][a-zA-Z0-9\\-]{1,63}[/:]accesspoint[/:][a-zA-Z0-9\\-]{1,63}$\"\n",
      "copy failed: s3://amazon-reviews-pds/tsv/amazon_reviews_us_Electronics_v1_00.tsv.gz to s3://{}/amazon-reviews-pds/tsv/amazon_reviews_us_Electronics_v1_00.tsv.gz Parameter validation failed:\n",
      "Invalid bucket name \"{}\": Bucket name must match the regex \"^[a-zA-Z0-9.\\-_]{1,255}$\" or be an ARN matching the regex \"^arn:(aws).*:(s3|s3-object-lambda):[a-z\\-0-9]*:[0-9]{12}:accesspoint[/:][a-zA-Z0-9\\-.]{1,63}$|^arn:(aws).*:s3-outposts:[a-z\\-0-9]+:[0-9]{12}:outpost[/:][a-zA-Z0-9\\-]{1,63}[/:]accesspoint[/:][a-zA-Z0-9\\-]{1,63}$\"\n",
      "copy failed: s3://amazon-reviews-pds/tsv/amazon_reviews_us_Books_v1_01.tsv.gz to s3://{}/amazon-reviews-pds/tsv/amazon_reviews_us_Books_v1_01.tsv.gz Parameter validation failed:\n",
      "Invalid bucket name \"{}\": Bucket name must match the regex \"^[a-zA-Z0-9.\\-_]{1,255}$\" or be an ARN matching the regex \"^arn:(aws).*:(s3|s3-object-lambda):[a-z\\-0-9]*:[0-9]{12}:accesspoint[/:][a-zA-Z0-9\\-.]{1,63}$|^arn:(aws).*:s3-outposts:[a-z\\-0-9]+:[0-9]{12}:outpost[/:][a-zA-Z0-9\\-]{1,63}[/:]accesspoint[/:][a-zA-Z0-9\\-]{1,63}$\"\n",
      "copy failed: s3://amazon-reviews-pds/tsv/amazon_reviews_us_Home_Improvement_v1_00.tsv.gz to s3://{}/amazon-reviews-pds/tsv/amazon_reviews_us_Home_Improvement_v1_00.tsv.gz Parameter validation failed:\n",
      "Invalid bucket name \"{}\": Bucket name must match the regex \"^[a-zA-Z0-9.\\-_]{1,255}$\" or be an ARN matching the regex \"^arn:(aws).*:(s3|s3-object-lambda):[a-z\\-0-9]*:[0-9]{12}:accesspoint[/:][a-zA-Z0-9\\-.]{1,63}$|^arn:(aws).*:s3-outposts:[a-z\\-0-9]+:[0-9]{12}:outpost[/:][a-zA-Z0-9\\-]{1,63}[/:]accesspoint[/:][a-zA-Z0-9\\-]{1,63}$\"\n",
      "copy failed: s3://amazon-reviews-pds/tsv/amazon_reviews_us_Jewelry_v1_00.tsv.gz to s3://{}/amazon-reviews-pds/tsv/amazon_reviews_us_Jewelry_v1_00.tsv.gz Parameter validation failed:\n",
      "Invalid bucket name \"{}\": Bucket name must match the regex \"^[a-zA-Z0-9.\\-_]{1,255}$\" or be an ARN matching the regex \"^arn:(aws).*:(s3|s3-object-lambda):[a-z\\-0-9]*:[0-9]{12}:accesspoint[/:][a-zA-Z0-9\\-.]{1,63}$|^arn:(aws).*:s3-outposts:[a-z\\-0-9]+:[0-9]{12}:outpost[/:][a-zA-Z0-9\\-]{1,63}[/:]accesspoint[/:][a-zA-Z0-9\\-]{1,63}$\"\n",
      "copy failed: s3://amazon-reviews-pds/tsv/amazon_reviews_us_Digital_Ebook_Purchase_v1_00.tsv.gz to s3://{}/amazon-reviews-pds/tsv/amazon_reviews_us_Digital_Ebook_Purchase_v1_00.tsv.gz Parameter validation failed:\n",
      "Invalid bucket name \"{}\": Bucket name must match the regex \"^[a-zA-Z0-9.\\-_]{1,255}$\" or be an ARN matching the regex \"^arn:(aws).*:(s3|s3-object-lambda):[a-z\\-0-9]*:[0-9]{12}:accesspoint[/:][a-zA-Z0-9\\-.]{1,63}$|^arn:(aws).*:s3-outposts:[a-z\\-0-9]+:[0-9]{12}:outpost[/:][a-zA-Z0-9\\-]{1,63}[/:]accesspoint[/:][a-zA-Z0-9\\-]{1,63}$\"\n",
      "copy failed: s3://amazon-reviews-pds/tsv/amazon_reviews_us_Kitchen_v1_00.tsv.gz to s3://{}/amazon-reviews-pds/tsv/amazon_reviews_us_Kitchen_v1_00.tsv.gz Parameter validation failed:\n",
      "Invalid bucket name \"{}\": Bucket name must match the regex \"^[a-zA-Z0-9.\\-_]{1,255}$\" or be an ARN matching the regex \"^arn:(aws).*:(s3|s3-object-lambda):[a-z\\-0-9]*:[0-9]{12}:accesspoint[/:][a-zA-Z0-9\\-.]{1,63}$|^arn:(aws).*:s3-outposts:[a-z\\-0-9]+:[0-9]{12}:outpost[/:][a-zA-Z0-9\\-]{1,63}[/:]accesspoint[/:][a-zA-Z0-9\\-]{1,63}$\"\n",
      "copy failed: s3://amazon-reviews-pds/tsv/amazon_reviews_us_Major_Appliances_v1_00.tsv.gz to s3://{}/amazon-reviews-pds/tsv/amazon_reviews_us_Major_Appliances_v1_00.tsv.gz Parameter validation failed:\n",
      "Invalid bucket name \"{}\": Bucket name must match the regex \"^[a-zA-Z0-9.\\-_]{1,255}$\" or be an ARN matching the regex \"^arn:(aws).*:(s3|s3-object-lambda):[a-z\\-0-9]*:[0-9]{12}:accesspoint[/:][a-zA-Z0-9\\-.]{1,63}$|^arn:(aws).*:s3-outposts:[a-z\\-0-9]+:[0-9]{12}:outpost[/:][a-zA-Z0-9\\-]{1,63}[/:]accesspoint[/:][a-zA-Z0-9\\-]{1,63}$\"\n",
      "copy failed: s3://amazon-reviews-pds/tsv/amazon_reviews_us_Mobile_Apps_v1_00.tsv.gz to s3://{}/amazon-reviews-pds/tsv/amazon_reviews_us_Mobile_Apps_v1_00.tsv.gz Parameter validation failed:\n",
      "Invalid bucket name \"{}\": Bucket name must match the regex \"^[a-zA-Z0-9.\\-_]{1,255}$\" or be an ARN matching the regex \"^arn:(aws).*:(s3|s3-object-lambda):[a-z\\-0-9]*:[0-9]{12}:accesspoint[/:][a-zA-Z0-9\\-.]{1,63}$|^arn:(aws).*:s3-outposts:[a-z\\-0-9]+:[0-9]{12}:outpost[/:][a-zA-Z0-9\\-]{1,63}[/:]accesspoint[/:][a-zA-Z0-9\\-]{1,63}$\"\n",
      "copy failed: s3://amazon-reviews-pds/tsv/amazon_reviews_us_Health_Personal_Care_v1_00.tsv.gz to s3://{}/amazon-reviews-pds/tsv/amazon_reviews_us_Health_Personal_Care_v1_00.tsv.gz Parameter validation failed:\n",
      "Invalid bucket name \"{}\": Bucket name must match the regex \"^[a-zA-Z0-9.\\-_]{1,255}$\" or be an ARN matching the regex \"^arn:(aws).*:(s3|s3-object-lambda):[a-z\\-0-9]*:[0-9]{12}:accesspoint[/:][a-zA-Z0-9\\-.]{1,63}$|^arn:(aws).*:s3-outposts:[a-z\\-0-9]+:[0-9]{12}:outpost[/:][a-zA-Z0-9\\-]{1,63}[/:]accesspoint[/:][a-zA-Z0-9\\-]{1,63}$\"\n",
      "copy failed: s3://amazon-reviews-pds/tsv/amazon_reviews_us_Mobile_Electronics_v1_00.tsv.gz to s3://{}/amazon-reviews-pds/tsv/amazon_reviews_us_Mobile_Electronics_v1_00.tsv.gz Parameter validation failed:\n",
      "Invalid bucket name \"{}\": Bucket name must match the regex \"^[a-zA-Z0-9.\\-_]{1,255}$\" or be an ARN matching the regex \"^arn:(aws).*:(s3|s3-object-lambda):[a-z\\-0-9]*:[0-9]{12}:accesspoint[/:][a-zA-Z0-9\\-.]{1,63}$|^arn:(aws).*:s3-outposts:[a-z\\-0-9]+:[0-9]{12}:outpost[/:][a-zA-Z0-9\\-]{1,63}[/:]accesspoint[/:][a-zA-Z0-9\\-]{1,63}$\"\n",
      "copy failed: s3://amazon-reviews-pds/tsv/amazon_reviews_us_Luggage_v1_00.tsv.gz to s3://{}/amazon-reviews-pds/tsv/amazon_reviews_us_Luggage_v1_00.tsv.gz Parameter validation failed:\n",
      "Invalid bucket name \"{}\": Bucket name must match the regex \"^[a-zA-Z0-9.\\-_]{1,255}$\" or be an ARN matching the regex \"^arn:(aws).*:(s3|s3-object-lambda):[a-z\\-0-9]*:[0-9]{12}:accesspoint[/:][a-zA-Z0-9\\-.]{1,63}$|^arn:(aws).*:s3-outposts:[a-z\\-0-9]+:[0-9]{12}:outpost[/:][a-zA-Z0-9\\-]{1,63}[/:]accesspoint[/:][a-zA-Z0-9\\-]{1,63}$\"\n",
      "copy failed: s3://amazon-reviews-pds/tsv/amazon_reviews_us_Lawn_and_Garden_v1_00.tsv.gz to s3://{}/amazon-reviews-pds/tsv/amazon_reviews_us_Lawn_and_Garden_v1_00.tsv.gz Parameter validation failed:\n",
      "Invalid bucket name \"{}\": Bucket name must match the regex \"^[a-zA-Z0-9.\\-_]{1,255}$\" or be an ARN matching the regex \"^arn:(aws).*:(s3|s3-object-lambda):[a-z\\-0-9]*:[0-9]{12}:accesspoint[/:][a-zA-Z0-9\\-.]{1,63}$|^arn:(aws).*:s3-outposts:[a-z\\-0-9]+:[0-9]{12}:outpost[/:][a-zA-Z0-9\\-]{1,63}[/:]accesspoint[/:][a-zA-Z0-9\\-]{1,63}$\"\n",
      "copy failed: s3://amazon-reviews-pds/tsv/amazon_reviews_us_Musical_Instruments_v1_00.tsv.gz to s3://{}/amazon-reviews-pds/tsv/amazon_reviews_us_Musical_Instruments_v1_00.tsv.gz Parameter validation failed:\n",
      "Invalid bucket name \"{}\": Bucket name must match the regex \"^[a-zA-Z0-9.\\-_]{1,255}$\" or be an ARN matching the regex \"^arn:(aws).*:(s3|s3-object-lambda):[a-z\\-0-9]*:[0-9]{12}:accesspoint[/:][a-zA-Z0-9\\-.]{1,63}$|^arn:(aws).*:s3-outposts:[a-z\\-0-9]+:[0-9]{12}:outpost[/:][a-zA-Z0-9\\-]{1,63}[/:]accesspoint[/:][a-zA-Z0-9\\-]{1,63}$\"\n",
      "copy failed: s3://amazon-reviews-pds/tsv/amazon_reviews_us_Home_v1_00.tsv.gz to s3://{}/amazon-reviews-pds/tsv/amazon_reviews_us_Home_v1_00.tsv.gz Parameter validation failed:\n",
      "Invalid bucket name \"{}\": Bucket name must match the regex \"^[a-zA-Z0-9.\\-_]{1,255}$\" or be an ARN matching the regex \"^arn:(aws).*:(s3|s3-object-lambda):[a-z\\-0-9]*:[0-9]{12}:accesspoint[/:][a-zA-Z0-9\\-.]{1,63}$|^arn:(aws).*:s3-outposts:[a-z\\-0-9]+:[0-9]{12}:outpost[/:][a-zA-Z0-9\\-]{1,63}[/:]accesspoint[/:][a-zA-Z0-9\\-]{1,63}$\"\n",
      "copy failed: s3://amazon-reviews-pds/tsv/amazon_reviews_us_Outdoors_v1_00.tsv.gz to s3://{}/amazon-reviews-pds/tsv/amazon_reviews_us_Outdoors_v1_00.tsv.gz Parameter validation failed:\n",
      "Invalid bucket name \"{}\": Bucket name must match the regex \"^[a-zA-Z0-9.\\-_]{1,255}$\" or be an ARN matching the regex \"^arn:(aws).*:(s3|s3-object-lambda):[a-z\\-0-9]*:[0-9]{12}:accesspoint[/:][a-zA-Z0-9\\-.]{1,63}$|^arn:(aws).*:s3-outposts:[a-z\\-0-9]+:[0-9]{12}:outpost[/:][a-zA-Z0-9\\-]{1,63}[/:]accesspoint[/:][a-zA-Z0-9\\-]{1,63}$\"\n",
      "copy failed: s3://amazon-reviews-pds/tsv/amazon_reviews_us_Personal_Care_Appliances_v1_00.tsv.gz to s3://{}/amazon-reviews-pds/tsv/amazon_reviews_us_Personal_Care_Appliances_v1_00.tsv.gz Parameter validation failed:\n",
      "Invalid bucket name \"{}\": Bucket name must match the regex \"^[a-zA-Z0-9.\\-_]{1,255}$\" or be an ARN matching the regex \"^arn:(aws).*:(s3|s3-object-lambda):[a-z\\-0-9]*:[0-9]{12}:accesspoint[/:][a-zA-Z0-9\\-.]{1,63}$|^arn:(aws).*:s3-outposts:[a-z\\-0-9]+:[0-9]{12}:outpost[/:][a-zA-Z0-9\\-]{1,63}[/:]accesspoint[/:][a-zA-Z0-9\\-]{1,63}$\"\n",
      "copy failed: s3://amazon-reviews-pds/tsv/amazon_reviews_us_Office_Products_v1_00.tsv.gz to s3://{}/amazon-reviews-pds/tsv/amazon_reviews_us_Office_Products_v1_00.tsv.gz Parameter validation failed:\n",
      "Invalid bucket name \"{}\": Bucket name must match the regex \"^[a-zA-Z0-9.\\-_]{1,255}$\" or be an ARN matching the regex \"^arn:(aws).*:(s3|s3-object-lambda):[a-z\\-0-9]*:[0-9]{12}:accesspoint[/:][a-zA-Z0-9\\-.]{1,63}$|^arn:(aws).*:s3-outposts:[a-z\\-0-9]+:[0-9]{12}:outpost[/:][a-zA-Z0-9\\-]{1,63}[/:]accesspoint[/:][a-zA-Z0-9\\-]{1,63}$\"\n",
      "copy failed: s3://amazon-reviews-pds/tsv/amazon_reviews_us_Software_v1_00.tsv.gz to s3://{}/amazon-reviews-pds/tsv/amazon_reviews_us_Software_v1_00.tsv.gz Parameter validation failed:\n",
      "Invalid bucket name \"{}\": Bucket name must match the regex \"^[a-zA-Z0-9.\\-_]{1,255}$\" or be an ARN matching the regex \"^arn:(aws).*:(s3|s3-object-lambda):[a-z\\-0-9]*:[0-9]{12}:accesspoint[/:][a-zA-Z0-9\\-.]{1,63}$|^arn:(aws).*:s3-outposts:[a-z\\-0-9]+:[0-9]{12}:outpost[/:][a-zA-Z0-9\\-]{1,63}[/:]accesspoint[/:][a-zA-Z0-9\\-]{1,63}$\"\n",
      "copy failed: s3://amazon-reviews-pds/tsv/amazon_reviews_us_Music_v1_00.tsv.gz to s3://{}/amazon-reviews-pds/tsv/amazon_reviews_us_Music_v1_00.tsv.gz Parameter validation failed:\n",
      "Invalid bucket name \"{}\": Bucket name must match the regex \"^[a-zA-Z0-9.\\-_]{1,255}$\" or be an ARN matching the regex \"^arn:(aws).*:(s3|s3-object-lambda):[a-z\\-0-9]*:[0-9]{12}:accesspoint[/:][a-zA-Z0-9\\-.]{1,63}$|^arn:(aws).*:s3-outposts:[a-z\\-0-9]+:[0-9]{12}:outpost[/:][a-zA-Z0-9\\-]{1,63}[/:]accesspoint[/:][a-zA-Z0-9\\-]{1,63}$\"\n",
      "copy failed: s3://amazon-reviews-pds/tsv/amazon_reviews_us_Tools_v1_00.tsv.gz to s3://{}/amazon-reviews-pds/tsv/amazon_reviews_us_Tools_v1_00.tsv.gz Parameter validation failed:\n",
      "Invalid bucket name \"{}\": Bucket name must match the regex \"^[a-zA-Z0-9.\\-_]{1,255}$\" or be an ARN matching the regex \"^arn:(aws).*:(s3|s3-object-lambda):[a-z\\-0-9]*:[0-9]{12}:accesspoint[/:][a-zA-Z0-9\\-.]{1,63}$|^arn:(aws).*:s3-outposts:[a-z\\-0-9]+:[0-9]{12}:outpost[/:][a-zA-Z0-9\\-]{1,63}[/:]accesspoint[/:][a-zA-Z0-9\\-]{1,63}$\"\n",
      "copy failed: s3://amazon-reviews-pds/tsv/amazon_reviews_us_Pet_Products_v1_00.tsv.gz to s3://{}/amazon-reviews-pds/tsv/amazon_reviews_us_Pet_Products_v1_00.tsv.gz Parameter validation failed:\n",
      "Invalid bucket name \"{}\": Bucket name must match the regex \"^[a-zA-Z0-9.\\-_]{1,255}$\" or be an ARN matching the regex \"^arn:(aws).*:(s3|s3-object-lambda):[a-z\\-0-9]*:[0-9]{12}:accesspoint[/:][a-zA-Z0-9\\-.]{1,63}$|^arn:(aws).*:s3-outposts:[a-z\\-0-9]+:[0-9]{12}:outpost[/:][a-zA-Z0-9\\-]{1,63}[/:]accesspoint[/:][a-zA-Z0-9\\-]{1,63}$\"\n",
      "copy failed: s3://amazon-reviews-pds/tsv/amazon_reviews_us_Shoes_v1_00.tsv.gz to s3://{}/amazon-reviews-pds/tsv/amazon_reviews_us_Shoes_v1_00.tsv.gz Parameter validation failed:\n",
      "Invalid bucket name \"{}\": Bucket name must match the regex \"^[a-zA-Z0-9.\\-_]{1,255}$\" or be an ARN matching the regex \"^arn:(aws).*:(s3|s3-object-lambda):[a-z\\-0-9]*:[0-9]{12}:accesspoint[/:][a-zA-Z0-9\\-.]{1,63}$|^arn:(aws).*:s3-outposts:[a-z\\-0-9]+:[0-9]{12}:outpost[/:][a-zA-Z0-9\\-]{1,63}[/:]accesspoint[/:][a-zA-Z0-9\\-]{1,63}$\"\n",
      "copy failed: s3://amazon-reviews-pds/tsv/amazon_reviews_us_Toys_v1_00.tsv.gz to s3://{}/amazon-reviews-pds/tsv/amazon_reviews_us_Toys_v1_00.tsv.gz Parameter validation failed:\n",
      "Invalid bucket name \"{}\": Bucket name must match the regex \"^[a-zA-Z0-9.\\-_]{1,255}$\" or be an ARN matching the regex \"^arn:(aws).*:(s3|s3-object-lambda):[a-z\\-0-9]*:[0-9]{12}:accesspoint[/:][a-zA-Z0-9\\-.]{1,63}$|^arn:(aws).*:s3-outposts:[a-z\\-0-9]+:[0-9]{12}:outpost[/:][a-zA-Z0-9\\-]{1,63}[/:]accesspoint[/:][a-zA-Z0-9\\-]{1,63}$\"\n",
      "copy failed: s3://amazon-reviews-pds/tsv/amazon_reviews_us_Video_v1_00.tsv.gz to s3://{}/amazon-reviews-pds/tsv/amazon_reviews_us_Video_v1_00.tsv.gz Parameter validation failed:\n",
      "Invalid bucket name \"{}\": Bucket name must match the regex \"^[a-zA-Z0-9.\\-_]{1,255}$\" or be an ARN matching the regex \"^arn:(aws).*:(s3|s3-object-lambda):[a-z\\-0-9]*:[0-9]{12}:accesspoint[/:][a-zA-Z0-9\\-.]{1,63}$|^arn:(aws).*:s3-outposts:[a-z\\-0-9]+:[0-9]{12}:outpost[/:][a-zA-Z0-9\\-]{1,63}[/:]accesspoint[/:][a-zA-Z0-9\\-]{1,63}$\"\n",
      "copy failed: s3://amazon-reviews-pds/tsv/amazon_reviews_us_Video_Games_v1_00.tsv.gz to s3://{}/amazon-reviews-pds/tsv/amazon_reviews_us_Video_Games_v1_00.tsv.gz Parameter validation failed:\n",
      "Invalid bucket name \"{}\": Bucket name must match the regex \"^[a-zA-Z0-9.\\-_]{1,255}$\" or be an ARN matching the regex \"^arn:(aws).*:(s3|s3-object-lambda):[a-z\\-0-9]*:[0-9]{12}:accesspoint[/:][a-zA-Z0-9\\-.]{1,63}$|^arn:(aws).*:s3-outposts:[a-z\\-0-9]+:[0-9]{12}:outpost[/:][a-zA-Z0-9\\-]{1,63}[/:]accesspoint[/:][a-zA-Z0-9\\-]{1,63}$\"\n",
      "copy failed: s3://amazon-reviews-pds/tsv/amazon_reviews_us_Watches_v1_00.tsv.gz to s3://{}/amazon-reviews-pds/tsv/amazon_reviews_us_Watches_v1_00.tsv.gz Parameter validation failed:\n",
      "Invalid bucket name \"{}\": Bucket name must match the regex \"^[a-zA-Z0-9.\\-_]{1,255}$\" or be an ARN matching the regex \"^arn:(aws).*:(s3|s3-object-lambda):[a-z\\-0-9]*:[0-9]{12}:accesspoint[/:][a-zA-Z0-9\\-.]{1,63}$|^arn:(aws).*:s3-outposts:[a-z\\-0-9]+:[0-9]{12}:outpost[/:][a-zA-Z0-9\\-]{1,63}[/:]accesspoint[/:][a-zA-Z0-9\\-]{1,63}$\"\n",
      "copy failed: s3://amazon-reviews-pds/tsv/amazon_reviews_us_Sports_v1_00.tsv.gz to s3://{}/amazon-reviews-pds/tsv/amazon_reviews_us_Sports_v1_00.tsv.gz Parameter validation failed:\n",
      "Invalid bucket name \"{}\": Bucket name must match the regex \"^[a-zA-Z0-9.\\-_]{1,255}$\" or be an ARN matching the regex \"^arn:(aws).*:(s3|s3-object-lambda):[a-z\\-0-9]*:[0-9]{12}:accesspoint[/:][a-zA-Z0-9\\-.]{1,63}$|^arn:(aws).*:s3-outposts:[a-z\\-0-9]+:[0-9]{12}:outpost[/:][a-zA-Z0-9\\-]{1,63}[/:]accesspoint[/:][a-zA-Z0-9\\-]{1,63}$\"\n",
      "copy failed: s3://amazon-reviews-pds/tsv/index.txt to s3://{}/amazon-reviews-pds/tsv/index.txt Parameter validation failed:\n",
      "Invalid bucket name \"{}\": Bucket name must match the regex \"^[a-zA-Z0-9.\\-_]{1,255}$\" or be an ARN matching the regex \"^arn:(aws).*:(s3|s3-object-lambda):[a-z\\-0-9]*:[0-9]{12}:accesspoint[/:][a-zA-Z0-9\\-.]{1,63}$|^arn:(aws).*:s3-outposts:[a-z\\-0-9]+:[0-9]{12}:outpost[/:][a-zA-Z0-9\\-]{1,63}[/:]accesspoint[/:][a-zA-Z0-9\\-]{1,63}$\"\n",
      "copy failed: s3://amazon-reviews-pds/tsv/sample_us.tsv to s3://{}/amazon-reviews-pds/tsv/sample_us.tsv Parameter validation failed:\n",
      "Invalid bucket name \"{}\": Bucket name must match the regex \"^[a-zA-Z0-9.\\-_]{1,255}$\" or be an ARN matching the regex \"^arn:(aws).*:(s3|s3-object-lambda):[a-z\\-0-9]*:[0-9]{12}:accesspoint[/:][a-zA-Z0-9\\-.]{1,63}$|^arn:(aws).*:s3-outposts:[a-z\\-0-9]+:[0-9]{12}:outpost[/:][a-zA-Z0-9\\-]{1,63}[/:]accesspoint[/:][a-zA-Z0-9\\-]{1,63}$\"\n",
      "copy failed: s3://amazon-reviews-pds/tsv/sample_fr.tsv to s3://{}/amazon-reviews-pds/tsv/sample_fr.tsv Parameter validation failed:\n",
      "Invalid bucket name \"{}\": Bucket name must match the regex \"^[a-zA-Z0-9.\\-_]{1,255}$\" or be an ARN matching the regex \"^arn:(aws).*:(s3|s3-object-lambda):[a-z\\-0-9]*:[0-9]{12}:accesspoint[/:][a-zA-Z0-9\\-.]{1,63}$|^arn:(aws).*:s3-outposts:[a-z\\-0-9]+:[0-9]{12}:outpost[/:][a-zA-Z0-9\\-]{1,63}[/:]accesspoint[/:][a-zA-Z0-9\\-]{1,63}$\"\n",
      "copy failed: s3://amazon-reviews-pds/tsv/amazon_reviews_us_PC_v1_00.tsv.gz to s3://{}/amazon-reviews-pds/tsv/amazon_reviews_us_PC_v1_00.tsv.gz Parameter validation failed:\n",
      "Invalid bucket name \"{}\": Bucket name must match the regex \"^[a-zA-Z0-9.\\-_]{1,255}$\" or be an ARN matching the regex \"^arn:(aws).*:(s3|s3-object-lambda):[a-z\\-0-9]*:[0-9]{12}:accesspoint[/:][a-zA-Z0-9\\-.]{1,63}$|^arn:(aws).*:s3-outposts:[a-z\\-0-9]+:[0-9]{12}:outpost[/:][a-zA-Z0-9\\-]{1,63}[/:]accesspoint[/:][a-zA-Z0-9\\-]{1,63}$\"\n",
      "copy failed: s3://amazon-reviews-pds/tsv/amazon_reviews_us_Video_DVD_v1_00.tsv.gz to s3://{}/amazon-reviews-pds/tsv/amazon_reviews_us_Video_DVD_v1_00.tsv.gz Parameter validation failed:\n",
      "Invalid bucket name \"{}\": Bucket name must match the regex \"^[a-zA-Z0-9.\\-_]{1,255}$\" or be an ARN matching the regex \"^arn:(aws).*:(s3|s3-object-lambda):[a-z\\-0-9]*:[0-9]{12}:accesspoint[/:][a-zA-Z0-9\\-.]{1,63}$|^arn:(aws).*:s3-outposts:[a-z\\-0-9]+:[0-9]{12}:outpost[/:][a-zA-Z0-9\\-]{1,63}[/:]accesspoint[/:][a-zA-Z0-9\\-]{1,63}$\"\n",
      "copy failed: s3://amazon-reviews-pds/tsv/amazon_reviews_us_Wireless_v1_00.tsv.gz to s3://{}/amazon-reviews-pds/tsv/amazon_reviews_us_Wireless_v1_00.tsv.gz Parameter validation failed:\n",
      "Invalid bucket name \"{}\": Bucket name must match the regex \"^[a-zA-Z0-9.\\-_]{1,255}$\" or be an ARN matching the regex \"^arn:(aws).*:(s3|s3-object-lambda):[a-z\\-0-9]*:[0-9]{12}:accesspoint[/:][a-zA-Z0-9\\-.]{1,63}$|^arn:(aws).*:s3-outposts:[a-z\\-0-9]+:[0-9]{12}:outpost[/:][a-zA-Z0-9\\-]{1,63}[/:]accesspoint[/:][a-zA-Z0-9\\-]{1,63}$\"\n"
     ]
    }
   ],
   "source": []
  },
  {
   "cell_type": "code",
   "execution_count": null,
   "id": "d55341ce-37b2-4773-86d5-c6111bdeebfd",
   "metadata": {},
   "outputs": [],
   "source": []
  }
 ],
 "metadata": {
  "forced_instance_type": "ml.t3.medium",
  "forced_lcc_arn": "",
  "instance_type": "ml.t3.medium",
  "kernelspec": {
   "display_name": "Python 3 (Data Science)",
   "language": "python",
   "name": "python3__SAGEMAKER_INTERNAL__arn:aws:sagemaker:us-east-1:081325390199:image/datascience-1.0"
  },
  "language_info": {
   "codemirror_mode": {
    "name": "ipython",
    "version": 3
   },
   "file_extension": ".py",
   "mimetype": "text/x-python",
   "name": "python",
   "nbconvert_exporter": "python",
   "pygments_lexer": "ipython3",
   "version": "3.7.10"
  }
 },
 "nbformat": 4,
 "nbformat_minor": 5
}
