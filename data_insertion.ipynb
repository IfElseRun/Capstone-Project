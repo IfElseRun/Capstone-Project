{
 "cells": [
  {
   "cell_type": "code",
   "execution_count": 3,
   "id": "ea68a052-aa9e-4bf4-a9db-2b9b749e2fba",
   "metadata": {
    "tags": []
   },
   "outputs": [
    {
     "name": "stdout",
     "output_type": "stream",
     "text": [
      "2017-11-24 13:22:50          0 \n",
      "2017-11-24 13:48:03  241896005 amazon_reviews_multilingual_DE_v1_00.tsv.gz\n",
      "2017-11-24 13:48:17   70583516 amazon_reviews_multilingual_FR_v1_00.tsv.gz\n",
      "2017-11-24 13:48:34   94688992 amazon_reviews_multilingual_JP_v1_00.tsv.gz\n",
      "2017-11-24 13:49:14  349370868 amazon_reviews_multilingual_UK_v1_00.tsv.gz\n",
      "2017-11-24 13:48:47 1466965039 amazon_reviews_multilingual_US_v1_00.tsv.gz\n",
      "2017-11-24 13:49:53  648641286 amazon_reviews_us_Apparel_v1_00.tsv.gz\n",
      "2017-11-24 13:56:36  582145299 amazon_reviews_us_Automotive_v1_00.tsv.gz\n",
      "2017-11-24 14:04:02  357392893 amazon_reviews_us_Baby_v1_00.tsv.gz\n",
      "2017-11-24 14:08:11  914070021 amazon_reviews_us_Beauty_v1_00.tsv.gz\n",
      "2017-11-24 14:17:41 2740337188 amazon_reviews_us_Books_v1_00.tsv.gz\n",
      "2017-11-24 14:45:50 2692708591 amazon_reviews_us_Books_v1_01.tsv.gz\n",
      "2017-11-24 15:10:21 1329539135 amazon_reviews_us_Books_v1_02.tsv.gz\n",
      "2017-11-24 15:22:13  442653086 amazon_reviews_us_Camera_v1_00.tsv.gz\n",
      "2017-11-24 15:27:13 2689739299 amazon_reviews_us_Digital_Ebook_Purchase_v1_00.tsv.gz\n",
      "2017-11-24 15:49:13 1294879074 amazon_reviews_us_Digital_Ebook_Purchase_v1_01.tsv.gz\n",
      "2017-11-24 15:59:24  253570168 amazon_reviews_us_Digital_Music_Purchase_v1_00.tsv.gz\n",
      "2017-11-24 16:01:47   18997559 amazon_reviews_us_Digital_Software_v1_00.tsv.gz\n",
      "2017-11-24 16:01:53  506979922 amazon_reviews_us_Digital_Video_Download_v1_00.tsv.gz\n",
      "2017-11-24 16:06:31   27442648 amazon_reviews_us_Digital_Video_Games_v1_00.tsv.gz\n",
      "2017-11-24 16:06:42  698828243 amazon_reviews_us_Electronics_v1_00.tsv.gz\n",
      "2017-11-24 16:12:44  148982796 amazon_reviews_us_Furniture_v1_00.tsv.gz\n",
      "2017-11-24 16:13:52   12134676 amazon_reviews_us_Gift_Card_v1_00.tsv.gz\n",
      "2017-11-24 16:13:59  401337166 amazon_reviews_us_Grocery_v1_00.tsv.gz\n",
      "2017-11-24 19:55:29 1011180212 amazon_reviews_us_Health_Personal_Care_v1_00.tsv.gz\n",
      "2017-11-24 20:30:55  193168458 amazon_reviews_us_Home_Entertainment_v1_00.tsv.gz\n",
      "2017-11-24 20:37:56  503339178 amazon_reviews_us_Home_Improvement_v1_00.tsv.gz\n",
      "2017-11-24 20:55:43 1081002012 amazon_reviews_us_Home_v1_00.tsv.gz\n",
      "2017-11-24 21:47:51  247022254 amazon_reviews_us_Jewelry_v1_00.tsv.gz\n",
      "2017-11-24 21:59:56  930744854 amazon_reviews_us_Kitchen_v1_00.tsv.gz\n",
      "2017-11-24 23:41:48  486772662 amazon_reviews_us_Lawn_and_Garden_v1_00.tsv.gz\n",
      "2017-11-24 23:59:42   60320191 amazon_reviews_us_Luggage_v1_00.tsv.gz\n",
      "2017-11-25 00:01:59   24359816 amazon_reviews_us_Major_Appliances_v1_00.tsv.gz\n",
      "2017-11-25 00:02:45  557959415 amazon_reviews_us_Mobile_Apps_v1_00.tsv.gz\n",
      "2017-11-25 00:22:19   22870508 amazon_reviews_us_Mobile_Electronics_v1_00.tsv.gz\n",
      "2017-11-25 00:23:06 1521994296 amazon_reviews_us_Music_v1_00.tsv.gz\n",
      "2017-11-25 00:58:36  193389086 amazon_reviews_us_Musical_Instruments_v1_00.tsv.gz\n",
      "2017-11-25 01:03:14  512323500 amazon_reviews_us_Office_Products_v1_00.tsv.gz\n",
      "2017-11-25 07:21:21  448963100 amazon_reviews_us_Outdoors_v1_00.tsv.gz\n",
      "2017-11-25 07:32:46 1512903923 amazon_reviews_us_PC_v1_00.tsv.gz\n",
      "2017-11-25 08:10:33   17634794 amazon_reviews_us_Personal_Care_Appliances_v1_00.tsv.gz\n",
      "2017-11-25 08:11:02  515815253 amazon_reviews_us_Pet_Products_v1_00.tsv.gz\n",
      "2017-11-25 08:22:26  642255314 amazon_reviews_us_Shoes_v1_00.tsv.gz\n",
      "2017-11-25 08:39:15   94010685 amazon_reviews_us_Software_v1_00.tsv.gz\n",
      "2017-11-27 10:36:58  872478735 amazon_reviews_us_Sports_v1_00.tsv.gz\n",
      "2017-11-25 08:52:11  333782939 amazon_reviews_us_Tools_v1_00.tsv.gz\n",
      "2017-11-25 09:06:08  838451398 amazon_reviews_us_Toys_v1_00.tsv.gz\n",
      "2017-11-25 09:42:13 1512355451 amazon_reviews_us_Video_DVD_v1_00.tsv.gz\n",
      "2017-11-25 10:50:22  475199894 amazon_reviews_us_Video_Games_v1_00.tsv.gz\n",
      "2017-11-25 11:07:59  138929896 amazon_reviews_us_Video_v1_00.tsv.gz\n",
      "2017-11-25 11:14:07  162973819 amazon_reviews_us_Watches_v1_00.tsv.gz\n",
      "2017-11-26 15:24:07 1704713674 amazon_reviews_us_Wireless_v1_00.tsv.gz\n",
      "2022-02-17 08:46:18       6162 index.txt\n",
      "2017-11-27 11:08:16      17553 sample_fr.tsv\n",
      "2017-11-27 11:08:17      15906 sample_us.tsv\n"
     ]
    }
   ],
   "source": [
    "!aws s3 ls s3://amazon-reviews-pds/tsv/"
   ]
  },
  {
   "cell_type": "code",
   "execution_count": 4,
   "id": "d8ae66df-8311-46b8-b7a2-e57f50907635",
   "metadata": {
    "tags": []
   },
   "outputs": [
    {
     "name": "stdout",
     "output_type": "stream",
     "text": [
      "                           PRE product_category=Apparel/\n",
      "                           PRE product_category=Automotive/\n",
      "                           PRE product_category=Baby/\n",
      "                           PRE product_category=Beauty/\n",
      "                           PRE product_category=Books/\n",
      "                           PRE product_category=Camera/\n",
      "                           PRE product_category=Digital_Ebook_Purchase/\n",
      "                           PRE product_category=Digital_Music_Purchase/\n",
      "                           PRE product_category=Digital_Software/\n",
      "                           PRE product_category=Digital_Video_Download/\n",
      "                           PRE product_category=Digital_Video_Games/\n",
      "                           PRE product_category=Electronics/\n",
      "                           PRE product_category=Furniture/\n",
      "                           PRE product_category=Gift_Card/\n",
      "                           PRE product_category=Grocery/\n",
      "                           PRE product_category=Health_&_Personal_Care/\n",
      "                           PRE product_category=Home/\n",
      "                           PRE product_category=Home_Entertainment/\n",
      "                           PRE product_category=Home_Improvement/\n",
      "                           PRE product_category=Jewelry/\n",
      "                           PRE product_category=Kitchen/\n",
      "                           PRE product_category=Lawn_and_Garden/\n",
      "                           PRE product_category=Luggage/\n",
      "                           PRE product_category=Major_Appliances/\n",
      "                           PRE product_category=Mobile_Apps/\n",
      "                           PRE product_category=Mobile_Electronics/\n",
      "                           PRE product_category=Music/\n",
      "                           PRE product_category=Musical_Instruments/\n",
      "                           PRE product_category=Office_Products/\n",
      "                           PRE product_category=Outdoors/\n",
      "                           PRE product_category=PC/\n",
      "                           PRE product_category=Personal_Care_Appliances/\n",
      "                           PRE product_category=Pet_Products/\n",
      "                           PRE product_category=Shoes/\n",
      "                           PRE product_category=Software/\n",
      "                           PRE product_category=Sports/\n",
      "                           PRE product_category=Tools/\n",
      "                           PRE product_category=Toys/\n",
      "                           PRE product_category=Video/\n",
      "                           PRE product_category=Video_DVD/\n",
      "                           PRE product_category=Video_Games/\n",
      "                           PRE product_category=Watches/\n",
      "                           PRE product_category=Wireless/\n"
     ]
    }
   ],
   "source": [
    "!aws s3 ls s3://amazon-reviews-pds/parquet/"
   ]
  },
  {
   "cell_type": "code",
   "execution_count": 3,
   "id": "d739cdc5-9f33-4425-bdb2-18b5fde38989",
   "metadata": {
    "tags": []
   },
   "outputs": [],
   "source": [
    "import boto3\n",
    "import sagemaker\n",
    "import pandas as pd\n",
    "import awswrangler as wr\n",
    "\n",
    "sess = sagemaker.Session()\n",
    "bucket = sess.default_bucket()\n",
    "role = sagemaker.get_execution_role()\n",
    "region = boto3.Session().region_name\n",
    "account_id = boto3.client(\"sts\").get_caller_identity().get(\"Account\")\n",
    "\n",
    "sm = boto3.Session().client(service_name=\"sagemaker\", region_name=region)"
   ]
  },
  {
   "cell_type": "code",
   "execution_count": 23,
   "id": "3c8880ee-5e63-437d-9487-2d0eaa6ec042",
   "metadata": {
    "tags": []
   },
   "outputs": [
    {
     "name": "stdout",
     "output_type": "stream",
     "text": [
      "make_bucket: amazon-reviews-capstone\n"
     ]
    }
   ],
   "source": [
    "!aws s3 mb s3://amazon-reviews-capstone"
   ]
  },
  {
   "cell_type": "code",
   "execution_count": 25,
   "id": "83b0ef0d-2030-4e6d-9f87-9231afafe417",
   "metadata": {
    "tags": []
   },
   "outputs": [],
   "source": [
    "s3_public_source_tsv = \"s3://amazon-reviews-pds/tsv\""
   ]
  },
  {
   "cell_type": "code",
   "execution_count": 26,
   "id": "33f1a841-de8e-4485-8bc2-7aac4ceb8a1b",
   "metadata": {
    "tags": []
   },
   "outputs": [
    {
     "name": "stdout",
     "output_type": "stream",
     "text": [
      "Stored 's3_source_tsv' (str)\n"
     ]
    }
   ],
   "source": [
    "%store s3_source_tsv"
   ]
  },
  {
   "cell_type": "code",
   "execution_count": 27,
   "id": "18a21f28-aa68-4828-bd07-e514dd29d926",
   "metadata": {
    "tags": []
   },
   "outputs": [
    {
     "name": "stdout",
     "output_type": "stream",
     "text": [
      "s3://amazon-reviews-capstone/amazon-reviews-pds/tsv\n"
     ]
    }
   ],
   "source": [
    "s3_private_source_tsv = \"s3://amazon-reviews-capstone/amazon-reviews-pds/tsv\".format(bucket)\n",
    "print(s3_private_source_tsv)"
   ]
  },
  {
   "cell_type": "code",
   "execution_count": 28,
   "id": "cac4753d-757a-4861-b643-5736abe062cb",
   "metadata": {
    "tags": []
   },
   "outputs": [
    {
     "name": "stdout",
     "output_type": "stream",
     "text": [
      "Stored 's3_private_source_tsv' (str)\n"
     ]
    }
   ],
   "source": [
    "%store s3_private_source_tsv"
   ]
  },
  {
   "cell_type": "code",
   "execution_count": 29,
   "id": "7b1a46e6-791a-4785-b23d-21797f54ab27",
   "metadata": {
    "tags": []
   },
   "outputs": [
    {
     "name": "stdout",
     "output_type": "stream",
     "text": [
      "copy: s3://amazon-reviews-pds/tsv/amazon_reviews_multilingual_FR_v1_00.tsv.gz to s3://amazon-reviews-capstone/amazon-reviews-pds/tsv/amazon_reviews_multilingual_FR_v1_00.tsv.gz\n",
      "copy: s3://amazon-reviews-pds/tsv/amazon_reviews_multilingual_JP_v1_00.tsv.gz to s3://amazon-reviews-capstone/amazon-reviews-pds/tsv/amazon_reviews_multilingual_JP_v1_00.tsv.gz\n",
      "copy: s3://amazon-reviews-pds/tsv/amazon_reviews_us_Apparel_v1_00.tsv.gz to s3://amazon-reviews-capstone/amazon-reviews-pds/tsv/amazon_reviews_us_Apparel_v1_00.tsv.gz\n",
      "copy: s3://amazon-reviews-pds/tsv/amazon_reviews_multilingual_DE_v1_00.tsv.gz to s3://amazon-reviews-capstone/amazon-reviews-pds/tsv/amazon_reviews_multilingual_DE_v1_00.tsv.gz\n",
      "copy: s3://amazon-reviews-pds/tsv/amazon_reviews_multilingual_UK_v1_00.tsv.gz to s3://amazon-reviews-capstone/amazon-reviews-pds/tsv/amazon_reviews_multilingual_UK_v1_00.tsv.gz\n",
      "copy: s3://amazon-reviews-pds/tsv/amazon_reviews_us_Beauty_v1_00.tsv.gz to s3://amazon-reviews-capstone/amazon-reviews-pds/tsv/amazon_reviews_us_Beauty_v1_00.tsv.gz\n",
      "copy: s3://amazon-reviews-pds/tsv/amazon_reviews_us_Baby_v1_00.tsv.gz to s3://amazon-reviews-capstone/amazon-reviews-pds/tsv/amazon_reviews_us_Baby_v1_00.tsv.gz\n",
      "copy: s3://amazon-reviews-pds/tsv/amazon_reviews_us_Automotive_v1_00.tsv.gz to s3://amazon-reviews-capstone/amazon-reviews-pds/tsv/amazon_reviews_us_Automotive_v1_00.tsv.gz\n",
      "copy: s3://amazon-reviews-pds/tsv/amazon_reviews_multilingual_US_v1_00.tsv.gz to s3://amazon-reviews-capstone/amazon-reviews-pds/tsv/amazon_reviews_multilingual_US_v1_00.tsv.gz\n",
      "copy: s3://amazon-reviews-pds/tsv/amazon_reviews_us_Camera_v1_00.tsv.gz to s3://amazon-reviews-capstone/amazon-reviews-pds/tsv/amazon_reviews_us_Camera_v1_00.tsv.gz\n",
      "copy: s3://amazon-reviews-pds/tsv/amazon_reviews_us_Books_v1_02.tsv.gz to s3://amazon-reviews-capstone/amazon-reviews-pds/tsv/amazon_reviews_us_Books_v1_02.tsv.gz\n",
      "copy: s3://amazon-reviews-pds/tsv/amazon_reviews_us_Digital_Music_Purchase_v1_00.tsv.gz to s3://amazon-reviews-capstone/amazon-reviews-pds/tsv/amazon_reviews_us_Digital_Music_Purchase_v1_00.tsv.gz\n",
      "copy: s3://amazon-reviews-pds/tsv/amazon_reviews_us_Digital_Software_v1_00.tsv.gz to s3://amazon-reviews-capstone/amazon-reviews-pds/tsv/amazon_reviews_us_Digital_Software_v1_00.tsv.gz\n",
      "copy: s3://amazon-reviews-pds/tsv/amazon_reviews_us_Digital_Video_Download_v1_00.tsv.gz to s3://amazon-reviews-capstone/amazon-reviews-pds/tsv/amazon_reviews_us_Digital_Video_Download_v1_00.tsv.gz\n",
      "copy: s3://amazon-reviews-pds/tsv/amazon_reviews_us_Digital_Video_Games_v1_00.tsv.gz to s3://amazon-reviews-capstone/amazon-reviews-pds/tsv/amazon_reviews_us_Digital_Video_Games_v1_00.tsv.gz\n",
      "copy: s3://amazon-reviews-pds/tsv/amazon_reviews_us_Digital_Ebook_Purchase_v1_01.tsv.gz to s3://amazon-reviews-capstone/amazon-reviews-pds/tsv/amazon_reviews_us_Digital_Ebook_Purchase_v1_01.tsv.gz\n",
      "copy: s3://amazon-reviews-pds/tsv/amazon_reviews_us_Furniture_v1_00.tsv.gz to s3://amazon-reviews-capstone/amazon-reviews-pds/tsv/amazon_reviews_us_Furniture_v1_00.tsv.gz\n",
      "copy: s3://amazon-reviews-pds/tsv/amazon_reviews_us_Gift_Card_v1_00.tsv.gz to s3://amazon-reviews-capstone/amazon-reviews-pds/tsv/amazon_reviews_us_Gift_Card_v1_00.tsv.gz\n",
      "copy: s3://amazon-reviews-pds/tsv/amazon_reviews_us_Electronics_v1_00.tsv.gz to s3://amazon-reviews-capstone/amazon-reviews-pds/tsv/amazon_reviews_us_Electronics_v1_00.tsv.gz\n",
      "copy: s3://amazon-reviews-pds/tsv/amazon_reviews_us_Books_v1_00.tsv.gz to s3://amazon-reviews-capstone/amazon-reviews-pds/tsv/amazon_reviews_us_Books_v1_00.tsv.gz\n",
      "copy: s3://amazon-reviews-pds/tsv/amazon_reviews_us_Books_v1_01.tsv.gz to s3://amazon-reviews-capstone/amazon-reviews-pds/tsv/amazon_reviews_us_Books_v1_01.tsv.gz\n",
      "copy: s3://amazon-reviews-pds/tsv/amazon_reviews_us_Grocery_v1_00.tsv.gz to s3://amazon-reviews-capstone/amazon-reviews-pds/tsv/amazon_reviews_us_Grocery_v1_00.tsv.gz\n",
      "copy: s3://amazon-reviews-pds/tsv/amazon_reviews_us_Home_Entertainment_v1_00.tsv.gz to s3://amazon-reviews-capstone/amazon-reviews-pds/tsv/amazon_reviews_us_Home_Entertainment_v1_00.tsv.gz\n",
      "copy: s3://amazon-reviews-pds/tsv/amazon_reviews_us_Jewelry_v1_00.tsv.gz to s3://amazon-reviews-capstone/amazon-reviews-pds/tsv/amazon_reviews_us_Jewelry_v1_00.tsv.gz\n",
      "copy: s3://amazon-reviews-pds/tsv/amazon_reviews_us_Home_Improvement_v1_00.tsv.gz to s3://amazon-reviews-capstone/amazon-reviews-pds/tsv/amazon_reviews_us_Home_Improvement_v1_00.tsv.gz\n",
      "copy: s3://amazon-reviews-pds/tsv/amazon_reviews_us_Digital_Ebook_Purchase_v1_00.tsv.gz to s3://amazon-reviews-capstone/amazon-reviews-pds/tsv/amazon_reviews_us_Digital_Ebook_Purchase_v1_00.tsv.gz\n",
      "copy: s3://amazon-reviews-pds/tsv/amazon_reviews_us_Health_Personal_Care_v1_00.tsv.gz to s3://amazon-reviews-capstone/amazon-reviews-pds/tsv/amazon_reviews_us_Health_Personal_Care_v1_00.tsv.gz\n",
      "copy: s3://amazon-reviews-pds/tsv/amazon_reviews_us_Major_Appliances_v1_00.tsv.gz to s3://amazon-reviews-capstone/amazon-reviews-pds/tsv/amazon_reviews_us_Major_Appliances_v1_00.tsv.gz\n",
      "copy: s3://amazon-reviews-pds/tsv/amazon_reviews_us_Luggage_v1_00.tsv.gz to s3://amazon-reviews-capstone/amazon-reviews-pds/tsv/amazon_reviews_us_Luggage_v1_00.tsv.gz\n",
      "copy: s3://amazon-reviews-pds/tsv/amazon_reviews_us_Mobile_Electronics_v1_00.tsv.gz to s3://amazon-reviews-capstone/amazon-reviews-pds/tsv/amazon_reviews_us_Mobile_Electronics_v1_00.tsv.gz\n",
      "copy: s3://amazon-reviews-pds/tsv/amazon_reviews_us_Lawn_and_Garden_v1_00.tsv.gz to s3://amazon-reviews-capstone/amazon-reviews-pds/tsv/amazon_reviews_us_Lawn_and_Garden_v1_00.tsv.gz\n",
      "copy: s3://amazon-reviews-pds/tsv/amazon_reviews_us_Home_v1_00.tsv.gz to s3://amazon-reviews-capstone/amazon-reviews-pds/tsv/amazon_reviews_us_Home_v1_00.tsv.gz\n",
      "copy: s3://amazon-reviews-pds/tsv/amazon_reviews_us_Musical_Instruments_v1_00.tsv.gz to s3://amazon-reviews-capstone/amazon-reviews-pds/tsv/amazon_reviews_us_Musical_Instruments_v1_00.tsv.gz\n",
      "copy: s3://amazon-reviews-pds/tsv/amazon_reviews_us_Kitchen_v1_00.tsv.gz to s3://amazon-reviews-capstone/amazon-reviews-pds/tsv/amazon_reviews_us_Kitchen_v1_00.tsv.gz\n",
      "copy: s3://amazon-reviews-pds/tsv/amazon_reviews_us_Mobile_Apps_v1_00.tsv.gz to s3://amazon-reviews-capstone/amazon-reviews-pds/tsv/amazon_reviews_us_Mobile_Apps_v1_00.tsv.gz\n",
      "copy: s3://amazon-reviews-pds/tsv/amazon_reviews_us_Personal_Care_Appliances_v1_00.tsv.gz to s3://amazon-reviews-capstone/amazon-reviews-pds/tsv/amazon_reviews_us_Personal_Care_Appliances_v1_00.tsv.gz\n",
      "copy: s3://amazon-reviews-pds/tsv/amazon_reviews_us_Office_Products_v1_00.tsv.gz to s3://amazon-reviews-capstone/amazon-reviews-pds/tsv/amazon_reviews_us_Office_Products_v1_00.tsv.gz\n",
      "copy: s3://amazon-reviews-pds/tsv/amazon_reviews_us_Outdoors_v1_00.tsv.gz to s3://amazon-reviews-capstone/amazon-reviews-pds/tsv/amazon_reviews_us_Outdoors_v1_00.tsv.gz\n",
      "copy: s3://amazon-reviews-pds/tsv/amazon_reviews_us_Software_v1_00.tsv.gz to s3://amazon-reviews-capstone/amazon-reviews-pds/tsv/amazon_reviews_us_Software_v1_00.tsv.gz\n",
      "copy: s3://amazon-reviews-pds/tsv/amazon_reviews_us_Pet_Products_v1_00.tsv.gz to s3://amazon-reviews-capstone/amazon-reviews-pds/tsv/amazon_reviews_us_Pet_Products_v1_00.tsv.gz\n",
      "copy: s3://amazon-reviews-pds/tsv/amazon_reviews_us_Tools_v1_00.tsv.gz to s3://amazon-reviews-capstone/amazon-reviews-pds/tsv/amazon_reviews_us_Tools_v1_00.tsv.gz\n",
      "copy: s3://amazon-reviews-pds/tsv/amazon_reviews_us_Shoes_v1_00.tsv.gz to s3://amazon-reviews-capstone/amazon-reviews-pds/tsv/amazon_reviews_us_Shoes_v1_00.tsv.gz\n",
      "copy: s3://amazon-reviews-pds/tsv/amazon_reviews_us_Music_v1_00.tsv.gz to s3://amazon-reviews-capstone/amazon-reviews-pds/tsv/amazon_reviews_us_Music_v1_00.tsv.gz\n",
      "copy: s3://amazon-reviews-pds/tsv/amazon_reviews_us_Sports_v1_00.tsv.gz to s3://amazon-reviews-capstone/amazon-reviews-pds/tsv/amazon_reviews_us_Sports_v1_00.tsv.gz\n",
      "copy: s3://amazon-reviews-pds/tsv/amazon_reviews_us_Video_Games_v1_00.tsv.gz to s3://amazon-reviews-capstone/amazon-reviews-pds/tsv/amazon_reviews_us_Video_Games_v1_00.tsv.gz\n",
      "copy: s3://amazon-reviews-pds/tsv/amazon_reviews_us_PC_v1_00.tsv.gz to s3://amazon-reviews-capstone/amazon-reviews-pds/tsv/amazon_reviews_us_PC_v1_00.tsv.gz\n",
      "copy: s3://amazon-reviews-pds/tsv/amazon_reviews_us_Video_v1_00.tsv.gz to s3://amazon-reviews-capstone/amazon-reviews-pds/tsv/amazon_reviews_us_Video_v1_00.tsv.gz\n",
      "copy: s3://amazon-reviews-pds/tsv/index.txt to s3://amazon-reviews-capstone/amazon-reviews-pds/tsv/index.txt\n",
      "copy: s3://amazon-reviews-pds/tsv/sample_fr.tsv to s3://amazon-reviews-capstone/amazon-reviews-pds/tsv/sample_fr.tsv\n",
      "copy: s3://amazon-reviews-pds/tsv/sample_us.tsv to s3://amazon-reviews-capstone/amazon-reviews-pds/tsv/sample_us.tsv\n",
      "copy: s3://amazon-reviews-pds/tsv/amazon_reviews_us_Watches_v1_00.tsv.gz to s3://amazon-reviews-capstone/amazon-reviews-pds/tsv/amazon_reviews_us_Watches_v1_00.tsv.gz\n",
      "copy: s3://amazon-reviews-pds/tsv/amazon_reviews_us_Toys_v1_00.tsv.gz to s3://amazon-reviews-capstone/amazon-reviews-pds/tsv/amazon_reviews_us_Toys_v1_00.tsv.gz\n",
      "copy: s3://amazon-reviews-pds/tsv/amazon_reviews_us_Video_DVD_v1_00.tsv.gz to s3://amazon-reviews-capstone/amazon-reviews-pds/tsv/amazon_reviews_us_Video_DVD_v1_00.tsv.gz\n",
      "copy: s3://amazon-reviews-pds/tsv/amazon_reviews_us_Wireless_v1_00.tsv.gz to s3://amazon-reviews-capstone/amazon-reviews-pds/tsv/amazon_reviews_us_Wireless_v1_00.tsv.gz\n"
     ]
    }
   ],
   "source": [
    "!aws s3 cp --recursive $s3_public_source_tsv/ $s3_private_source_tsv/"
   ]
  },
  {
   "cell_type": "code",
   "execution_count": 38,
   "id": "d55341ce-37b2-4773-86d5-c6111bdeebfd",
   "metadata": {},
   "outputs": [
    {
     "name": "stdout",
     "output_type": "stream",
     "text": [
      "Requirement already satisfied: PyAthena in /opt/conda/lib/python3.7/site-packages (2.23.0)\n",
      "Requirement already satisfied: boto3>=1.26.4 in /opt/conda/lib/python3.7/site-packages (from PyAthena) (1.26.69)\n",
      "Requirement already satisfied: fsspec in /opt/conda/lib/python3.7/site-packages (from PyAthena) (2023.1.0)\n",
      "Requirement already satisfied: botocore>=1.29.4 in /opt/conda/lib/python3.7/site-packages (from PyAthena) (1.29.69)\n",
      "Requirement already satisfied: tenacity>=4.1.0 in /opt/conda/lib/python3.7/site-packages (from PyAthena) (8.2.1)\n",
      "Requirement already satisfied: s3transfer<0.7.0,>=0.6.0 in /opt/conda/lib/python3.7/site-packages (from boto3>=1.26.4->PyAthena) (0.6.0)\n",
      "Requirement already satisfied: jmespath<2.0.0,>=0.7.1 in /opt/conda/lib/python3.7/site-packages (from boto3>=1.26.4->PyAthena) (1.0.1)\n",
      "Requirement already satisfied: python-dateutil<3.0.0,>=2.1 in /opt/conda/lib/python3.7/site-packages (from botocore>=1.29.4->PyAthena) (2.8.2)\n",
      "Requirement already satisfied: urllib3<1.27,>=1.25.4 in /opt/conda/lib/python3.7/site-packages (from botocore>=1.29.4->PyAthena) (1.26.14)\n",
      "Requirement already satisfied: six>=1.5 in /opt/conda/lib/python3.7/site-packages (from python-dateutil<3.0.0,>=2.1->botocore>=1.29.4->PyAthena) (1.14.0)\n",
      "\u001b[33mWARNING: Running pip as the 'root' user can result in broken permissions and conflicting behaviour with the system package manager. It is recommended to use a virtual environment instead: https://pip.pypa.io/warnings/venv\u001b[0m\u001b[33m\n",
      "\u001b[0m\n",
      "\u001b[1m[\u001b[0m\u001b[34;49mnotice\u001b[0m\u001b[1;39;49m]\u001b[0m\u001b[39;49m A new release of pip is available: \u001b[0m\u001b[31;49m23.0\u001b[0m\u001b[39;49m -> \u001b[0m\u001b[32;49m23.0.1\u001b[0m\n",
      "\u001b[1m[\u001b[0m\u001b[34;49mnotice\u001b[0m\u001b[1;39;49m]\u001b[0m\u001b[39;49m To update, run: \u001b[0m\u001b[32;49mpip install --upgrade pip\u001b[0m\n"
     ]
    }
   ],
   "source": [
    "import sys\n",
    "!{sys.executable} -m pip install PyAthena\n",
    "db_name = \"amazon_reviews_capstone\""
   ]
  },
  {
   "cell_type": "code",
   "execution_count": 40,
   "id": "0eebb8cb-e2e2-40d4-8c66-2b7e1354c579",
   "metadata": {
    "tags": []
   },
   "outputs": [],
   "source": [
    "from pyathena import connect\n",
    "import pandas as pd\n",
    "conn = connect(s3_staging_dir = \"s3://{0}/athena/staging\".format(bucket),\n",
    "               region_name=\"us-east-1\")\n",
    "\n"
   ]
  },
  {
   "cell_type": "code",
   "execution_count": 41,
   "id": "496e4792-4bf6-48d4-9ebd-c5b510715031",
   "metadata": {
    "tags": []
   },
   "outputs": [
    {
     "name": "stdout",
     "output_type": "stream",
     "text": [
      "CREATE DATABASE IF NOT EXISTS amazon_reviews_capstone\n"
     ]
    }
   ],
   "source": [
    "statement = \"CREATE DATABASE IF NOT EXISTS {}\".format(db_name)\n",
    "print(statement)"
   ]
  },
  {
   "cell_type": "code",
   "execution_count": 42,
   "id": "47c0de10-5dd2-41c4-9483-b77875a52c00",
   "metadata": {
    "tags": []
   },
   "outputs": [
    {
     "data": {
      "text/html": [
       "<div>\n",
       "<style scoped>\n",
       "    .dataframe tbody tr th:only-of-type {\n",
       "        vertical-align: middle;\n",
       "    }\n",
       "\n",
       "    .dataframe tbody tr th {\n",
       "        vertical-align: top;\n",
       "    }\n",
       "\n",
       "    .dataframe thead th {\n",
       "        text-align: right;\n",
       "    }\n",
       "</style>\n",
       "<table border=\"1\" class=\"dataframe\">\n",
       "  <thead>\n",
       "    <tr style=\"text-align: right;\">\n",
       "      <th></th>\n",
       "    </tr>\n",
       "  </thead>\n",
       "  <tbody>\n",
       "  </tbody>\n",
       "</table>\n",
       "</div>"
      ],
      "text/plain": [
       "Empty DataFrame\n",
       "Columns: []\n",
       "Index: []"
      ]
     },
     "execution_count": 42,
     "metadata": {},
     "output_type": "execute_result"
    }
   ],
   "source": [
    "import pandas as pd\n",
    "\n",
    "pd.read_sql(statement, conn)"
   ]
  },
  {
   "cell_type": "code",
   "execution_count": 225,
   "id": "64929a09-3221-4d1e-9929-98741f94850c",
   "metadata": {
    "tags": []
   },
   "outputs": [
    {
     "name": "stdout",
     "output_type": "stream",
     "text": [
      "CREATE EXTERNAL TABLE IF NOT EXISTS amazon_reviews_capstone.amazon_reviews_tsv(\n",
      "    marketplace string,\n",
      "    customer_id string,\n",
      "    review_id string,\n",
      "    product_id string,\n",
      "    product_parent string,\n",
      "    product_title string,\n",
      "    product_category string,\n",
      "    star_rating int,\n",
      "    helpful_votes int,\n",
      "    total_votes int,\n",
      "    vine string,\n",
      "    verified_purchase string,\n",
      "    review_headline string,\n",
      "    review_body string,\n",
      "    review_date string\n",
      "    ) \n",
      "    ROW FORMAT DELIMITED FIELDS TERMINATED BY '\t'\n",
      "    LINES TERMINATED BY '\n",
      "'\n",
      "    LOCATION 's3://amazon-reviews-capstone/amazon-reviews-pds/tsv'\n",
      "    TBLPROPERTIES ('compressionType'='gzip', 'skip.header.line.count'='1')\n"
     ]
    }
   ],
   "source": [
    "table_name_tsv = \"amazon_reviews_tsv\"\n",
    "\n",
    "# SQL statement to execute\n",
    "statement1 = \"\"\"CREATE EXTERNAL TABLE IF NOT EXISTS amazon_reviews_capstone.amazon_reviews_tsv(\n",
    "    marketplace string,\n",
    "    customer_id string,\n",
    "    review_id string,\n",
    "    product_id string,\n",
    "    product_parent string,\n",
    "    product_title string,\n",
    "    product_category string,\n",
    "    star_rating int,\n",
    "    helpful_votes int,\n",
    "    total_votes int,\n",
    "    vine string,\n",
    "    verified_purchase string,\n",
    "    review_headline string,\n",
    "    review_body string,\n",
    "    review_date string\n",
    "    ) \n",
    "    ROW FORMAT DELIMITED FIELDS TERMINATED BY '\\t'\n",
    "    LINES TERMINATED BY '\\n'\n",
    "    LOCATION 's3://amazon-reviews-capstone/amazon-reviews-pds/tsv'\n",
    "    TBLPROPERTIES ('compressionType'='gzip', 'skip.header.line.count'='1')\"\"\"\n",
    "\n",
    "pd.read_sql(statement1, conn)\n",
    "print(statement1)"
   ]
  },
  {
   "cell_type": "code",
   "execution_count": 82,
   "id": "3c0cba45-03d1-4fc7-a733-6dfe0a1115ec",
   "metadata": {
    "tags": []
   },
   "outputs": [
    {
     "data": {
      "text/html": [
       "<div>\n",
       "<style scoped>\n",
       "    .dataframe tbody tr th:only-of-type {\n",
       "        vertical-align: middle;\n",
       "    }\n",
       "\n",
       "    .dataframe tbody tr th {\n",
       "        vertical-align: top;\n",
       "    }\n",
       "\n",
       "    .dataframe thead th {\n",
       "        text-align: right;\n",
       "    }\n",
       "</style>\n",
       "<table border=\"1\" class=\"dataframe\">\n",
       "  <thead>\n",
       "    <tr style=\"text-align: right;\">\n",
       "      <th></th>\n",
       "      <th>marketplace</th>\n",
       "      <th>customer_id</th>\n",
       "      <th>review_id</th>\n",
       "      <th>product_id</th>\n",
       "      <th>product_parent</th>\n",
       "      <th>product_title</th>\n",
       "      <th>product_category</th>\n",
       "      <th>star_rating</th>\n",
       "      <th>helpful_votes</th>\n",
       "      <th>total_votes</th>\n",
       "      <th>vine</th>\n",
       "      <th>verified_purchase</th>\n",
       "      <th>review_headline</th>\n",
       "      <th>review_body</th>\n",
       "      <th>review_date</th>\n",
       "    </tr>\n",
       "  </thead>\n",
       "  <tbody>\n",
       "    <tr>\n",
       "      <th>0</th>\n",
       "      <td>US</td>\n",
       "      <td>35471030</td>\n",
       "      <td>R1C5OK9AND7PRP</td>\n",
       "      <td>B00AHK07V0</td>\n",
       "      <td>175130663</td>\n",
       "      <td>Hunter's Moon (A Kate Shugak Investigation Boo...</td>\n",
       "      <td>Digital_Ebook_Purchase</td>\n",
       "      <td>5</td>\n",
       "      <td>0</td>\n",
       "      <td>0</td>\n",
       "      <td>N</td>\n",
       "      <td>Y</td>\n",
       "      <td>Shugak is like a milder, more withdrawn Reacher</td>\n",
       "      <td>This is the most intense of the Kate Shugak se...</td>\n",
       "      <td>2015-08-31</td>\n",
       "    </tr>\n",
       "    <tr>\n",
       "      <th>1</th>\n",
       "      <td>US</td>\n",
       "      <td>26579324</td>\n",
       "      <td>R333RNBQMPVUFT</td>\n",
       "      <td>B014085WTQ</td>\n",
       "      <td>859232728</td>\n",
       "      <td>Flying Toward Forgiveness</td>\n",
       "      <td>Digital_Ebook_Purchase</td>\n",
       "      <td>5</td>\n",
       "      <td>0</td>\n",
       "      <td>0</td>\n",
       "      <td>N</td>\n",
       "      <td>Y</td>\n",
       "      <td>For the young heart that, ages later, asks \"wh...</td>\n",
       "      <td>This story holds so much more than meets the e...</td>\n",
       "      <td>2015-08-31</td>\n",
       "    </tr>\n",
       "    <tr>\n",
       "      <th>2</th>\n",
       "      <td>US</td>\n",
       "      <td>9152364</td>\n",
       "      <td>R2A2K0GTNSKXM1</td>\n",
       "      <td>B0113MFPN0</td>\n",
       "      <td>411472516</td>\n",
       "      <td>Falling For A Real Nigga</td>\n",
       "      <td>Digital_Ebook_Purchase</td>\n",
       "      <td>5</td>\n",
       "      <td>0</td>\n",
       "      <td>0</td>\n",
       "      <td>N</td>\n",
       "      <td>N</td>\n",
       "      <td>Five Stars</td>\n",
       "      <td>A true love story I think.</td>\n",
       "      <td>2015-08-31</td>\n",
       "    </tr>\n",
       "    <tr>\n",
       "      <th>3</th>\n",
       "      <td>US</td>\n",
       "      <td>52087605</td>\n",
       "      <td>R365LAQ9REV876</td>\n",
       "      <td>B00T8RIK7G</td>\n",
       "      <td>353828021</td>\n",
       "      <td>The Good Neighbor</td>\n",
       "      <td>Digital_Ebook_Purchase</td>\n",
       "      <td>3</td>\n",
       "      <td>0</td>\n",
       "      <td>0</td>\n",
       "      <td>N</td>\n",
       "      <td>Y</td>\n",
       "      <td>Not really my type of read</td>\n",
       "      <td>A bit contrived and weak for my liking. I did ...</td>\n",
       "      <td>2015-08-31</td>\n",
       "    </tr>\n",
       "    <tr>\n",
       "      <th>4</th>\n",
       "      <td>US</td>\n",
       "      <td>46454660</td>\n",
       "      <td>R294OF3SNH6SWZ</td>\n",
       "      <td>B00EMXBDMA</td>\n",
       "      <td>803172158</td>\n",
       "      <td>The Martian: A Novel</td>\n",
       "      <td>Digital_Ebook_Purchase</td>\n",
       "      <td>4</td>\n",
       "      <td>0</td>\n",
       "      <td>0</td>\n",
       "      <td>N</td>\n",
       "      <td>Y</td>\n",
       "      <td>Coming soon to a theater near you</td>\n",
       "      <td>Moved well. Seemed almost like a sketch for a ...</td>\n",
       "      <td>2015-08-31</td>\n",
       "    </tr>\n",
       "    <tr>\n",
       "      <th>5</th>\n",
       "      <td>US</td>\n",
       "      <td>33168429</td>\n",
       "      <td>R2OMRH58WYEEP9</td>\n",
       "      <td>B00GL3OJIY</td>\n",
       "      <td>325772386</td>\n",
       "      <td>The Painter: A novel</td>\n",
       "      <td>Digital_Ebook_Purchase</td>\n",
       "      <td>5</td>\n",
       "      <td>0</td>\n",
       "      <td>0</td>\n",
       "      <td>N</td>\n",
       "      <td>N</td>\n",
       "      <td>I liked it a</td>\n",
       "      <td>Very different and extremely well written; I l...</td>\n",
       "      <td>2015-08-31</td>\n",
       "    </tr>\n",
       "    <tr>\n",
       "      <th>6</th>\n",
       "      <td>US</td>\n",
       "      <td>18546798</td>\n",
       "      <td>RBFXYUJZIH5JR</td>\n",
       "      <td>B00RW30QE8</td>\n",
       "      <td>236508296</td>\n",
       "      <td>METEOR STORM</td>\n",
       "      <td>Digital_Ebook_Purchase</td>\n",
       "      <td>5</td>\n",
       "      <td>0</td>\n",
       "      <td>0</td>\n",
       "      <td>N</td>\n",
       "      <td>Y</td>\n",
       "      <td>The author delivered his promise for an intere...</td>\n",
       "      <td>Once I started reading this novel I could not ...</td>\n",
       "      <td>2015-08-31</td>\n",
       "    </tr>\n",
       "    <tr>\n",
       "      <th>7</th>\n",
       "      <td>US</td>\n",
       "      <td>47463409</td>\n",
       "      <td>R2K2RSBNV42HU4</td>\n",
       "      <td>B0101AE85Q</td>\n",
       "      <td>924272105</td>\n",
       "      <td>Diary of a Crazy Steve [An Unofficial MineCraf...</td>\n",
       "      <td>Digital_Ebook_Purchase</td>\n",
       "      <td>5</td>\n",
       "      <td>0</td>\n",
       "      <td>0</td>\n",
       "      <td>N</td>\n",
       "      <td>N</td>\n",
       "      <td>This book is amazing.</td>\n",
       "      <td>Super quality, great grammar, no spelling issu...</td>\n",
       "      <td>2015-08-31</td>\n",
       "    </tr>\n",
       "  </tbody>\n",
       "</table>\n",
       "</div>"
      ],
      "text/plain": [
       "  marketplace customer_id       review_id  product_id product_parent  \\\n",
       "0          US    35471030  R1C5OK9AND7PRP  B00AHK07V0      175130663   \n",
       "1          US    26579324  R333RNBQMPVUFT  B014085WTQ      859232728   \n",
       "2          US     9152364  R2A2K0GTNSKXM1  B0113MFPN0      411472516   \n",
       "3          US    52087605  R365LAQ9REV876  B00T8RIK7G      353828021   \n",
       "4          US    46454660  R294OF3SNH6SWZ  B00EMXBDMA      803172158   \n",
       "5          US    33168429  R2OMRH58WYEEP9  B00GL3OJIY      325772386   \n",
       "6          US    18546798   RBFXYUJZIH5JR  B00RW30QE8      236508296   \n",
       "7          US    47463409  R2K2RSBNV42HU4  B0101AE85Q      924272105   \n",
       "\n",
       "                                       product_title        product_category  \\\n",
       "0  Hunter's Moon (A Kate Shugak Investigation Boo...  Digital_Ebook_Purchase   \n",
       "1                          Flying Toward Forgiveness  Digital_Ebook_Purchase   \n",
       "2                           Falling For A Real Nigga  Digital_Ebook_Purchase   \n",
       "3                                  The Good Neighbor  Digital_Ebook_Purchase   \n",
       "4                               The Martian: A Novel  Digital_Ebook_Purchase   \n",
       "5                               The Painter: A novel  Digital_Ebook_Purchase   \n",
       "6                                       METEOR STORM  Digital_Ebook_Purchase   \n",
       "7  Diary of a Crazy Steve [An Unofficial MineCraf...  Digital_Ebook_Purchase   \n",
       "\n",
       "   star_rating  helpful_votes  total_votes vine verified_purchase  \\\n",
       "0            5              0            0    N                 Y   \n",
       "1            5              0            0    N                 Y   \n",
       "2            5              0            0    N                 N   \n",
       "3            3              0            0    N                 Y   \n",
       "4            4              0            0    N                 Y   \n",
       "5            5              0            0    N                 N   \n",
       "6            5              0            0    N                 Y   \n",
       "7            5              0            0    N                 N   \n",
       "\n",
       "                                     review_headline  \\\n",
       "0    Shugak is like a milder, more withdrawn Reacher   \n",
       "1  For the young heart that, ages later, asks \"wh...   \n",
       "2                                         Five Stars   \n",
       "3                         Not really my type of read   \n",
       "4                  Coming soon to a theater near you   \n",
       "5                                       I liked it a   \n",
       "6  The author delivered his promise for an intere...   \n",
       "7                              This book is amazing.   \n",
       "\n",
       "                                         review_body review_date  \n",
       "0  This is the most intense of the Kate Shugak se...  2015-08-31  \n",
       "1  This story holds so much more than meets the e...  2015-08-31  \n",
       "2                         A true love story I think.  2015-08-31  \n",
       "3  A bit contrived and weak for my liking. I did ...  2015-08-31  \n",
       "4  Moved well. Seemed almost like a sketch for a ...  2015-08-31  \n",
       "5  Very different and extremely well written; I l...  2015-08-31  \n",
       "6  Once I started reading this novel I could not ...  2015-08-31  \n",
       "7  Super quality, great grammar, no spelling issu...  2015-08-31  "
      ]
     },
     "execution_count": 82,
     "metadata": {},
     "output_type": "execute_result"
    }
   ],
   "source": [
    "df = pd.read_sql(\"SELECT * FROM amazon_reviews_capstone.amazon_reviews_tsv limit 8;\", conn)\n",
    "df"
   ]
  },
  {
   "cell_type": "code",
   "execution_count": 83,
   "id": "cee8fa29-7c76-4b5e-8dae-1c6ba5504571",
   "metadata": {
    "tags": []
   },
   "outputs": [
    {
     "name": "stdout",
     "output_type": "stream",
     "text": [
      "CREATE TABLE IF NOT EXISTS amazon_reviews_capstone.amazon_reviews_parquet\n",
      "WITH (format = 'PARQUET', external_location = 's3://amazon-reviews-capstone/amazon-reviews-pds/parquet', partitioned_by = ARRAY['product_category']) AS\n",
      "SELECT marketplace,\n",
      "         customer_id,\n",
      "         review_id,\n",
      "         product_id,\n",
      "         product_parent,\n",
      "         product_title,\n",
      "         star_rating,\n",
      "         helpful_votes,\n",
      "         total_votes,\n",
      "         vine,\n",
      "         verified_purchase,\n",
      "         review_headline,\n",
      "         review_body,\n",
      "         CAST(YEAR(DATE(review_date)) AS INTEGER) AS year,\n",
      "         DATE(review_date) AS review_date,\n",
      "         product_category\n",
      "FROM amazon_reviews_capstone.amazon_reviews_tsv\n"
     ]
    }
   ],
   "source": [
    "table_name_parquet = \"amazon_reviews_parquet\"\n",
    "# Set S3 path to Parquet data\n",
    "s3_path_parquet = ç\n",
    "# SQL statement to execute\n",
    "statement2 = \"\"\"CREATE TABLE IF NOT EXISTS amazon_reviews_capstone.amazon_reviews_parquet\n",
    "WITH (format = 'PARQUET', external_location = 's3://amazon-reviews-capstone/amazon-reviews-pds/parquet', partitioned_by = ARRAY['product_category']) AS\n",
    "SELECT marketplace,\n",
    "         customer_id,\n",
    "         review_id,\n",
    "         product_id,\n",
    "         product_parent,\n",
    "         product_title,\n",
    "         star_rating,\n",
    "         helpful_votes,\n",
    "         total_votes,\n",
    "         vine,\n",
    "         verified_purchase,\n",
    "         review_headline,\n",
    "         review_body,\n",
    "         CAST(YEAR(DATE(review_date)) AS INTEGER) AS year,\n",
    "         DATE(review_date) AS review_date,\n",
    "         product_category\n",
    "FROM amazon_reviews_capstone.amazon_reviews_tsv\"\"\"\n",
    "pd.read_sql(statement2, conn)\n",
    "print(statement2)"
   ]
  },
  {
   "cell_type": "code",
   "execution_count": 85,
   "id": "8df4e4cc-432b-484f-b12d-a7c93e575d16",
   "metadata": {},
   "outputs": [
    {
     "name": "stdout",
     "output_type": "stream",
     "text": [
      "MSCK REPAIR TABLE amazon_reviews_capstone.amazon_reviews_parquet\n"
     ]
    }
   ],
   "source": [
    "statement = \"MSCK REPAIR TABLE amazon_reviews_capstone.amazon_reviews_parquet\".format(db_name, table_name_parquet)\n",
    "\n",
    "print(statement)"
   ]
  },
  {
   "cell_type": "code",
   "execution_count": 87,
   "id": "b0e5086e-1c09-4823-a8c3-eed9f3f0101c",
   "metadata": {},
   "outputs": [
    {
     "data": {
      "text/html": [
       "<div>\n",
       "<style scoped>\n",
       "    .dataframe tbody tr th:only-of-type {\n",
       "        vertical-align: middle;\n",
       "    }\n",
       "\n",
       "    .dataframe tbody tr th {\n",
       "        vertical-align: top;\n",
       "    }\n",
       "\n",
       "    .dataframe thead th {\n",
       "        text-align: right;\n",
       "    }\n",
       "</style>\n",
       "<table border=\"1\" class=\"dataframe\">\n",
       "  <thead>\n",
       "    <tr style=\"text-align: right;\">\n",
       "      <th></th>\n",
       "    </tr>\n",
       "  </thead>\n",
       "  <tbody>\n",
       "  </tbody>\n",
       "</table>\n",
       "</div>"
      ],
      "text/plain": [
       "Empty DataFrame\n",
       "Columns: []\n",
       "Index: []"
      ]
     },
     "execution_count": 87,
     "metadata": {},
     "output_type": "execute_result"
    }
   ],
   "source": [
    "df = pd.read_sql(statement1, conn)\n",
    "df.head(100)"
   ]
  },
  {
   "cell_type": "code",
   "execution_count": 77,
   "id": "1df0417e-3142-4404-bb7e-d5f42b5a5455",
   "metadata": {},
   "outputs": [
    {
     "name": "stdout",
     "output_type": "stream",
     "text": [
      "SHOW PARTITIONS amazon_reviews_capstone.amazon_reviews_parquet\n"
     ]
    }
   ],
   "source": [
    "statement = \"SHOW PARTITIONS amazon_reviews_capstone.amazon_reviews_parquet\".format(db_name, table_name_parquet)\n",
    "\n",
    "print(statement)"
   ]
  },
  {
   "cell_type": "code",
   "execution_count": 79,
   "id": "72f86855-f9fd-464f-b546-27175e51971b",
   "metadata": {
    "tags": []
   },
   "outputs": [
    {
     "data": {
      "text/html": [
       "<div>\n",
       "<style scoped>\n",
       "    .dataframe tbody tr th:only-of-type {\n",
       "        vertical-align: middle;\n",
       "    }\n",
       "\n",
       "    .dataframe tbody tr th {\n",
       "        vertical-align: top;\n",
       "    }\n",
       "\n",
       "    .dataframe thead th {\n",
       "        text-align: right;\n",
       "    }\n",
       "</style>\n",
       "<table border=\"1\" class=\"dataframe\">\n",
       "  <thead>\n",
       "    <tr style=\"text-align: right;\">\n",
       "      <th></th>\n",
       "      <th>partition</th>\n",
       "    </tr>\n",
       "  </thead>\n",
       "  <tbody>\n",
       "    <tr>\n",
       "      <th>0</th>\n",
       "      <td>product_category=Grocery</td>\n",
       "    </tr>\n",
       "    <tr>\n",
       "      <th>1</th>\n",
       "      <td>product_category=Video</td>\n",
       "    </tr>\n",
       "    <tr>\n",
       "      <th>2</th>\n",
       "      <td>product_category=Video DVD</td>\n",
       "    </tr>\n",
       "    <tr>\n",
       "      <th>3</th>\n",
       "      <td>product_category=Home</td>\n",
       "    </tr>\n",
       "    <tr>\n",
       "      <th>4</th>\n",
       "      <td>product_category=Home Entertainment</td>\n",
       "    </tr>\n",
       "    <tr>\n",
       "      <th>5</th>\n",
       "      <td>product_category=Pet Products</td>\n",
       "    </tr>\n",
       "    <tr>\n",
       "      <th>6</th>\n",
       "      <td>product_category=Digital_Video_Download</td>\n",
       "    </tr>\n",
       "    <tr>\n",
       "      <th>7</th>\n",
       "      <td>product_category=Toys</td>\n",
       "    </tr>\n",
       "    <tr>\n",
       "      <th>8</th>\n",
       "      <td>product_category=Beauty</td>\n",
       "    </tr>\n",
       "    <tr>\n",
       "      <th>9</th>\n",
       "      <td>product_category=Automotive</td>\n",
       "    </tr>\n",
       "    <tr>\n",
       "      <th>10</th>\n",
       "      <td>product_category=Musical Instruments</td>\n",
       "    </tr>\n",
       "    <tr>\n",
       "      <th>11</th>\n",
       "      <td>product_category=Office Products</td>\n",
       "    </tr>\n",
       "    <tr>\n",
       "      <th>12</th>\n",
       "      <td>product_category=Digital_Ebook_Purchase</td>\n",
       "    </tr>\n",
       "    <tr>\n",
       "      <th>13</th>\n",
       "      <td>product_category=Video Games</td>\n",
       "    </tr>\n",
       "    <tr>\n",
       "      <th>14</th>\n",
       "      <td>product_category=Luggage</td>\n",
       "    </tr>\n",
       "    <tr>\n",
       "      <th>15</th>\n",
       "      <td>product_category=Baby</td>\n",
       "    </tr>\n",
       "    <tr>\n",
       "      <th>16</th>\n",
       "      <td>product_category=Kitchen</td>\n",
       "    </tr>\n",
       "    <tr>\n",
       "      <th>17</th>\n",
       "      <td>product_category=Sports</td>\n",
       "    </tr>\n",
       "    <tr>\n",
       "      <th>18</th>\n",
       "      <td>product_category=Electronics</td>\n",
       "    </tr>\n",
       "    <tr>\n",
       "      <th>19</th>\n",
       "      <td>product_category=Personal_Care_Appliances</td>\n",
       "    </tr>\n",
       "    <tr>\n",
       "      <th>20</th>\n",
       "      <td>product_category=Shoes</td>\n",
       "    </tr>\n",
       "    <tr>\n",
       "      <th>21</th>\n",
       "      <td>product_category=Books</td>\n",
       "    </tr>\n",
       "    <tr>\n",
       "      <th>22</th>\n",
       "      <td>product_category=Music</td>\n",
       "    </tr>\n",
       "    <tr>\n",
       "      <th>23</th>\n",
       "      <td>product_category=Software</td>\n",
       "    </tr>\n",
       "    <tr>\n",
       "      <th>24</th>\n",
       "      <td>product_category=Digital_Software</td>\n",
       "    </tr>\n",
       "    <tr>\n",
       "      <th>25</th>\n",
       "      <td>product_category=Health &amp; Personal Care</td>\n",
       "    </tr>\n",
       "    <tr>\n",
       "      <th>26</th>\n",
       "      <td>product_category=Tools</td>\n",
       "    </tr>\n",
       "    <tr>\n",
       "      <th>27</th>\n",
       "      <td>product_category=Mobile_Apps</td>\n",
       "    </tr>\n",
       "    <tr>\n",
       "      <th>28</th>\n",
       "      <td>product_category=Jewelry</td>\n",
       "    </tr>\n",
       "    <tr>\n",
       "      <th>29</th>\n",
       "      <td>product_category=Digital_Video_Games</td>\n",
       "    </tr>\n",
       "    <tr>\n",
       "      <th>30</th>\n",
       "      <td>product_category=Watches</td>\n",
       "    </tr>\n",
       "    <tr>\n",
       "      <th>31</th>\n",
       "      <td>product_category=Digital_Music_Purchase</td>\n",
       "    </tr>\n",
       "    <tr>\n",
       "      <th>32</th>\n",
       "      <td>product_category=Major Appliances</td>\n",
       "    </tr>\n",
       "    <tr>\n",
       "      <th>33</th>\n",
       "      <td>product_category=PC</td>\n",
       "    </tr>\n",
       "    <tr>\n",
       "      <th>34</th>\n",
       "      <td>product_category=Outdoors</td>\n",
       "    </tr>\n",
       "    <tr>\n",
       "      <th>35</th>\n",
       "      <td>product_category=Furniture</td>\n",
       "    </tr>\n",
       "    <tr>\n",
       "      <th>36</th>\n",
       "      <td>product_category=Wireless</td>\n",
       "    </tr>\n",
       "    <tr>\n",
       "      <th>37</th>\n",
       "      <td>product_category=Mobile_Electronics</td>\n",
       "    </tr>\n",
       "    <tr>\n",
       "      <th>38</th>\n",
       "      <td>product_category=Gift Card</td>\n",
       "    </tr>\n",
       "    <tr>\n",
       "      <th>39</th>\n",
       "      <td>product_category=Home Improvement</td>\n",
       "    </tr>\n",
       "    <tr>\n",
       "      <th>40</th>\n",
       "      <td>product_category=Lawn and Garden</td>\n",
       "    </tr>\n",
       "    <tr>\n",
       "      <th>41</th>\n",
       "      <td>product_category=Apparel</td>\n",
       "    </tr>\n",
       "    <tr>\n",
       "      <th>42</th>\n",
       "      <td>product_category=Camera</td>\n",
       "    </tr>\n",
       "  </tbody>\n",
       "</table>\n",
       "</div>"
      ],
      "text/plain": [
       "                                    partition\n",
       "0                    product_category=Grocery\n",
       "1                      product_category=Video\n",
       "2                  product_category=Video DVD\n",
       "3                       product_category=Home\n",
       "4         product_category=Home Entertainment\n",
       "5               product_category=Pet Products\n",
       "6     product_category=Digital_Video_Download\n",
       "7                       product_category=Toys\n",
       "8                     product_category=Beauty\n",
       "9                 product_category=Automotive\n",
       "10       product_category=Musical Instruments\n",
       "11           product_category=Office Products\n",
       "12    product_category=Digital_Ebook_Purchase\n",
       "13               product_category=Video Games\n",
       "14                   product_category=Luggage\n",
       "15                      product_category=Baby\n",
       "16                   product_category=Kitchen\n",
       "17                    product_category=Sports\n",
       "18               product_category=Electronics\n",
       "19  product_category=Personal_Care_Appliances\n",
       "20                     product_category=Shoes\n",
       "21                     product_category=Books\n",
       "22                     product_category=Music\n",
       "23                  product_category=Software\n",
       "24          product_category=Digital_Software\n",
       "25    product_category=Health & Personal Care\n",
       "26                     product_category=Tools\n",
       "27               product_category=Mobile_Apps\n",
       "28                   product_category=Jewelry\n",
       "29       product_category=Digital_Video_Games\n",
       "30                   product_category=Watches\n",
       "31    product_category=Digital_Music_Purchase\n",
       "32          product_category=Major Appliances\n",
       "33                        product_category=PC\n",
       "34                  product_category=Outdoors\n",
       "35                 product_category=Furniture\n",
       "36                  product_category=Wireless\n",
       "37        product_category=Mobile_Electronics\n",
       "38                 product_category=Gift Card\n",
       "39          product_category=Home Improvement\n",
       "40           product_category=Lawn and Garden\n",
       "41                   product_category=Apparel\n",
       "42                    product_category=Camera"
      ]
     },
     "execution_count": 79,
     "metadata": {},
     "output_type": "execute_result"
    }
   ],
   "source": [
    "df_partitions = pd.read_sql(statement2, conn)\n",
    "df_partitions.head(100)"
   ]
  },
  {
   "cell_type": "code",
   "execution_count": 5,
   "id": "2ef1e577-d0c9-40a5-a903-c5fdc381c836",
   "metadata": {
    "tags": []
   },
   "outputs": [],
   "source": [
    "p_filter = lambda x: x[\"product_category\"] == \"Digital_Software\""
   ]
  },
  {
   "cell_type": "code",
   "execution_count": 6,
   "id": "b4b6a9a6-846b-438f-8bb2-297c2391324b",
   "metadata": {
    "tags": []
   },
   "outputs": [
    {
     "data": {
      "text/plain": [
       "(102084, 3)"
      ]
     },
     "execution_count": 6,
     "metadata": {},
     "output_type": "execute_result"
    }
   ],
   "source": [
    "path = \"s3://amazon-reviews-capstone/amazon-reviews-pds/parquet/\".format(bucket)\n",
    "df_parquet_results = wr.s3.read_parquet(\n",
    "    path, columns=[\"star_rating\", \"product_category\", \"review_body\"], partition_filter=p_filter, dataset=True\n",
    ")\n",
    "df_parquet_results.shape"
   ]
  },
  {
   "cell_type": "code",
   "execution_count": 7,
   "id": "4c09cf36-8708-4d41-beea-29c670c37888",
   "metadata": {
    "tags": []
   },
   "outputs": [
    {
     "data": {
      "text/html": [
       "<div>\n",
       "<style scoped>\n",
       "    .dataframe tbody tr th:only-of-type {\n",
       "        vertical-align: middle;\n",
       "    }\n",
       "\n",
       "    .dataframe tbody tr th {\n",
       "        vertical-align: top;\n",
       "    }\n",
       "\n",
       "    .dataframe thead th {\n",
       "        text-align: right;\n",
       "    }\n",
       "</style>\n",
       "<table border=\"1\" class=\"dataframe\">\n",
       "  <thead>\n",
       "    <tr style=\"text-align: right;\">\n",
       "      <th></th>\n",
       "      <th>star_rating</th>\n",
       "      <th>review_body</th>\n",
       "      <th>product_category</th>\n",
       "    </tr>\n",
       "  </thead>\n",
       "  <tbody>\n",
       "    <tr>\n",
       "      <th>0</th>\n",
       "      <td>4</td>\n",
       "      <td>it works</td>\n",
       "      <td>Digital_Software</td>\n",
       "    </tr>\n",
       "    <tr>\n",
       "      <th>1</th>\n",
       "      <td>4</td>\n",
       "      <td>good product</td>\n",
       "      <td>Digital_Software</td>\n",
       "    </tr>\n",
       "    <tr>\n",
       "      <th>2</th>\n",
       "      <td>5</td>\n",
       "      <td>I have been using Video Converter for about on...</td>\n",
       "      <td>Digital_Software</td>\n",
       "    </tr>\n",
       "    <tr>\n",
       "      <th>3</th>\n",
       "      <td>4</td>\n",
       "      <td>This was just an update.</td>\n",
       "      <td>Digital_Software</td>\n",
       "    </tr>\n",
       "    <tr>\n",
       "      <th>4</th>\n",
       "      <td>4</td>\n",
       "      <td>Worked just fine.  I will use again next year!</td>\n",
       "      <td>Digital_Software</td>\n",
       "    </tr>\n",
       "  </tbody>\n",
       "</table>\n",
       "</div>"
      ],
      "text/plain": [
       "   star_rating                                        review_body  \\\n",
       "0            4                                           it works   \n",
       "1            4                                       good product   \n",
       "2            5  I have been using Video Converter for about on...   \n",
       "3            4                           This was just an update.   \n",
       "4            4     Worked just fine.  I will use again next year!   \n",
       "\n",
       "   product_category  \n",
       "0  Digital_Software  \n",
       "1  Digital_Software  \n",
       "2  Digital_Software  \n",
       "3  Digital_Software  \n",
       "4  Digital_Software  "
      ]
     },
     "execution_count": 7,
     "metadata": {},
     "output_type": "execute_result"
    }
   ],
   "source": [
    "df_parquet_results.head(5)"
   ]
  },
  {
   "cell_type": "code",
   "execution_count": 8,
   "id": "3346ae20-9cd4-4f71-97b2-0cbad81208af",
   "metadata": {
    "tags": []
   },
   "outputs": [],
   "source": [
    "chunk_iter = wr.s3.read_parquet(\n",
    "    path,\n",
    "    columns=[\"star_rating\", \"product_category\", \"review_body\"],\n",
    "    # filters=[(\"product_category\", \"=\", \"Digital_Software\")],\n",
    "    partition_filter=p_filter,\n",
    "    dataset=True,\n",
    "    chunked=True,\n",
    ")"
   ]
  },
  {
   "cell_type": "code",
   "execution_count": 9,
   "id": "df26046c-8428-4fb5-bbf2-f063cb854015",
   "metadata": {
    "tags": []
   },
   "outputs": [
    {
     "name": "stdout",
     "output_type": "stream",
     "text": [
      "      star_rating                                        review_body  \\\n",
      "0               4                                           it works   \n",
      "1               4                                       good product   \n",
      "2               5  I have been using Video Converter for about on...   \n",
      "3               4                           This was just an update.   \n",
      "4               4     Worked just fine.  I will use again next year!   \n",
      "...           ...                                                ...   \n",
      "3724            1  I downloaded this version of Quicken expecting...   \n",
      "3725            5  Must have if you're a photographer.  This stre...   \n",
      "3726            5  I have been using TT for well over 15 years no...   \n",
      "3727            5  First of all, Amazon makes the downloading of ...   \n",
      "3728            1  The amount of hours I have spent, doing what c...   \n",
      "\n",
      "      product_category  \n",
      "0     Digital_Software  \n",
      "1     Digital_Software  \n",
      "2     Digital_Software  \n",
      "3     Digital_Software  \n",
      "4     Digital_Software  \n",
      "...                ...  \n",
      "3724  Digital_Software  \n",
      "3725  Digital_Software  \n",
      "3726  Digital_Software  \n",
      "3727  Digital_Software  \n",
      "3728  Digital_Software  \n",
      "\n",
      "[3729 rows x 3 columns]\n"
     ]
    }
   ],
   "source": [
    "print(next(chunk_iter))"
   ]
  },
  {
   "cell_type": "code",
   "execution_count": 10,
   "id": "baf49b3a-dc98-42a1-a62d-5ed9686def0e",
   "metadata": {
    "tags": []
   },
   "outputs": [],
   "source": [
    "database_name = \"amazon_reviews_capstone\"\n",
    "table_name_tsv = \"amazon_reviews_tsv\"\n",
    "table_name_parquet = \"amazon_reviews_parquet\""
   ]
  },
  {
   "cell_type": "code",
   "execution_count": 11,
   "id": "4c837c54-d98d-471f-828b-45689678d766",
   "metadata": {
    "tags": []
   },
   "outputs": [
    {
     "name": "stdout",
     "output_type": "stream",
     "text": [
      "amazon_reviews_parquet\n",
      "amazon_reviews_tsv\n"
     ]
    }
   ],
   "source": [
    "for table in wr.catalog.get_tables(database=\"dsoaws\"):\n",
    "    print(table[\"Name\"])"
   ]
  },
  {
   "cell_type": "code",
   "execution_count": 16,
   "id": "19c0791f-083c-459a-a7fc-95ff425711da",
   "metadata": {
    "tags": []
   },
   "outputs": [
    {
     "name": "stdout",
     "output_type": "stream",
     "text": [
      "CPU times: user 425 ms, sys: 9.76 ms, total: 435 ms\n",
      "Wall time: 3.63 s\n"
     ]
    }
   ],
   "source": [
    "%%time\n",
    "df = wr.athena.read_sql_query(sql=\"SELECT * FROM amazon_reviews_capstone.amazon_reviews_parquet LIMIT 5000\".format(table_name_parquet), database=database_name)"
   ]
  },
  {
   "cell_type": "code",
   "execution_count": 18,
   "id": "4c1bad60-7da6-406d-abf4-e100be11fcc4",
   "metadata": {
    "tags": []
   },
   "outputs": [
    {
     "data": {
      "text/html": [
       "<div>\n",
       "<style scoped>\n",
       "    .dataframe tbody tr th:only-of-type {\n",
       "        vertical-align: middle;\n",
       "    }\n",
       "\n",
       "    .dataframe tbody tr th {\n",
       "        vertical-align: top;\n",
       "    }\n",
       "\n",
       "    .dataframe thead th {\n",
       "        text-align: right;\n",
       "    }\n",
       "</style>\n",
       "<table border=\"1\" class=\"dataframe\">\n",
       "  <thead>\n",
       "    <tr style=\"text-align: right;\">\n",
       "      <th></th>\n",
       "      <th>marketplace</th>\n",
       "      <th>customer_id</th>\n",
       "      <th>review_id</th>\n",
       "      <th>product_id</th>\n",
       "      <th>product_parent</th>\n",
       "      <th>product_title</th>\n",
       "      <th>product_category</th>\n",
       "      <th>star_rating</th>\n",
       "      <th>helpful_votes</th>\n",
       "      <th>total_votes</th>\n",
       "      <th>vine</th>\n",
       "      <th>verified_purchase</th>\n",
       "      <th>review_headline</th>\n",
       "      <th>review_body</th>\n",
       "      <th>review_date</th>\n",
       "    </tr>\n",
       "  </thead>\n",
       "  <tbody>\n",
       "    <tr>\n",
       "      <th>0</th>\n",
       "      <td>US</td>\n",
       "      <td>28794885</td>\n",
       "      <td>REAKC26P07MDN</td>\n",
       "      <td>B00Q0K9604</td>\n",
       "      <td>510387886</td>\n",
       "      <td>(8-Pack) EZwhelp Belly Band/Wrap</td>\n",
       "      <td>Pet Products</td>\n",
       "      <td>5</td>\n",
       "      <td>0</td>\n",
       "      <td>0</td>\n",
       "      <td>N</td>\n",
       "      <td>Y</td>\n",
       "      <td>A great purchase for \"dribbly\" dogs</td>\n",
       "      <td>Best belly bands on the market!  These are a g...</td>\n",
       "      <td>2015-08-31</td>\n",
       "    </tr>\n",
       "    <tr>\n",
       "      <th>1</th>\n",
       "      <td>US</td>\n",
       "      <td>11488901</td>\n",
       "      <td>R3NU7OMZ4HQIEG</td>\n",
       "      <td>B00MBW5O9W</td>\n",
       "      <td>912374672</td>\n",
       "      <td>Warren Eckstein's Hugs &amp; Kisses Vitamin Minera...</td>\n",
       "      <td>Pet Products</td>\n",
       "      <td>2</td>\n",
       "      <td>0</td>\n",
       "      <td>1</td>\n",
       "      <td>N</td>\n",
       "      <td>Y</td>\n",
       "      <td>My dogs love Hugs and Kisses</td>\n",
       "      <td>My dogs love Hugs and Kisses.  However, the la...</td>\n",
       "      <td>2015-08-31</td>\n",
       "    </tr>\n",
       "    <tr>\n",
       "      <th>2</th>\n",
       "      <td>US</td>\n",
       "      <td>43214993</td>\n",
       "      <td>R14QJW3XF8QO1P</td>\n",
       "      <td>B0084OHUIO</td>\n",
       "      <td>902215727</td>\n",
       "      <td>Tyson's True Chews Premium Jerky - 12 ounce Ch...</td>\n",
       "      <td>Pet Products</td>\n",
       "      <td>5</td>\n",
       "      <td>0</td>\n",
       "      <td>0</td>\n",
       "      <td>N</td>\n",
       "      <td>Y</td>\n",
       "      <td>I have been purchasing these for a long time. ...</td>\n",
       "      <td>I have been purchasing these for a long time. ...</td>\n",
       "      <td>2015-08-31</td>\n",
       "    </tr>\n",
       "    <tr>\n",
       "      <th>3</th>\n",
       "      <td>US</td>\n",
       "      <td>12835065</td>\n",
       "      <td>R2HB7AX0394ZGY</td>\n",
       "      <td>B001GS71K2</td>\n",
       "      <td>568880110</td>\n",
       "      <td>Soft Side Pet Crate, Navy/Tan</td>\n",
       "      <td>Pet Products</td>\n",
       "      <td>5</td>\n",
       "      <td>0</td>\n",
       "      <td>0</td>\n",
       "      <td>N</td>\n",
       "      <td>Y</td>\n",
       "      <td>it is easy to open and close</td>\n",
       "      <td>It is extremely well constructed, it is easy t...</td>\n",
       "      <td>2015-08-31</td>\n",
       "    </tr>\n",
       "    <tr>\n",
       "      <th>4</th>\n",
       "      <td>US</td>\n",
       "      <td>26334022</td>\n",
       "      <td>RGKMPDQGSAHR3</td>\n",
       "      <td>B004ABH1LG</td>\n",
       "      <td>692846826</td>\n",
       "      <td>EliteField 3-Door Folding Soft Dog Crate, Indo...</td>\n",
       "      <td>Pet Products</td>\n",
       "      <td>5</td>\n",
       "      <td>0</td>\n",
       "      <td>0</td>\n",
       "      <td>N</td>\n",
       "      <td>Y</td>\n",
       "      <td>Dog crate</td>\n",
       "      <td>Worked really well.  Very pleased with my purc...</td>\n",
       "      <td>2015-08-31</td>\n",
       "    </tr>\n",
       "  </tbody>\n",
       "</table>\n",
       "</div>"
      ],
      "text/plain": [
       "  marketplace customer_id       review_id  product_id product_parent  \\\n",
       "0          US    28794885   REAKC26P07MDN  B00Q0K9604      510387886   \n",
       "1          US    11488901  R3NU7OMZ4HQIEG  B00MBW5O9W      912374672   \n",
       "2          US    43214993  R14QJW3XF8QO1P  B0084OHUIO      902215727   \n",
       "3          US    12835065  R2HB7AX0394ZGY  B001GS71K2      568880110   \n",
       "4          US    26334022   RGKMPDQGSAHR3  B004ABH1LG      692846826   \n",
       "\n",
       "                                       product_title product_category  \\\n",
       "0                   (8-Pack) EZwhelp Belly Band/Wrap     Pet Products   \n",
       "1  Warren Eckstein's Hugs & Kisses Vitamin Minera...     Pet Products   \n",
       "2  Tyson's True Chews Premium Jerky - 12 ounce Ch...     Pet Products   \n",
       "3                      Soft Side Pet Crate, Navy/Tan     Pet Products   \n",
       "4  EliteField 3-Door Folding Soft Dog Crate, Indo...     Pet Products   \n",
       "\n",
       "   star_rating  helpful_votes  total_votes vine verified_purchase  \\\n",
       "0            5              0            0    N                 Y   \n",
       "1            2              0            1    N                 Y   \n",
       "2            5              0            0    N                 Y   \n",
       "3            5              0            0    N                 Y   \n",
       "4            5              0            0    N                 Y   \n",
       "\n",
       "                                     review_headline  \\\n",
       "0                A great purchase for \"dribbly\" dogs   \n",
       "1                       My dogs love Hugs and Kisses   \n",
       "2  I have been purchasing these for a long time. ...   \n",
       "3                       it is easy to open and close   \n",
       "4                                          Dog crate   \n",
       "\n",
       "                                         review_body review_date  \n",
       "0  Best belly bands on the market!  These are a g...  2015-08-31  \n",
       "1  My dogs love Hugs and Kisses.  However, the la...  2015-08-31  \n",
       "2  I have been purchasing these for a long time. ...  2015-08-31  \n",
       "3  It is extremely well constructed, it is easy t...  2015-08-31  \n",
       "4  Worked really well.  Very pleased with my purc...  2015-08-31  "
      ]
     },
     "execution_count": 18,
     "metadata": {},
     "output_type": "execute_result"
    }
   ],
   "source": [
    "df.head(5)"
   ]
  },
  {
   "cell_type": "code",
   "execution_count": 20,
   "id": "58107eba-5c07-4930-9a76-8fc55a349100",
   "metadata": {
    "tags": []
   },
   "outputs": [
    {
     "name": "stdout",
     "output_type": "stream",
     "text": [
      "CPU times: user 297 ms, sys: 5.34 ms, total: 302 ms\n",
      "Wall time: 3.67 s\n"
     ]
    }
   ],
   "source": [
    "%%time\n",
    "\n",
    "chunk_iter = wr.athena.read_sql_query(\n",
    "    sql=\"SELECT * FROM amazon_reviews_capstone.amazon_reviews_parquet LIMIT 5000\".format(table_name_parquet),\n",
    "    database=\"{}\".format(database_name),\n",
    "    chunksize=64_000,  # 64 KB Chunks\n",
    ")"
   ]
  },
  {
   "cell_type": "code",
   "execution_count": 21,
   "id": "666a2e98-cd6d-4d2a-94a6-77990f241412",
   "metadata": {
    "tags": []
   },
   "outputs": [
    {
     "name": "stdout",
     "output_type": "stream",
     "text": [
      "     marketplace customer_id       review_id  product_id product_parent  \\\n",
      "0             US    17074612  R3GSNZVILB7N3V  B00H9L7VIW      851045898   \n",
      "1             US    35812705  R2MJNGZZEHD1UD  B002ZOUP2C       15558261   \n",
      "2             US     9852377  R1FWJHVUEF5NK3  B0006VJ6TO      412568457   \n",
      "3             US    16122970  R1N0L1SL5JR8AU  B00H9L7VIW      851045898   \n",
      "4             US     2076770  R1PV2GU6KMUGCH  B00KC3IKB6      711045215   \n",
      "...          ...         ...             ...         ...            ...   \n",
      "4995          US    52313599  R2VPRD92G2QCWZ  B00061OGLC      844427792   \n",
      "4996          US    38772263  R27O60I47Z0MF3  B000G3DY7M      559863262   \n",
      "4997          US    38497879  R28WOK321PWKK0  B000JEQPNI      430685866   \n",
      "4998          US    48379291   R22UM9VS01MSP  B0013U9B6U      978181853   \n",
      "4999          US    49588410  R2B6LOU7CQDODN  B005OE0VOM       71112980   \n",
      "\n",
      "                                          product_title  star_rating  \\\n",
      "0     boostULTIMATE - 60 Capsules - Increase Workout...            5   \n",
      "1                 Radius Totz Toothbrush -- 6 per case.            5   \n",
      "2     Body Back Company’s Body Back Buddy Trigger Po...            3   \n",
      "3     boostULTIMATE - 60 Capsules - Increase Workout...            5   \n",
      "4       Miracle Charcoal Compression Stockings (Ladies)            5   \n",
      "...                                                 ...          ...   \n",
      "4995                  Clarity Telephone Amplifier HA 40            3   \n",
      "4996                           72 inch Stripe Gait Belt            4   \n",
      "4997  Heavy Duty Shower Bench Bath Chair by Medline ...            5   \n",
      "4998  Conair Replacement Brushheads for RTG3CSR-2 pe...            5   \n",
      "4999  Custom Hard Shell VAPECASE with Extra Storage ...            5   \n",
      "\n",
      "      helpful_votes  total_votes vine verified_purchase  \\\n",
      "0                 2            2    N                 Y   \n",
      "1                 0            0    N                 Y   \n",
      "2                 0            1    N                 Y   \n",
      "3                 2            2    N                 N   \n",
      "4                 0            0    N                 Y   \n",
      "...             ...          ...  ...               ...   \n",
      "4995              0            0    N                 Y   \n",
      "4996              1            1    N                 N   \n",
      "4997              1            1    N                 Y   \n",
      "4998              0            0    N                 Y   \n",
      "4999              1            1    N                 Y   \n",
      "\n",
      "                                        review_headline  \\\n",
      "0                                            Five Stars   \n",
      "1                These are great toothbrushes for kids!   \n",
      "2     my pain management dr said I should get the ba...   \n",
      "3                                         wife is happy   \n",
      "4                                   Comfort and quality   \n",
      "...                                                 ...   \n",
      "4995                        works, but tons of feedback   \n",
      "4996                                       good company   \n",
      "4997                   Exactly what I needed and wanted   \n",
      "4998                      Conair Replacement Brushheads   \n",
      "4999            A great way to keep everything together   \n",
      "\n",
      "                                            review_body  year review_date  \\\n",
      "0     I'm only about a week into using the product, ...  2015  2015-05-08   \n",
      "1     These are great toothbrushes for kids! The hea...  2015  2015-05-08   \n",
      "2     my pain management dr said I should get the ba...  2015  2015-05-08   \n",
      "3     Taking this 2 times a day and it has helped me...  2015  2015-05-08   \n",
      "4     Anyone who had need for compression hose these...  2015  2015-05-08   \n",
      "...                                                 ...   ...         ...   \n",
      "4995  I bought this for my phone at work, and it doe...  2013  2013-03-29   \n",
      "4996  The gait belt I received was too long, but tha...  2013  2013-03-29   \n",
      "4997  This chair is very well made. Fit in shower pe...  2013  2013-03-29   \n",
      "4998  I was very pleased with how quick it arrived, ...  2013  2013-03-29   \n",
      "4999  The Magic Flight is the best way to administer...  2013  2013-03-29   \n",
      "\n",
      "              product_category  \n",
      "0     Personal_Care_Appliances  \n",
      "1     Personal_Care_Appliances  \n",
      "2     Personal_Care_Appliances  \n",
      "3     Personal_Care_Appliances  \n",
      "4     Personal_Care_Appliances  \n",
      "...                        ...  \n",
      "4995  Personal_Care_Appliances  \n",
      "4996  Personal_Care_Appliances  \n",
      "4997  Personal_Care_Appliances  \n",
      "4998  Personal_Care_Appliances  \n",
      "4999  Personal_Care_Appliances  \n",
      "\n",
      "[5000 rows x 16 columns]\n"
     ]
    }
   ],
   "source": [
    "print(next(chunk_iter))"
   ]
  },
  {
   "cell_type": "code",
   "execution_count": 94,
   "id": "5ec32fd8-f645-43f1-9ff3-49104cc75d22",
   "metadata": {
    "tags": []
   },
   "outputs": [],
   "source": [
    "from botocore.exceptions import ClientError\n",
    "from botocore.config import Config"
   ]
  },
  {
   "cell_type": "code",
   "execution_count": 95,
   "id": "0705e0f8-663f-498a-83f2-43fa77216175",
   "metadata": {
    "tags": []
   },
   "outputs": [],
   "source": [
    "config = Config(\n",
    "   retries = {\n",
    "      'max_attempts': 10,\n",
    "      'mode': 'adaptive'\n",
    "   }\n",
    ")\n",
    "\n",
    "\n",
    "iam = boto3.client('iam', config=config)\n",
    "sts = boto3.client('sts')\n",
    "redshift = boto3.client('redshift')\n",
    "sm = boto3.client('sagemaker')\n",
    "ec2 = boto3.client('ec2')"
   ]
  },
  {
   "cell_type": "code",
   "execution_count": 96,
   "id": "8118517d-a5f6-4351-880f-6ae5ac55f225",
   "metadata": {
    "tags": []
   },
   "outputs": [],
   "source": [
    "assume_role_policy_doc = {\n",
    "  \"Version\": \"2012-10-17\",\n",
    "  \"Statement\": [\n",
    "    {\n",
    "      \"Effect\": \"Allow\",\n",
    "      \"Principal\": {\n",
    "        \"Service\": \"redshift.amazonaws.com\"\n",
    "      },\n",
    "      \"Action\": \"sts:AssumeRole\"\n",
    "    }\n",
    "  ]\n",
    "} "
   ]
  },
  {
   "cell_type": "code",
   "execution_count": 97,
   "id": "71b54765-9874-4987-9135-3d1cff8a7c79",
   "metadata": {
    "tags": []
   },
   "outputs": [],
   "source": [
    "iam_redshift_role_name = 'Amazon_Reviews_Capstone_Redshift'"
   ]
  },
  {
   "cell_type": "code",
   "execution_count": 99,
   "id": "de6e0b75-d0b1-4a8d-80f1-ec6d1babc6d5",
   "metadata": {
    "tags": []
   },
   "outputs": [
    {
     "name": "stdout",
     "output_type": "stream",
     "text": [
      "Role already exists\n"
     ]
    }
   ],
   "source": [
    "import json\n",
    "try:\n",
    "    iam_role_redshift = iam.create_role(\n",
    "        RoleName=iam_redshift_role_name,\n",
    "        AssumeRolePolicyDocument=json.dumps(assume_role_policy_doc),\n",
    "        Description='Amazon_Reviews_Capstone_Redshift'\n",
    "    )\n",
    "except ClientError as e:\n",
    "    if e.response['Error']['Code'] == 'EntityAlreadyExists':\n",
    "        print(\"Role already exists\")\n",
    "    else:\n",
    "        print(\"Unexpected error: %s\" % e)"
   ]
  },
  {
   "cell_type": "code",
   "execution_count": 100,
   "id": "686e28ef-419a-43ce-b81d-e027d9e4d711",
   "metadata": {
    "tags": []
   },
   "outputs": [
    {
     "name": "stdout",
     "output_type": "stream",
     "text": [
      "arn:aws:iam::518606024901:role/Amazon_Reviews_Capstone_Redshift\n"
     ]
    }
   ],
   "source": [
    "role = iam.get_role(RoleName='Amazon_Reviews_Capstone_Redshift')\n",
    "iam_role_redshift_arn = role['Role']['Arn']\n",
    "print(iam_role_redshift_arn)"
   ]
  },
  {
   "cell_type": "code",
   "execution_count": 101,
   "id": "1cade422-aa35-4bac-ba40-0b9da7349b88",
   "metadata": {
    "tags": []
   },
   "outputs": [
    {
     "name": "stdout",
     "output_type": "stream",
     "text": [
      "518606024901\n"
     ]
    }
   ],
   "source": [
    "account_id = sts.get_caller_identity()['Account']\n",
    "print(account_id)"
   ]
  },
  {
   "cell_type": "code",
   "execution_count": 102,
   "id": "355186ad-33e8-4520-98f0-3fdc8e245d5d",
   "metadata": {
    "tags": []
   },
   "outputs": [],
   "source": [
    "my_redshift_to_s3 = {\n",
    "    \"Version\": \"2012-10-17\",\n",
    "    \"Statement\": [\n",
    "        {\n",
    "            \"Effect\": \"Allow\",\n",
    "            \"Action\": \"s3:*\",\n",
    "            \"Resource\": \"*\"\n",
    "        }\n",
    "    ]\n",
    "}"
   ]
  },
  {
   "cell_type": "code",
   "execution_count": 103,
   "id": "7c6d2989-779f-4046-8979-cefb228dfe98",
   "metadata": {
    "tags": []
   },
   "outputs": [],
   "source": [
    "my_redshift_to_athena = {\n",
    "    \"Version\": \"2012-10-17\",\n",
    "    \"Statement\": [\n",
    "        {\n",
    "            \"Effect\": \"Allow\",\n",
    "            \"Action\": [\n",
    "                \"athena:*\"\n",
    "            ],\n",
    "            \"Resource\": [\n",
    "                \"*\"\n",
    "            ]\n",
    "        },\n",
    "        {\n",
    "            \"Effect\": \"Allow\",\n",
    "            \"Action\": [\n",
    "                \"glue:CreateDatabase\",\n",
    "                \"glue:DeleteDatabase\",\n",
    "                \"glue:GetDatabase\",\n",
    "                \"glue:GetDatabases\",\n",
    "                \"glue:UpdateDatabase\",\n",
    "                \"glue:CreateTable\",\n",
    "                \"glue:DeleteTable\",\n",
    "                \"glue:BatchDeleteTable\",\n",
    "                \"glue:UpdateTable\",\n",
    "                \"glue:GetTable\",\n",
    "                \"glue:GetTables\",\n",
    "                \"glue:BatchCreatePartition\",\n",
    "                \"glue:CreatePartition\",\n",
    "                \"glue:DeletePartition\",\n",
    "                \"glue:BatchDeletePartition\",\n",
    "                \"glue:UpdatePartition\",\n",
    "                \"glue:GetPartition\",\n",
    "                \"glue:GetPartitions\",\n",
    "                \"glue:BatchGetPartition\"\n",
    "            ],\n",
    "            \"Resource\": [\n",
    "                \"*\"\n",
    "            ]\n",
    "        },\n",
    "        {\n",
    "            \"Effect\": \"Allow\",\n",
    "            \"Action\": [\n",
    "                \"s3:GetBucketLocation\",\n",
    "                \"s3:GetObject\",\n",
    "                \"s3:ListBucket\",\n",
    "                \"s3:ListBucketMultipartUploads\",\n",
    "                \"s3:ListMultipartUploadParts\",\n",
    "                \"s3:AbortMultipartUpload\",\n",
    "                \"s3:CreateBucket\",\n",
    "                \"s3:PutObject\"\n",
    "            ],\n",
    "            \"Resource\": [\n",
    "                \"arn:aws:s3:::aws-athena-query-results-*\"\n",
    "            ]\n",
    "        },\n",
    "        {\n",
    "            \"Effect\": \"Allow\",\n",
    "            \"Action\": [\n",
    "                \"s3:GetObject\",\n",
    "                \"s3:ListBucket\"\n",
    "            ],\n",
    "            \"Resource\": [\n",
    "                \"arn:aws:s3:::athena-examples*\"\n",
    "            ]\n",
    "        },\n",
    "        {\n",
    "            \"Effect\": \"Allow\",\n",
    "            \"Action\": [\n",
    "                \"s3:ListBucket\",\n",
    "                \"s3:GetBucketLocation\",\n",
    "                \"s3:ListAllMyBuckets\"\n",
    "            ],\n",
    "            \"Resource\": [\n",
    "                \"*\"\n",
    "            ]\n",
    "        },\n",
    "        {\n",
    "            \"Effect\": \"Allow\",\n",
    "            \"Action\": [\n",
    "                \"sns:ListTopics\",\n",
    "                \"sns:GetTopicAttributes\"\n",
    "            ],\n",
    "            \"Resource\": [\n",
    "                \"*\"\n",
    "            ]\n",
    "        },\n",
    "        {\n",
    "            \"Effect\": \"Allow\",\n",
    "            \"Action\": [\n",
    "                \"cloudwatch:PutMetricAlarm\",\n",
    "                \"cloudwatch:DescribeAlarms\",\n",
    "                \"cloudwatch:DeleteAlarms\"\n",
    "            ],\n",
    "            \"Resource\": [\n",
    "                \"*\"\n",
    "            ]\n",
    "        },\n",
    "        {\n",
    "            \"Effect\": \"Allow\",\n",
    "            \"Action\": [\n",
    "                \"lakeformation:GetDataAccess\"\n",
    "            ],\n",
    "            \"Resource\": [\n",
    "                \"*\"\n",
    "            ]\n",
    "        }\n",
    "    ]\n",
    "}"
   ]
  },
  {
   "cell_type": "code",
   "execution_count": 104,
   "id": "75674f79-be28-4903-a8d9-5a4870cc4486",
   "metadata": {
    "tags": []
   },
   "outputs": [],
   "source": [
    "my_redshift_to_sagemaker = {\n",
    "    \"Version\": \"2012-10-17\",\n",
    "    \"Statement\": [\n",
    "        {\n",
    "            \"Effect\": \"Allow\",\n",
    "            \"Action\": \"sagemaker:*\",\n",
    "            \"Resource\": \"*\"\n",
    "        }\n",
    "    ]\n",
    "}"
   ]
  },
  {
   "cell_type": "code",
   "execution_count": 105,
   "id": "7a8fbc42-3775-4df6-acd9-5ccd606154e2",
   "metadata": {
    "tags": []
   },
   "outputs": [],
   "source": [
    "my_redshift_to_sagemaker_passrole = {\n",
    "    \"Version\": \"2012-10-17\",\n",
    "    \"Statement\": [\n",
    "        {\n",
    "            \"Effect\": \"Allow\",\n",
    "            \"Action\": \"iam:PassRole\",\n",
    "            \"Resource\": f'arn:aws:iam::{account_id}:role/*'\n",
    "        }\n",
    "    ]\n",
    "}"
   ]
  },
  {
   "cell_type": "code",
   "execution_count": 106,
   "id": "6c6d7728-5223-4feb-b509-40166bc3d579",
   "metadata": {
    "tags": []
   },
   "outputs": [],
   "source": [
    "try:\n",
    "    policy_redshift_s3 = iam.create_policy(\n",
    "      PolicyName='Amazon_Reviews_Capstone_Redshift_RedshiftPolicyToS3',\n",
    "      PolicyDocument=json.dumps(my_redshift_to_s3)\n",
    "    )\n",
    "except ClientError as e:\n",
    "    if e.response['Error']['Code'] == 'EntityAlreadyExists':\n",
    "        print(\"Policy already exists\")\n",
    "    else:\n",
    "        print(\"Unexpected error: %s\" % e)"
   ]
  },
  {
   "cell_type": "code",
   "execution_count": 110,
   "id": "5b773711-76b6-4c3d-8d7b-37b72b0cceda",
   "metadata": {
    "tags": []
   },
   "outputs": [
    {
     "name": "stdout",
     "output_type": "stream",
     "text": [
      "arn:aws:iam::518606024901:policy/Amazon_Reviews_Capstone_Redshift_RedshiftPolicyToS3\n"
     ]
    }
   ],
   "source": [
    "# Get ARN\n",
    "policy_redshift_s3_arn = f'arn:aws:iam::{account_id}:policy/Amazon_Reviews_Capstone_Redshift_RedshiftPolicyToS3'\n",
    "print(policy_redshift_s3_arn)"
   ]
  },
  {
   "cell_type": "code",
   "execution_count": 112,
   "id": "ee041184-91f6-4387-96d1-7fd214ba66ef",
   "metadata": {
    "tags": []
   },
   "outputs": [
    {
     "name": "stdout",
     "output_type": "stream",
     "text": [
      "Policy already exists\n"
     ]
    }
   ],
   "source": [
    "try:\n",
    "    policy_redshift_athena = iam.create_policy(\n",
    "      PolicyName='Amazon_Reviews_Capstone_Redshift_RedshiftPolicyToAthena',\n",
    "      PolicyDocument=json.dumps(my_redshift_to_athena)\n",
    "    )\n",
    "except ClientError as e:\n",
    "    if e.response['Error']['Code'] == 'EntityAlreadyExists':\n",
    "        print(\"Policy already exists\")\n",
    "    else:\n",
    "        print(\"Unexpected error: %s\" % e)"
   ]
  },
  {
   "cell_type": "code",
   "execution_count": 113,
   "id": "630d1ab0-4acd-49d6-8fa2-d622f50ba2a1",
   "metadata": {
    "tags": []
   },
   "outputs": [
    {
     "name": "stdout",
     "output_type": "stream",
     "text": [
      "arn:aws:iam::518606024901:policy/Amazon_Reviews_Capstone_Redshift_RedshiftPolicyToAthena\n"
     ]
    }
   ],
   "source": [
    "# Get ARN\n",
    "policy_redshift_athena_arn = f'arn:aws:iam::{account_id}:policy/Amazon_Reviews_Capstone_Redshift_RedshiftPolicyToAthena'\n",
    "print(policy_redshift_athena_arn)"
   ]
  },
  {
   "cell_type": "code",
   "execution_count": 114,
   "id": "8c0162a5-8495-45d9-84ed-34af43e7a6e4",
   "metadata": {
    "tags": []
   },
   "outputs": [],
   "source": [
    "try:\n",
    "    policy_redshift_sagemaker = iam.create_policy(\n",
    "      PolicyName='Amazon_Reviews_Capstone_Redshift_RedshiftPolicyToSageMaker',\n",
    "      PolicyDocument=json.dumps(my_redshift_to_sagemaker)\n",
    "    )\n",
    "except ClientError as e:\n",
    "    if e.response['Error']['Code'] == 'EntityAlreadyExists':\n",
    "        print(\"Policy already exists\")\n",
    "    else:\n",
    "        print(\"Unexpected error: %s\" % e)"
   ]
  },
  {
   "cell_type": "code",
   "execution_count": 115,
   "id": "af01efac-9669-4311-bc3a-d21794f3727b",
   "metadata": {
    "tags": []
   },
   "outputs": [
    {
     "name": "stdout",
     "output_type": "stream",
     "text": [
      "arn:aws:iam::518606024901:policy/Amazon_Reviews_Capstone_Redshift_RedshiftPolicyToSageMaker\n"
     ]
    }
   ],
   "source": [
    "# Get ARN\n",
    "policy_redshift_sagemaker_arn = f'arn:aws:iam::{account_id}:policy/Amazon_Reviews_Capstone_Redshift_RedshiftPolicyToSageMaker'\n",
    "print(policy_redshift_sagemaker_arn)"
   ]
  },
  {
   "cell_type": "code",
   "execution_count": 116,
   "id": "bc23de4a-e980-4966-90a0-63efc95746e0",
   "metadata": {
    "tags": []
   },
   "outputs": [],
   "source": [
    "try:\n",
    "    policy_redshift_sagemaker_passrole = iam.create_policy(\n",
    "      PolicyName='Amazon_Reviews_Capstone_Redshift_RedshiftPolicyToSageMakerPassRole',\n",
    "      PolicyDocument=json.dumps(my_redshift_to_sagemaker_passrole)\n",
    "    )\n",
    "except ClientError as e:\n",
    "    if e.response['Error']['Code'] == 'EntityAlreadyExists':\n",
    "        print(\"Policy already exists\")\n",
    "    else:\n",
    "        print(\"Unexpected error: %s\" % e)"
   ]
  },
  {
   "cell_type": "code",
   "execution_count": 117,
   "id": "3ef404b2-2e38-4006-9a30-1c11335a7bdc",
   "metadata": {
    "tags": []
   },
   "outputs": [
    {
     "name": "stdout",
     "output_type": "stream",
     "text": [
      "arn:aws:iam::518606024901:policy/Amazon_Reviews_Capstone_Redshift_RedshiftPolicyToSageMakerPassRole\n"
     ]
    }
   ],
   "source": [
    "# Get ARN\n",
    "policy_redshift_sagemaker_passrole_arn = f'arn:aws:iam::{account_id}:policy/Amazon_Reviews_Capstone_Redshift_RedshiftPolicyToSageMakerPassRole'\n",
    "print(policy_redshift_sagemaker_passrole_arn)"
   ]
  },
  {
   "cell_type": "code",
   "execution_count": 118,
   "id": "859cf8ce-efbf-4e5f-994c-b39c897587c6",
   "metadata": {
    "tags": []
   },
   "outputs": [],
   "source": [
    "# Attach DSOAWS_RedshiftPolicyToAthena policy\n",
    "try:\n",
    "    response = iam.attach_role_policy(\n",
    "        PolicyArn=policy_redshift_athena_arn,\n",
    "        RoleName=iam_redshift_role_name\n",
    "    )\n",
    "except ClientError as e:\n",
    "    if e.response['Error']['Code'] == 'EntityAlreadyExists':\n",
    "        print(\"Policy is already attached. This is ok.\")\n",
    "    else:\n",
    "        print(\"Unexpected error: %s\" % e)"
   ]
  },
  {
   "cell_type": "code",
   "execution_count": 119,
   "id": "f5a75bb1-a6b6-42c4-be1b-c93404db2fe6",
   "metadata": {
    "tags": []
   },
   "outputs": [],
   "source": [
    "# Attach DSOAWS_RedshiftPolicyToS3 policy\n",
    "try:\n",
    "    response = iam.attach_role_policy(\n",
    "        PolicyArn=policy_redshift_s3_arn,\n",
    "        RoleName=iam_redshift_role_name\n",
    "    )\n",
    "except ClientError as e:\n",
    "    if e.response['Error']['Code'] == 'EntityAlreadyExists':\n",
    "        print(\"Policy is already attached. This is ok.\")\n",
    "    else:\n",
    "        print(\"Unexpected error: %s\" % e)\n",
    "        "
   ]
  },
  {
   "cell_type": "code",
   "execution_count": 120,
   "id": "99d5b254-5b7e-41dd-bb0f-7999aaac6a51",
   "metadata": {
    "tags": []
   },
   "outputs": [],
   "source": [
    "# Attach DSOAWS_RedshiftPolicyToSageMaker policy\n",
    "try:\n",
    "    response = iam.attach_role_policy(\n",
    "        PolicyArn=policy_redshift_sagemaker_arn,\n",
    "        RoleName=iam_redshift_role_name\n",
    "    )\n",
    "except ClientError as e:\n",
    "    if e.response['Error']['Code'] == 'EntityAlreadyExists':\n",
    "        print(\"Policy is already attached. This is ok.\")\n",
    "    else:\n",
    "        print(\"Unexpected error: %s\" % e)"
   ]
  },
  {
   "cell_type": "code",
   "execution_count": 121,
   "id": "9294ed66-c2a8-4713-9d59-3cac4aa8d333",
   "metadata": {
    "tags": []
   },
   "outputs": [],
   "source": [
    "# Attach DSOAWS_RedshiftPolicyToSageMakerPassRole policy\n",
    "try:\n",
    "    response = iam.attach_role_policy(\n",
    "        PolicyArn=policy_redshift_sagemaker_passrole_arn,\n",
    "        RoleName=iam_redshift_role_name\n",
    "    )\n",
    "except ClientError as e:\n",
    "    if e.response['Error']['Code'] == 'EntityAlreadyExists':\n",
    "        print(\"Policy is already attached. This is ok.\")\n",
    "    else:\n",
    "        print(\"Unexpected error: %s\" % e)"
   ]
  },
  {
   "cell_type": "code",
   "execution_count": 122,
   "id": "672e4d80-f7ba-466b-a761-e4d2d1be6e11",
   "metadata": {
    "tags": []
   },
   "outputs": [],
   "source": [
    "my_redshift_to_sagemaker_assumerole = {\n",
    "  \"Version\": \"2012-10-17\",\n",
    "  \"Statement\": [\n",
    "    {\n",
    "      \"Effect\": \"Allow\",\n",
    "      \"Principal\": {\n",
    "        \"Service\": \"redshift.amazonaws.com\"\n",
    "      },\n",
    "      \"Action\": \"sts:AssumeRole\"\n",
    "    },\n",
    "    {\n",
    "      \"Effect\": \"Allow\",\n",
    "      \"Principal\": {\n",
    "        \"Service\": \"sagemaker.amazonaws.com\"\n",
    "      },\n",
    "      \"Action\": \"sts:AssumeRole\"\n",
    "    }\n",
    "  ]\n",
    "}  "
   ]
  },
  {
   "cell_type": "code",
   "execution_count": 123,
   "id": "3783f7ec-d507-44d3-a4a0-bc825af3da29",
   "metadata": {
    "tags": []
   },
   "outputs": [],
   "source": [
    "try:\n",
    "    response = iam.update_assume_role_policy(\n",
    "        PolicyDocument=json.dumps(my_redshift_to_sagemaker_assumerole),\n",
    "        RoleName=iam_redshift_role_name\n",
    "    )\n",
    "except ClientError as e:\n",
    "    if e.response['Error']['Code'] == 'EntityAlreadyExists':\n",
    "        print(\"Policy is already attached. This is ok.\")\n",
    "    else:\n",
    "        print(\"Unexpected error: %s\" % e)"
   ]
  },
  {
   "cell_type": "code",
   "execution_count": 124,
   "id": "dd113187-fe48-4abc-943d-047a5b5b09cf",
   "metadata": {
    "tags": []
   },
   "outputs": [
    {
     "name": "stdout",
     "output_type": "stream",
     "text": [
      "sg-06f6b0e4bebaf0b16\n"
     ]
    }
   ],
   "source": [
    "try:\n",
    "    domain_id = sm.list_domains()['Domains'][0]['DomainId']\n",
    "    describe_domain_response = sm.describe_domain(DomainId=domain_id)\n",
    "    vpc_id = describe_domain_response['VpcId']\n",
    "    security_groups = ec2.describe_security_groups()['SecurityGroups']\n",
    "    for security_group in security_groups:\n",
    "        if vpc_id == security_group['VpcId']:\n",
    "            security_group_id = security_group['GroupId']\n",
    "    print(security_group_id)    \n",
    "except:\n",
    "    pass"
   ]
  },
  {
   "cell_type": "code",
   "execution_count": 125,
   "id": "93d834e9-e67e-45f9-80d6-2ddc2dd331f5",
   "metadata": {
    "tags": []
   },
   "outputs": [],
   "source": [
    "try:\n",
    "    notebook_instance_name = sm.list_notebook_instances()['NotebookInstances'][0]['NotebookInstanceName']\n",
    "    notebook_instance = sm.describe_notebook_instance(NotebookInstanceName=notebook_instance_name)\n",
    "    security_group_id = notebook_instance['SecurityGroups'][0]\n",
    "    print(security_group_id)    \n",
    "except:\n",
    "    pass"
   ]
  },
  {
   "cell_type": "code",
   "execution_count": 126,
   "id": "800bf94c-100c-4f5f-ac89-e6182a307b9c",
   "metadata": {
    "tags": []
   },
   "outputs": [
    {
     "name": "stdout",
     "output_type": "stream",
     "text": [
      "Secret already exists. This is ok.\n"
     ]
    }
   ],
   "source": [
    "secretsmanager = boto3.client('secretsmanager')\n",
    "\n",
    "try:\n",
    "    response = secretsmanager.create_secret(\n",
    "        Name='dsoaws_redshift_login',\n",
    "        Description='DSOAWS Redshift Login',\n",
    "        SecretString='[{\"username\":\"dsoaws\"},{\"password\":\"Password9\"}]',\n",
    "        Tags=[\n",
    "            {\n",
    "                'Key': 'name',\n",
    "                'Value': 'dsoaws_redshift_login'\n",
    "            },\n",
    "        ]\n",
    "    )\n",
    "except ClientError as e:\n",
    "    if e.response['Error']['Code'] == 'ResourceExistsException':\n",
    "        print(\"Secret already exists. This is ok.\")\n",
    "    else:\n",
    "        print(\"Unexpected error: %s\" % e)"
   ]
  },
  {
   "cell_type": "code",
   "execution_count": 127,
   "id": "5bd18a1a-1454-4266-bae3-7bbda5256c2f",
   "metadata": {
    "tags": []
   },
   "outputs": [],
   "source": [
    "secret = secretsmanager.get_secret_value(SecretId='dsoaws_redshift_login')\n",
    "cred = json.loads(secret['SecretString'])\n",
    "\n",
    "master_user_name = cred[0]['username']\n",
    "master_user_pw = cred[1]['password']\n"
   ]
  },
  {
   "cell_type": "code",
   "execution_count": 137,
   "id": "68d20123-ac4e-4e0b-aaf8-b700464e9eda",
   "metadata": {
    "tags": []
   },
   "outputs": [],
   "source": [
    "# Redshift configuration parameters\n",
    "redshift_cluster_identifier = 'amazonreviewscluster'\n",
    "db_name = 'amazon_reviews_capstone'\n",
    "cluster_type = 'multi-node'\n",
    "\n",
    "# Note that only some Instance Types support Redshift Query Editor \n",
    "# (https://docs.aws.amazon.com/redshift/latest/mgmt/query-editor.html)\n",
    "node_type = 'dc2.large'\n",
    "number_nodes = '2' "
   ]
  },
  {
   "cell_type": "code",
   "execution_count": 138,
   "id": "a6a27680-33be-4a1c-9bce-932ec01295ef",
   "metadata": {
    "tags": []
   },
   "outputs": [],
   "source": [
    "response = redshift.create_cluster(\n",
    "        DBName=db_name,\n",
    "        ClusterIdentifier=redshift_cluster_identifier,\n",
    "        ClusterType=cluster_type,\n",
    "        NodeType=node_type,\n",
    "        NumberOfNodes=int(number_nodes),       \n",
    "        MasterUsername=master_user_name,\n",
    "        MasterUserPassword=master_user_pw,\n",
    "        IamRoles=[iam_role_redshift_arn],\n",
    "        VpcSecurityGroupIds=['sg-0ec43a40a91763ece'],\n",
    "        Port=5439,\n",
    "        PubliclyAccessible=False\n",
    ")\n"
   ]
  },
  {
   "cell_type": "code",
   "execution_count": 139,
   "id": "42df4d7e-e305-4a5b-861c-c991836cf0fd",
   "metadata": {
    "tags": []
   },
   "outputs": [
    {
     "name": "stdout",
     "output_type": "stream",
     "text": [
      "creating\n",
      "creating\n",
      "creating\n",
      "creating\n",
      "creating\n",
      "creating\n",
      "creating\n",
      "creating\n",
      "available\n"
     ]
    }
   ],
   "source": [
    "import time\n",
    "\n",
    "response = redshift.describe_clusters(ClusterIdentifier=redshift_cluster_identifier)\n",
    "cluster_status = response['Clusters'][0]['ClusterStatus']\n",
    "print(cluster_status)\n",
    "\n",
    "while cluster_status != 'available':\n",
    "    time.sleep(10)\n",
    "    response = redshift.describe_clusters(ClusterIdentifier=redshift_cluster_identifier)\n",
    "    cluster_status = response['Clusters'][0]['ClusterStatus']\n",
    "    print(cluster_status)"
   ]
  },
  {
   "cell_type": "code",
   "execution_count": 140,
   "id": "a55649b8-8e98-4d3f-a1c8-96ed4c9a0431",
   "metadata": {
    "tags": []
   },
   "outputs": [
    {
     "name": "stdout",
     "output_type": "stream",
     "text": [
      "Redshift endpoint: amazonreviewscluster.cqj1po1m4uti.us-east-1.redshift.amazonaws.com\n",
      "IAM Role: arn:aws:iam::518606024901:role/Amazon_Reviews_Capstone_Redshift\n"
     ]
    }
   ],
   "source": [
    "redshift_endpoint_address = response['Clusters'][0]['Endpoint']['Address']\n",
    "iam_role = response['Clusters'][0]['IamRoles'][0]['IamRoleArn']\n",
    "\n",
    "print('Redshift endpoint: {}'.format(redshift_endpoint_address))\n",
    "print('IAM Role: {}'.format(iam_role))"
   ]
  },
  {
   "cell_type": "code",
   "execution_count": 150,
   "id": "9a2c35ec-4515-4791-b5e9-26384c3c34be",
   "metadata": {
    "tags": []
   },
   "outputs": [],
   "source": [
    "database_name_redshift = 'amazon_reviews_capstone'\n",
    "database_name_athena = 'amazon_reviews_capstone'\n",
    "region_name = 'us-east-1'\n",
    "redshift_port = '5439'\n",
    "\n",
    "schema_redshift = 'redshift'\n",
    "schema_athena = 'athena'\n",
    "\n",
    "table_name_tsv = 'amazon_reviews_tsv'\n",
    "con_redshift = wr.data_api.redshift.connect(\n",
    "    cluster_id=redshift_cluster_identifier,\n",
    "    database=database_name_redshift,\n",
    "    db_user=master_user_name,\n",
    ")"
   ]
  },
  {
   "cell_type": "code",
   "execution_count": 151,
   "id": "112ef13f-5b0f-4922-8d8b-c07096143bea",
   "metadata": {
    "tags": []
   },
   "outputs": [
    {
     "name": "stdout",
     "output_type": "stream",
     "text": [
      "\n",
      "CREATE EXTERNAL SCHEMA IF NOT EXISTS athena FROM DATA CATALOG \n",
      "    DATABASE 'amazon_reviews_capstone' \n",
      "    IAM_ROLE 'arn:aws:iam::518606024901:role/Amazon_Reviews_Capstone_Redshift'\n",
      "    REGION 'us-east-1'\n",
      "    CREATE EXTERNAL DATABASE IF NOT EXISTS\n",
      "\n"
     ]
    }
   ],
   "source": [
    "statement = \"\"\"\n",
    "CREATE EXTERNAL SCHEMA IF NOT EXISTS {} FROM DATA CATALOG \n",
    "    DATABASE '{}' \n",
    "    IAM_ROLE '{}'\n",
    "    REGION '{}'\n",
    "    CREATE EXTERNAL DATABASE IF NOT EXISTS\n",
    "\"\"\".format(schema_athena, database_name_athena, iam_role, region_name)\n",
    "\n",
    "print(statement)"
   ]
  },
  {
   "cell_type": "code",
   "execution_count": 152,
   "id": "f121a11a-1197-48e0-b9fc-a1decc18cf92",
   "metadata": {
    "tags": []
   },
   "outputs": [
    {
     "data": {
      "text/html": [
       "<div>\n",
       "<style scoped>\n",
       "    .dataframe tbody tr th:only-of-type {\n",
       "        vertical-align: middle;\n",
       "    }\n",
       "\n",
       "    .dataframe tbody tr th {\n",
       "        vertical-align: top;\n",
       "    }\n",
       "\n",
       "    .dataframe thead th {\n",
       "        text-align: right;\n",
       "    }\n",
       "</style>\n",
       "<table border=\"1\" class=\"dataframe\">\n",
       "  <thead>\n",
       "    <tr style=\"text-align: right;\">\n",
       "      <th></th>\n",
       "    </tr>\n",
       "  </thead>\n",
       "  <tbody>\n",
       "  </tbody>\n",
       "</table>\n",
       "</div>"
      ],
      "text/plain": [
       "Empty DataFrame\n",
       "Columns: []\n",
       "Index: []"
      ]
     },
     "execution_count": 152,
     "metadata": {},
     "output_type": "execute_result"
    }
   ],
   "source": [
    "wr.data_api.redshift.read_sql_query(\n",
    "    sql=statement,\n",
    "    con=con_redshift,\n",
    ")"
   ]
  },
  {
   "cell_type": "code",
   "execution_count": 153,
   "id": "0b356a9c-11e4-4933-a58c-f786e12c4088",
   "metadata": {
    "tags": []
   },
   "outputs": [
    {
     "name": "stdout",
     "output_type": "stream",
     "text": [
      "\n",
      "SELECT product_category, COUNT(star_rating) AS count_star_rating\n",
      "    FROM athena.amazon_reviews_tsv\n",
      "    GROUP BY product_category\n",
      "    ORDER BY count_star_rating DESC\n",
      "\n"
     ]
    }
   ],
   "source": [
    "statement = \"\"\"\n",
    "SELECT product_category, COUNT(star_rating) AS count_star_rating\n",
    "    FROM {}.{}\n",
    "    GROUP BY product_category\n",
    "    ORDER BY count_star_rating DESC\n",
    "\"\"\".format(schema_athena, table_name_tsv)\n",
    "\n",
    "print(statement)"
   ]
  },
  {
   "cell_type": "code",
   "execution_count": 154,
   "id": "2aa1c3fd-e87e-4ddc-bd43-633638a5f16d",
   "metadata": {
    "tags": []
   },
   "outputs": [
    {
     "data": {
      "text/html": [
       "<div>\n",
       "<style scoped>\n",
       "    .dataframe tbody tr th:only-of-type {\n",
       "        vertical-align: middle;\n",
       "    }\n",
       "\n",
       "    .dataframe tbody tr th {\n",
       "        vertical-align: top;\n",
       "    }\n",
       "\n",
       "    .dataframe thead th {\n",
       "        text-align: right;\n",
       "    }\n",
       "</style>\n",
       "<table border=\"1\" class=\"dataframe\">\n",
       "  <thead>\n",
       "    <tr style=\"text-align: right;\">\n",
       "      <th></th>\n",
       "      <th>product_category</th>\n",
       "      <th>count_star_rating</th>\n",
       "    </tr>\n",
       "  </thead>\n",
       "  <tbody>\n",
       "    <tr>\n",
       "      <th>0</th>\n",
       "      <td>Books</td>\n",
       "      <td>20726160</td>\n",
       "    </tr>\n",
       "    <tr>\n",
       "      <th>1</th>\n",
       "      <td>Digital_Ebook_Purchase</td>\n",
       "      <td>19180765</td>\n",
       "    </tr>\n",
       "    <tr>\n",
       "      <th>2</th>\n",
       "      <td>Wireless</td>\n",
       "      <td>9038249</td>\n",
       "    </tr>\n",
       "    <tr>\n",
       "      <th>3</th>\n",
       "      <td>Video DVD</td>\n",
       "      <td>7135819</td>\n",
       "    </tr>\n",
       "    <tr>\n",
       "      <th>4</th>\n",
       "      <td>PC</td>\n",
       "      <td>7004337</td>\n",
       "    </tr>\n",
       "  </tbody>\n",
       "</table>\n",
       "</div>"
      ],
      "text/plain": [
       "         product_category  count_star_rating\n",
       "0                   Books           20726160\n",
       "1  Digital_Ebook_Purchase           19180765\n",
       "2                Wireless            9038249\n",
       "3               Video DVD            7135819\n",
       "4                      PC            7004337"
      ]
     },
     "execution_count": 154,
     "metadata": {},
     "output_type": "execute_result"
    }
   ],
   "source": [
    "df = wr.data_api.redshift.read_sql_query(\n",
    "    sql=statement,\n",
    "    con=con_redshift,\n",
    ")\n",
    "\n",
    "df.head()"
   ]
  },
  {
   "cell_type": "code",
   "execution_count": 156,
   "id": "01b45699-b508-480f-9d35-396e3cc26b9f",
   "metadata": {
    "tags": []
   },
   "outputs": [
    {
     "data": {
      "text/html": [
       "<div>\n",
       "<style scoped>\n",
       "    .dataframe tbody tr th:only-of-type {\n",
       "        vertical-align: middle;\n",
       "    }\n",
       "\n",
       "    .dataframe tbody tr th {\n",
       "        vertical-align: top;\n",
       "    }\n",
       "\n",
       "    .dataframe thead th {\n",
       "        text-align: right;\n",
       "    }\n",
       "</style>\n",
       "<table border=\"1\" class=\"dataframe\">\n",
       "  <thead>\n",
       "    <tr style=\"text-align: right;\">\n",
       "      <th></th>\n",
       "    </tr>\n",
       "  </thead>\n",
       "  <tbody>\n",
       "  </tbody>\n",
       "</table>\n",
       "</div>"
      ],
      "text/plain": [
       "Empty DataFrame\n",
       "Columns: []\n",
       "Index: []"
      ]
     },
     "execution_count": 156,
     "metadata": {},
     "output_type": "execute_result"
    }
   ],
   "source": [
    "statement = \"\"\"CREATE SCHEMA IF NOT EXISTS amazon_reviews_capstone\"\"\".format(schema_redshift)\n",
    "\n",
    "wr.data_api.redshift.read_sql_query(\n",
    "    sql=statement,\n",
    "    con=con_redshift,\n",
    ")"
   ]
  },
  {
   "cell_type": "code",
   "execution_count": 158,
   "id": "afa607cc-4e28-43d8-a221-07edd5a04643",
   "metadata": {
    "tags": []
   },
   "outputs": [],
   "source": [
    "# Create table function, pass session, table name prefix and start & end year\n",
    "\n",
    "def create_redshift_table_tsv(wr, con_redshift, table_name_prefix, start_year, end_year):\n",
    "    for year in range(start_year, end_year + 1, 1):\n",
    "        current_table_name = table_name_prefix+'_'+str(year)\n",
    "        statement = \"\"\"\n",
    "        CREATE TABLE IF NOT EXISTS redshift.{}( \n",
    "             marketplace varchar(2),\n",
    "             customer_id varchar(8),\n",
    "             review_id varchar(14),\n",
    "             product_id varchar(10) DISTKEY,\n",
    "             product_parent varchar(9),\n",
    "             product_title varchar(400),\n",
    "             product_category varchar(24),\n",
    "             star_rating int,\n",
    "             helpful_votes int,\n",
    "             total_votes int,\n",
    "             vine varchar(1),\n",
    "             verified_purchase varchar(1),\n",
    "             review_headline varchar(128),\n",
    "             review_body varchar(65535),\n",
    "             review_date varchar(10),\n",
    "             year int)  SORTKEY (product_category)\n",
    "        \"\"\".format(current_table_name)\n",
    "\n",
    "        wr.data_api.redshift.read_sql_query(\n",
    "            sql=statement,\n",
    "            con=con_redshift,\n",
    "        )\n",
    "    print(\"Done.\")"
   ]
  },
  {
   "cell_type": "code",
   "execution_count": 159,
   "id": "184de9a9-a91a-4d5b-832a-1c5c5206c82d",
   "metadata": {
    "tags": []
   },
   "outputs": [
    {
     "name": "stdout",
     "output_type": "stream",
     "text": [
      "Done.\n"
     ]
    }
   ],
   "source": [
    "create_redshift_table_tsv(wr, con_redshift, 'amazon_reviews_tsv', 2014, 2015)\n"
   ]
  },
  {
   "cell_type": "code",
   "execution_count": 160,
   "id": "5f8371e7-dc66-430d-8ce2-ea3332b80479",
   "metadata": {
    "tags": []
   },
   "outputs": [],
   "source": [
    "# INSERT INTO function, pass session, table name prefix and start & end year\n",
    "\n",
    "def insert_into_redshift_table_tsv(wr, con_redshift, table_name_prefix, start_year, end_year):\n",
    "    for year in range(start_year, end_year + 1, 1):\n",
    "        print(year)\n",
    "        current_table_name = table_name_prefix+'_'+str(year)\n",
    "        statement = \"\"\"\n",
    "            INSERT \n",
    "            INTO\n",
    "                redshift.{}\n",
    "                SELECT\n",
    "                    marketplace,\n",
    "                    customer_id,\n",
    "                    review_id,\n",
    "                    product_id,\n",
    "                    product_parent,\n",
    "                    product_title,\n",
    "                    product_category,\n",
    "                    star_rating,\n",
    "                    helpful_votes,\n",
    "                    total_votes,\n",
    "                    vine,\n",
    "                    verified_purchase,\n",
    "                    review_headline,\n",
    "                    review_body,\n",
    "                    review_date,\n",
    "                    CAST(DATE_PART_YEAR(TO_DATE(review_date, 'YYYY-MM-DD')) AS INTEGER) AS year\n",
    "                FROM\n",
    "                    athena.amazon_reviews_tsv             \n",
    "                WHERE\n",
    "                    year = {}\n",
    "            \"\"\".format(current_table_name, year)\n",
    "\n",
    "        wr.data_api.redshift.read_sql_query(\n",
    "            sql=statement,\n",
    "            con=con_redshift,\n",
    "        )\n",
    "\n",
    "        df.head()\n",
    "    print(\"Done.\")"
   ]
  },
  {
   "cell_type": "code",
   "execution_count": null,
   "id": "bf1d2e5a-5882-4456-becc-a73d2d497f62",
   "metadata": {
    "tags": []
   },
   "outputs": [],
   "source": [
    "insert_into_redshift_table_tsv(wr, con_redshift, 'amazon_reviews_tsv', 2014, 2015)"
   ]
  },
  {
   "cell_type": "code",
   "execution_count": 162,
   "id": "465033bf-a5b6-462a-bcd8-e5baaed0cc84",
   "metadata": {
    "tags": []
   },
   "outputs": [
    {
     "name": "stdout",
     "output_type": "stream",
     "text": [
      "\n",
      "SELECT year, product_category, COUNT(star_rating) AS count_star_rating\n",
      "  FROM redshift.amazon_reviews_tsv_2015\n",
      "  GROUP BY redshift.amazon_reviews_tsv_2015.product_category, year\n",
      "UNION ALL\n",
      "SELECT year, product_category, COUNT(star_rating) AS count_star_rating\n",
      "  FROM redshift.amazon_reviews_tsv_2014\n",
      "  GROUP BY redshift.amazon_reviews_tsv_2014.product_category, year\n",
      "ORDER BY product_category ASC, year DESC\n",
      "\n"
     ]
    }
   ],
   "source": [
    "statement = \"\"\"\n",
    "SELECT year, product_category, COUNT(star_rating) AS count_star_rating\n",
    "  FROM redshift.amazon_reviews_tsv_2015\n",
    "  GROUP BY redshift.amazon_reviews_tsv_2015.product_category, year\n",
    "UNION ALL\n",
    "SELECT year, product_category, COUNT(star_rating) AS count_star_rating\n",
    "  FROM redshift.amazon_reviews_tsv_2014\n",
    "  GROUP BY redshift.amazon_reviews_tsv_2014.product_category, year\n",
    "ORDER BY product_category ASC, year DESC\n",
    "\"\"\"\n",
    "\n",
    "print(statement)"
   ]
  },
  {
   "cell_type": "code",
   "execution_count": 181,
   "id": "70f914ef-9c4c-445a-8b72-9cf077d2c912",
   "metadata": {
    "tags": []
   },
   "outputs": [
    {
     "data": {
      "text/html": [
       "<div>\n",
       "<style scoped>\n",
       "    .dataframe tbody tr th:only-of-type {\n",
       "        vertical-align: middle;\n",
       "    }\n",
       "\n",
       "    .dataframe tbody tr th {\n",
       "        vertical-align: top;\n",
       "    }\n",
       "\n",
       "    .dataframe thead th {\n",
       "        text-align: right;\n",
       "    }\n",
       "</style>\n",
       "<table border=\"1\" class=\"dataframe\">\n",
       "  <thead>\n",
       "    <tr style=\"text-align: right;\">\n",
       "      <th></th>\n",
       "      <th>year</th>\n",
       "      <th>product_category</th>\n",
       "      <th>count_star_rating</th>\n",
       "    </tr>\n",
       "  </thead>\n",
       "  <tbody>\n",
       "    <tr>\n",
       "      <th>0</th>\n",
       "      <td>2014</td>\n",
       "      <td>Apparel</td>\n",
       "      <td>2122511</td>\n",
       "    </tr>\n",
       "    <tr>\n",
       "      <th>1</th>\n",
       "      <td>2014</td>\n",
       "      <td>Automotive</td>\n",
       "      <td>1175637</td>\n",
       "    </tr>\n",
       "    <tr>\n",
       "      <th>2</th>\n",
       "      <td>2014</td>\n",
       "      <td>Baby</td>\n",
       "      <td>479630</td>\n",
       "    </tr>\n",
       "    <tr>\n",
       "      <th>3</th>\n",
       "      <td>2014</td>\n",
       "      <td>Beauty</td>\n",
       "      <td>1610983</td>\n",
       "    </tr>\n",
       "    <tr>\n",
       "      <th>4</th>\n",
       "      <td>2014</td>\n",
       "      <td>Books</td>\n",
       "      <td>3710219</td>\n",
       "    </tr>\n",
       "  </tbody>\n",
       "</table>\n",
       "</div>"
      ],
      "text/plain": [
       "   year product_category  count_star_rating\n",
       "0  2014          Apparel            2122511\n",
       "1  2014       Automotive            1175637\n",
       "2  2014             Baby             479630\n",
       "3  2014           Beauty            1610983\n",
       "4  2014            Books            3710219"
      ]
     },
     "execution_count": 181,
     "metadata": {},
     "output_type": "execute_result"
    }
   ],
   "source": [
    "df = wr.data_api.redshift.read_sql_query(\n",
    "    sql=statement,\n",
    "    con=con_redshift,\n",
    ")\n",
    "\n",
    "df.head(5)"
   ]
  },
  {
   "cell_type": "code",
   "execution_count": 182,
   "id": "c48f9ed8-cb1b-4a88-947e-f0ecf6a3acef",
   "metadata": {},
   "outputs": [
    {
     "name": "stdout",
     "output_type": "stream",
     "text": [
      "\n",
      "SELECT CAST(DATE_PART_YEAR(TO_DATE(review_date, 'YYYY-MM-DD')) AS INTEGER) AS year, product_category, COUNT(star_rating) AS count_star_rating\n",
      "  FROM athena.amazon_reviews_tsv\n",
      "  WHERE year = 2014 \n",
      "  GROUP BY athena.amazon_reviews_tsv.product_category, year\n",
      "ORDER BY product_category ASC, year DESC\n",
      "\n"
     ]
    }
   ],
   "source": [
    "statement = \"\"\"\n",
    "SELECT CAST(DATE_PART_YEAR(TO_DATE(review_date, 'YYYY-MM-DD')) AS INTEGER) AS year, product_category, COUNT(star_rating) AS count_star_rating\n",
    "  FROM athena.amazon_reviews_tsv\n",
    "  WHERE year = 2014 \n",
    "  GROUP BY athena.amazon_reviews_tsv.product_category, year\n",
    "ORDER BY product_category ASC, year DESC\n",
    "\"\"\"\n",
    "\n",
    "print(statement)"
   ]
  },
  {
   "cell_type": "code",
   "execution_count": 183,
   "id": "e91c994e-6dc8-42b6-8ebf-88d975c6e888",
   "metadata": {
    "tags": []
   },
   "outputs": [
    {
     "data": {
      "text/html": [
       "<div>\n",
       "<style scoped>\n",
       "    .dataframe tbody tr th:only-of-type {\n",
       "        vertical-align: middle;\n",
       "    }\n",
       "\n",
       "    .dataframe tbody tr th {\n",
       "        vertical-align: top;\n",
       "    }\n",
       "\n",
       "    .dataframe thead th {\n",
       "        text-align: right;\n",
       "    }\n",
       "</style>\n",
       "<table border=\"1\" class=\"dataframe\">\n",
       "  <thead>\n",
       "    <tr style=\"text-align: right;\">\n",
       "      <th></th>\n",
       "      <th>year</th>\n",
       "      <th>product_category</th>\n",
       "      <th>count_star_rating</th>\n",
       "    </tr>\n",
       "  </thead>\n",
       "  <tbody>\n",
       "    <tr>\n",
       "      <th>0</th>\n",
       "      <td>2014</td>\n",
       "      <td>Apparel</td>\n",
       "      <td>2122511</td>\n",
       "    </tr>\n",
       "    <tr>\n",
       "      <th>1</th>\n",
       "      <td>2014</td>\n",
       "      <td>Automotive</td>\n",
       "      <td>1175637</td>\n",
       "    </tr>\n",
       "    <tr>\n",
       "      <th>2</th>\n",
       "      <td>2014</td>\n",
       "      <td>Baby</td>\n",
       "      <td>479630</td>\n",
       "    </tr>\n",
       "    <tr>\n",
       "      <th>3</th>\n",
       "      <td>2014</td>\n",
       "      <td>Beauty</td>\n",
       "      <td>1610983</td>\n",
       "    </tr>\n",
       "    <tr>\n",
       "      <th>4</th>\n",
       "      <td>2014</td>\n",
       "      <td>Books</td>\n",
       "      <td>3710219</td>\n",
       "    </tr>\n",
       "  </tbody>\n",
       "</table>\n",
       "</div>"
      ],
      "text/plain": [
       "   year product_category  count_star_rating\n",
       "0  2014          Apparel            2122511\n",
       "1  2014       Automotive            1175637\n",
       "2  2014             Baby             479630\n",
       "3  2014           Beauty            1610983\n",
       "4  2014            Books            3710219"
      ]
     },
     "execution_count": 183,
     "metadata": {},
     "output_type": "execute_result"
    }
   ],
   "source": [
    "df = wr.data_api.redshift.read_sql_query(\n",
    "    sql=statement,\n",
    "    con=con_redshift,\n",
    ")\n",
    "\n",
    "df.head(5)"
   ]
  },
  {
   "cell_type": "code",
   "execution_count": 184,
   "id": "0bced431-54af-4f51-9814-664ab3b5b67f",
   "metadata": {},
   "outputs": [
    {
     "name": "stdout",
     "output_type": "stream",
     "text": [
      "\n",
      "SELECT year, product_category, COUNT(star_rating) AS count_star_rating\n",
      "  FROM redshift.amazon_reviews_tsv_2015\n",
      "  GROUP BY redshift.amazon_reviews_tsv_2015.product_category, year\n",
      "UNION ALL\n",
      "SELECT year, product_category, COUNT(star_rating) AS count_star_rating\n",
      "  FROM redshift.amazon_reviews_tsv_2014\n",
      "  GROUP BY redshift.amazon_reviews_tsv_2014.product_category, year\n",
      "UNION ALL\n",
      "SELECT CAST(DATE_PART_YEAR(TO_DATE(review_date, 'YYYY-MM-DD')) AS INTEGER) AS year, product_category, COUNT(star_rating) AS count_star_rating\n",
      "  FROM athena.amazon_reviews_tsv\n",
      "  WHERE year <= 2013\n",
      "  GROUP BY athena.amazon_reviews_tsv.product_category, year\n",
      "ORDER BY product_category ASC, year DESC\n",
      "\n"
     ]
    }
   ],
   "source": [
    "statement = \"\"\"\n",
    "SELECT year, product_category, COUNT(star_rating) AS count_star_rating\n",
    "  FROM redshift.amazon_reviews_tsv_2015\n",
    "  GROUP BY redshift.amazon_reviews_tsv_2015.product_category, year\n",
    "UNION ALL\n",
    "SELECT year, product_category, COUNT(star_rating) AS count_star_rating\n",
    "  FROM redshift.amazon_reviews_tsv_2014\n",
    "  GROUP BY redshift.amazon_reviews_tsv_2014.product_category, year\n",
    "UNION ALL\n",
    "SELECT CAST(DATE_PART_YEAR(TO_DATE(review_date, 'YYYY-MM-DD')) AS INTEGER) AS year, product_category, COUNT(star_rating) AS count_star_rating\n",
    "  FROM athena.amazon_reviews_tsv\n",
    "  WHERE year <= 2013\n",
    "  GROUP BY athena.amazon_reviews_tsv.product_category, year\n",
    "ORDER BY product_category ASC, year DESC\n",
    "\"\"\"\n",
    "\n",
    "print(statement)"
   ]
  },
  {
   "cell_type": "code",
   "execution_count": 185,
   "id": "926a2b71-c7e9-4bf6-b81a-bca8d42dd8a3",
   "metadata": {
    "tags": []
   },
   "outputs": [
    {
     "data": {
      "text/html": [
       "<div>\n",
       "<style scoped>\n",
       "    .dataframe tbody tr th:only-of-type {\n",
       "        vertical-align: middle;\n",
       "    }\n",
       "\n",
       "    .dataframe tbody tr th {\n",
       "        vertical-align: top;\n",
       "    }\n",
       "\n",
       "    .dataframe thead th {\n",
       "        text-align: right;\n",
       "    }\n",
       "</style>\n",
       "<table border=\"1\" class=\"dataframe\">\n",
       "  <thead>\n",
       "    <tr style=\"text-align: right;\">\n",
       "      <th></th>\n",
       "      <th>year</th>\n",
       "      <th>product_category</th>\n",
       "      <th>count_star_rating</th>\n",
       "    </tr>\n",
       "  </thead>\n",
       "  <tbody>\n",
       "    <tr>\n",
       "      <th>0</th>\n",
       "      <td>2014</td>\n",
       "      <td>Apparel</td>\n",
       "      <td>2122511</td>\n",
       "    </tr>\n",
       "    <tr>\n",
       "      <th>1</th>\n",
       "      <td>2013</td>\n",
       "      <td>Apparel</td>\n",
       "      <td>854826</td>\n",
       "    </tr>\n",
       "    <tr>\n",
       "      <th>2</th>\n",
       "      <td>2012</td>\n",
       "      <td>Apparel</td>\n",
       "      <td>273704</td>\n",
       "    </tr>\n",
       "    <tr>\n",
       "      <th>3</th>\n",
       "      <td>2011</td>\n",
       "      <td>Apparel</td>\n",
       "      <td>109328</td>\n",
       "    </tr>\n",
       "    <tr>\n",
       "      <th>4</th>\n",
       "      <td>2010</td>\n",
       "      <td>Apparel</td>\n",
       "      <td>57335</td>\n",
       "    </tr>\n",
       "  </tbody>\n",
       "</table>\n",
       "</div>"
      ],
      "text/plain": [
       "   year product_category  count_star_rating\n",
       "0  2014          Apparel            2122511\n",
       "1  2013          Apparel             854826\n",
       "2  2012          Apparel             273704\n",
       "3  2011          Apparel             109328\n",
       "4  2010          Apparel              57335"
      ]
     },
     "execution_count": 185,
     "metadata": {},
     "output_type": "execute_result"
    }
   ],
   "source": [
    "df = wr.data_api.redshift.read_sql_query(\n",
    "    sql=statement,\n",
    "    con=con_redshift,\n",
    ")\n",
    "\n",
    "df.head()"
   ]
  },
  {
   "cell_type": "code",
   "execution_count": 186,
   "id": "fa97b671-3e3a-457b-a7ed-4a866fb6cfba",
   "metadata": {
    "tags": []
   },
   "outputs": [
    {
     "name": "stdout",
     "output_type": "stream",
     "text": [
      "\n",
      "EXPLAIN \n",
      "SELECT year, product_category, COUNT(star_rating) AS count_star_rating\n",
      "  FROM redshift.amazon_reviews_tsv_2015\n",
      "  GROUP BY redshift.amazon_reviews_tsv_2015.product_category, year\n",
      "UNION ALL\n",
      "SELECT year, product_category, COUNT(star_rating) AS count_star_rating\n",
      "  FROM redshift.amazon_reviews_tsv_2014\n",
      "  GROUP BY redshift.amazon_reviews_tsv_2014.product_category, year\n",
      "UNION ALL\n",
      "SELECT CAST(DATE_PART_YEAR(TO_DATE(review_date, 'YYYY-MM-DD')) AS INTEGER) AS year, product_category, COUNT(star_rating) AS count_star_rating\n",
      "  FROM athena.amazon_reviews_tsv\n",
      "  WHERE year <= 2013\n",
      "  GROUP BY athena.amazon_reviews_tsv.product_category, year\n",
      "ORDER BY product_category ASC, year DESC\n",
      "\n"
     ]
    }
   ],
   "source": [
    "statement = \"\"\"\n",
    "EXPLAIN \n",
    "SELECT year, product_category, COUNT(star_rating) AS count_star_rating\n",
    "  FROM redshift.amazon_reviews_tsv_2015\n",
    "  GROUP BY redshift.amazon_reviews_tsv_2015.product_category, year\n",
    "UNION ALL\n",
    "SELECT year, product_category, COUNT(star_rating) AS count_star_rating\n",
    "  FROM redshift.amazon_reviews_tsv_2014\n",
    "  GROUP BY redshift.amazon_reviews_tsv_2014.product_category, year\n",
    "UNION ALL\n",
    "SELECT CAST(DATE_PART_YEAR(TO_DATE(review_date, 'YYYY-MM-DD')) AS INTEGER) AS year, product_category, COUNT(star_rating) AS count_star_rating\n",
    "  FROM athena.amazon_reviews_tsv\n",
    "  WHERE year <= 2013\n",
    "  GROUP BY athena.amazon_reviews_tsv.product_category, year\n",
    "ORDER BY product_category ASC, year DESC\n",
    "\"\"\"\n",
    "\n",
    "print(statement)"
   ]
  },
  {
   "cell_type": "code",
   "execution_count": 187,
   "id": "5730e5fd-6c37-4a5d-ae0f-3bd0711549ec",
   "metadata": {
    "tags": []
   },
   "outputs": [
    {
     "data": {
      "text/html": [
       "<div>\n",
       "<style scoped>\n",
       "    .dataframe tbody tr th:only-of-type {\n",
       "        vertical-align: middle;\n",
       "    }\n",
       "\n",
       "    .dataframe tbody tr th {\n",
       "        vertical-align: top;\n",
       "    }\n",
       "\n",
       "    .dataframe thead th {\n",
       "        text-align: right;\n",
       "    }\n",
       "</style>\n",
       "<table border=\"1\" class=\"dataframe\">\n",
       "  <thead>\n",
       "    <tr style=\"text-align: right;\">\n",
       "      <th></th>\n",
       "      <th>QUERY PLAN</th>\n",
       "    </tr>\n",
       "  </thead>\n",
       "  <tbody>\n",
       "    <tr>\n",
       "      <th>0</th>\n",
       "      <td>XN Merge  (cost=1000176690317.16..1000176690350.73 rows=13426 width=1040)</td>\n",
       "    </tr>\n",
       "    <tr>\n",
       "      <th>1</th>\n",
       "      <td>Merge Key: product_category, \"year\"</td>\n",
       "    </tr>\n",
       "    <tr>\n",
       "      <th>2</th>\n",
       "      <td>-&gt;  XN Network  (cost=1000176690317.16..1000176690350.73 rows=13426 width=1040)</td>\n",
       "    </tr>\n",
       "    <tr>\n",
       "      <th>3</th>\n",
       "      <td>Send to leader</td>\n",
       "    </tr>\n",
       "    <tr>\n",
       "      <th>4</th>\n",
       "      <td>-&gt;  XN Sort  (cost=1000176690317.16..1000176690350.73 rows=13426 width=1040)</td>\n",
       "    </tr>\n",
       "  </tbody>\n",
       "</table>\n",
       "</div>"
      ],
      "text/plain": [
       "                                                                             QUERY PLAN\n",
       "0             XN Merge  (cost=1000176690317.16..1000176690350.73 rows=13426 width=1040)\n",
       "1                                                   Merge Key: product_category, \"year\"\n",
       "2       ->  XN Network  (cost=1000176690317.16..1000176690350.73 rows=13426 width=1040)\n",
       "3                                                                        Send to leader\n",
       "4          ->  XN Sort  (cost=1000176690317.16..1000176690350.73 rows=13426 width=1040)"
      ]
     },
     "execution_count": 187,
     "metadata": {},
     "output_type": "execute_result"
    }
   ],
   "source": [
    "pd.set_option('display.max_rows', None)\n",
    "pd.set_option('display.max_columns', None)\n",
    "pd.set_option('display.width', None)\n",
    "pd.set_option('display.max_colwidth', 1024)\n",
    "\n",
    "df = wr.data_api.redshift.read_sql_query(\n",
    "    sql=statement,\n",
    "    con=con_redshift,\n",
    ")\n",
    "\n",
    "df.head()"
   ]
  },
  {
   "cell_type": "code",
   "execution_count": 188,
   "id": "d7b9b488-efb1-4779-b78b-55875b559e00",
   "metadata": {
    "tags": []
   },
   "outputs": [],
   "source": [
    "def unload_redshift_table(wr, con_redshift, table_name_prefix, start_year, end_year, s3_path, iam_role):\n",
    "    for year in range(start_year, end_year+1, 1):\n",
    "        current_table_name = table_name_prefix+'_'+str(year)\n",
    "        statement = \"\"\"\n",
    "            UNLOAD ('SELECT marketplace, customer_id, review_id, product_id, product_parent, \n",
    "                product_title, product_category, star_rating, helpful_votes, total_votes, \n",
    "                vine, verified_purchase, review_headline, review_body, review_date, year \n",
    "            FROM redshift.{}')\n",
    "            TO '{}/{}/'\n",
    "            IAM_ROLE '{}'\n",
    "            PARQUET PARALLEL ON \n",
    "            PARTITION BY (product_category)\n",
    "        \"\"\".format(current_table_name, s3_path, year, iam_role)\n",
    "\n",
    "        wr.data_api.redshift.read_sql_query(\n",
    "            sql=statement,\n",
    "            con=con_redshift,\n",
    "        )\n",
    "    print(\"Done.\")"
   ]
  },
  {
   "cell_type": "code",
   "execution_count": 190,
   "id": "f01c9afa-f50a-4147-a89e-e9c61bf98d6c",
   "metadata": {
    "tags": []
   },
   "outputs": [
    {
     "ename": "RedshiftDataApiTimeoutException",
     "evalue": "Request ac8e944e-6d49-4a62-ab07-bdd6feb3bf35 timed out after 16 tries and 491.8806266784668s total sleep",
     "output_type": "error",
     "traceback": [
      "\u001b[0;31m---------------------------------------------------------------------------\u001b[0m",
      "\u001b[0;31mRedshiftDataApiTimeoutException\u001b[0m           Traceback (most recent call last)",
      "\u001b[0;32m<ipython-input-190-0ac222a61e6a>\u001b[0m in \u001b[0;36m<module>\u001b[0;34m\u001b[0m\n\u001b[0;32m----> 1\u001b[0;31m \u001b[0munload_redshift_table\u001b[0m\u001b[0;34m(\u001b[0m\u001b[0mwr\u001b[0m\u001b[0;34m,\u001b[0m \u001b[0mcon_redshift\u001b[0m\u001b[0;34m,\u001b[0m \u001b[0;34m'amazon_reviews_tsv'\u001b[0m\u001b[0;34m,\u001b[0m \u001b[0;36m2014\u001b[0m\u001b[0;34m,\u001b[0m \u001b[0;36m2015\u001b[0m\u001b[0;34m,\u001b[0m \u001b[0;34m\"s3://amazon-reviews-capstone/amazon-reviews-pds/parquet-redshift/\"\u001b[0m\u001b[0;34m.\u001b[0m\u001b[0mformat\u001b[0m\u001b[0;34m(\u001b[0m\u001b[0mbucket\u001b[0m\u001b[0;34m)\u001b[0m\u001b[0;34m,\u001b[0m \u001b[0miam_role\u001b[0m\u001b[0;34m)\u001b[0m\u001b[0;34m\u001b[0m\u001b[0;34m\u001b[0m\u001b[0m\n\u001b[0m",
      "\u001b[0;32m<ipython-input-188-5a95c09c7d66>\u001b[0m in \u001b[0;36munload_redshift_table\u001b[0;34m(wr, con_redshift, table_name_prefix, start_year, end_year, s3_path, iam_role)\u001b[0m\n\u001b[1;32m     15\u001b[0m         wr.data_api.redshift.read_sql_query(\n\u001b[1;32m     16\u001b[0m             \u001b[0msql\u001b[0m\u001b[0;34m=\u001b[0m\u001b[0mstatement\u001b[0m\u001b[0;34m,\u001b[0m\u001b[0;34m\u001b[0m\u001b[0;34m\u001b[0m\u001b[0m\n\u001b[0;32m---> 17\u001b[0;31m             \u001b[0mcon\u001b[0m\u001b[0;34m=\u001b[0m\u001b[0mcon_redshift\u001b[0m\u001b[0;34m,\u001b[0m\u001b[0;34m\u001b[0m\u001b[0;34m\u001b[0m\u001b[0m\n\u001b[0m\u001b[1;32m     18\u001b[0m         )\n\u001b[1;32m     19\u001b[0m     \u001b[0mprint\u001b[0m\u001b[0;34m(\u001b[0m\u001b[0;34m\"Done.\"\u001b[0m\u001b[0;34m)\u001b[0m\u001b[0;34m\u001b[0m\u001b[0;34m\u001b[0m\u001b[0m\n",
      "\u001b[0;32m/opt/conda/lib/python3.7/site-packages/awswrangler/data_api/redshift.py\u001b[0m in \u001b[0;36mread_sql_query\u001b[0;34m(sql, con, database)\u001b[0m\n\u001b[1;32m    254\u001b[0m     \u001b[0mA\u001b[0m \u001b[0mPandas\u001b[0m \u001b[0mdataframe\u001b[0m \u001b[0mcontaining\u001b[0m \u001b[0mthe\u001b[0m \u001b[0mquery\u001b[0m \u001b[0mresults\u001b[0m\u001b[0;34m.\u001b[0m\u001b[0;34m\u001b[0m\u001b[0;34m\u001b[0m\u001b[0m\n\u001b[1;32m    255\u001b[0m     \"\"\"\n\u001b[0;32m--> 256\u001b[0;31m     \u001b[0;32mreturn\u001b[0m \u001b[0mcon\u001b[0m\u001b[0;34m.\u001b[0m\u001b[0mexecute\u001b[0m\u001b[0;34m(\u001b[0m\u001b[0msql\u001b[0m\u001b[0;34m,\u001b[0m \u001b[0mdatabase\u001b[0m\u001b[0;34m=\u001b[0m\u001b[0mdatabase\u001b[0m\u001b[0;34m)\u001b[0m\u001b[0;34m\u001b[0m\u001b[0;34m\u001b[0m\u001b[0m\n\u001b[0m",
      "\u001b[0;32m/opt/conda/lib/python3.7/site-packages/awswrangler/data_api/connector.py\u001b[0m in \u001b[0;36mexecute\u001b[0;34m(self, sql, database)\u001b[0m\n\u001b[1;32m     26\u001b[0m         \"\"\"\n\u001b[1;32m     27\u001b[0m         \u001b[0mrequest_id\u001b[0m\u001b[0;34m:\u001b[0m \u001b[0mstr\u001b[0m \u001b[0;34m=\u001b[0m \u001b[0mself\u001b[0m\u001b[0;34m.\u001b[0m\u001b[0m_execute_statement\u001b[0m\u001b[0;34m(\u001b[0m\u001b[0msql\u001b[0m\u001b[0;34m,\u001b[0m \u001b[0mdatabase\u001b[0m\u001b[0;34m=\u001b[0m\u001b[0mdatabase\u001b[0m\u001b[0;34m)\u001b[0m\u001b[0;34m\u001b[0m\u001b[0;34m\u001b[0m\u001b[0m\n\u001b[0;32m---> 28\u001b[0;31m         \u001b[0;32mreturn\u001b[0m \u001b[0mself\u001b[0m\u001b[0;34m.\u001b[0m\u001b[0m_get_statement_result\u001b[0m\u001b[0;34m(\u001b[0m\u001b[0mrequest_id\u001b[0m\u001b[0;34m)\u001b[0m\u001b[0;34m\u001b[0m\u001b[0;34m\u001b[0m\u001b[0m\n\u001b[0m\u001b[1;32m     29\u001b[0m \u001b[0;34m\u001b[0m\u001b[0m\n\u001b[1;32m     30\u001b[0m     \u001b[0;32mdef\u001b[0m \u001b[0m_execute_statement\u001b[0m\u001b[0;34m(\u001b[0m\u001b[0mself\u001b[0m\u001b[0;34m,\u001b[0m \u001b[0msql\u001b[0m\u001b[0;34m:\u001b[0m \u001b[0mstr\u001b[0m\u001b[0;34m,\u001b[0m \u001b[0mdatabase\u001b[0m\u001b[0;34m:\u001b[0m \u001b[0mOptional\u001b[0m\u001b[0;34m[\u001b[0m\u001b[0mstr\u001b[0m\u001b[0;34m]\u001b[0m \u001b[0;34m=\u001b[0m \u001b[0;32mNone\u001b[0m\u001b[0;34m)\u001b[0m \u001b[0;34m->\u001b[0m \u001b[0mstr\u001b[0m\u001b[0;34m:\u001b[0m\u001b[0;34m\u001b[0m\u001b[0;34m\u001b[0m\u001b[0m\n",
      "\u001b[0;32m/opt/conda/lib/python3.7/site-packages/awswrangler/data_api/redshift.py\u001b[0m in \u001b[0;36m_get_statement_result\u001b[0;34m(self, request_id)\u001b[0m\n\u001b[1;32m    100\u001b[0m \u001b[0;34m\u001b[0m\u001b[0m\n\u001b[1;32m    101\u001b[0m     \u001b[0;32mdef\u001b[0m \u001b[0m_get_statement_result\u001b[0m\u001b[0;34m(\u001b[0m\u001b[0mself\u001b[0m\u001b[0;34m,\u001b[0m \u001b[0mrequest_id\u001b[0m\u001b[0;34m:\u001b[0m \u001b[0mstr\u001b[0m\u001b[0;34m)\u001b[0m \u001b[0;34m->\u001b[0m \u001b[0mpd\u001b[0m\u001b[0;34m.\u001b[0m\u001b[0mDataFrame\u001b[0m\u001b[0;34m:\u001b[0m\u001b[0;34m\u001b[0m\u001b[0;34m\u001b[0m\u001b[0m\n\u001b[0;32m--> 102\u001b[0;31m         \u001b[0mself\u001b[0m\u001b[0;34m.\u001b[0m\u001b[0mwaiter\u001b[0m\u001b[0;34m.\u001b[0m\u001b[0mwait\u001b[0m\u001b[0;34m(\u001b[0m\u001b[0mrequest_id\u001b[0m\u001b[0;34m)\u001b[0m\u001b[0;34m\u001b[0m\u001b[0;34m\u001b[0m\u001b[0m\n\u001b[0m\u001b[1;32m    103\u001b[0m         \u001b[0mresponse\u001b[0m\u001b[0;34m:\u001b[0m \u001b[0mDict\u001b[0m\u001b[0;34m[\u001b[0m\u001b[0mstr\u001b[0m\u001b[0;34m,\u001b[0m \u001b[0mAny\u001b[0m\u001b[0;34m]\u001b[0m\u001b[0;34m\u001b[0m\u001b[0;34m\u001b[0m\u001b[0m\n\u001b[1;32m    104\u001b[0m         \u001b[0mresponse\u001b[0m \u001b[0;34m=\u001b[0m \u001b[0mself\u001b[0m\u001b[0;34m.\u001b[0m\u001b[0mclient\u001b[0m\u001b[0;34m.\u001b[0m\u001b[0mdescribe_statement\u001b[0m\u001b[0;34m(\u001b[0m\u001b[0mId\u001b[0m\u001b[0;34m=\u001b[0m\u001b[0mrequest_id\u001b[0m\u001b[0;34m)\u001b[0m\u001b[0;34m\u001b[0m\u001b[0;34m\u001b[0m\u001b[0m\n",
      "\u001b[0;32m/opt/conda/lib/python3.7/site-packages/awswrangler/data_api/redshift.py\u001b[0m in \u001b[0;36mwait\u001b[0;34m(self, request_id)\u001b[0m\n\u001b[1;32m    178\u001b[0m             \u001b[0mtotal_sleep\u001b[0m \u001b[0;34m+=\u001b[0m \u001b[0msleep\u001b[0m\u001b[0;34m\u001b[0m\u001b[0;34m\u001b[0m\u001b[0m\n\u001b[1;32m    179\u001b[0m         raise RedshiftDataApiTimeoutException(\n\u001b[0;32m--> 180\u001b[0;31m             \u001b[0;34mf\"Request {request_id} timed out after {total_tries} tries and {total_sleep}s total sleep\"\u001b[0m\u001b[0;34m\u001b[0m\u001b[0;34m\u001b[0m\u001b[0m\n\u001b[0m\u001b[1;32m    181\u001b[0m         )\n\u001b[1;32m    182\u001b[0m \u001b[0;34m\u001b[0m\u001b[0m\n",
      "\u001b[0;31mRedshiftDataApiTimeoutException\u001b[0m: Request ac8e944e-6d49-4a62-ab07-bdd6feb3bf35 timed out after 16 tries and 491.8806266784668s total sleep"
     ]
    }
   ],
   "source": [
    "unload_redshift_table(wr, con_redshift, 'amazon_reviews_tsv', 2014, 2015, \"s3://amazon-reviews-capstone/amazon-reviews-pds/parquet-redshift/\".format(bucket), iam_role)"
   ]
  },
  {
   "cell_type": "code",
   "execution_count": null,
   "id": "42dd46ec-8205-427d-89f0-a3fe18d06e56",
   "metadata": {},
   "outputs": [],
   "source": []
  }
 ],
 "metadata": {
  "forced_instance_type": "ml.t3.medium",
  "forced_lcc_arn": "",
  "instance_type": "ml.t3.medium",
  "kernelspec": {
   "display_name": "Python 3 (Data Science)",
   "language": "python",
   "name": "python3__SAGEMAKER_INTERNAL__arn:aws:sagemaker:us-east-1:081325390199:image/datascience-1.0"
  },
  "language_info": {
   "codemirror_mode": {
    "name": "ipython",
    "version": 3
   },
   "file_extension": ".py",
   "mimetype": "text/x-python",
   "name": "python",
   "nbconvert_exporter": "python",
   "pygments_lexer": "ipython3",
   "version": "3.7.10"
  }
 },
 "nbformat": 4,
 "nbformat_minor": 5
}
