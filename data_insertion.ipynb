{
 "cells": [
  {
   "cell_type": "code",
   "execution_count": 3,
   "id": "ea68a052-aa9e-4bf4-a9db-2b9b749e2fba",
   "metadata": {
    "tags": []
   },
   "outputs": [
    {
     "name": "stdout",
     "output_type": "stream",
     "text": [
      "2017-11-24 13:22:50          0 \n",
      "2017-11-24 13:48:03  241896005 amazon_reviews_multilingual_DE_v1_00.tsv.gz\n",
      "2017-11-24 13:48:17   70583516 amazon_reviews_multilingual_FR_v1_00.tsv.gz\n",
      "2017-11-24 13:48:34   94688992 amazon_reviews_multilingual_JP_v1_00.tsv.gz\n",
      "2017-11-24 13:49:14  349370868 amazon_reviews_multilingual_UK_v1_00.tsv.gz\n",
      "2017-11-24 13:48:47 1466965039 amazon_reviews_multilingual_US_v1_00.tsv.gz\n",
      "2017-11-24 13:49:53  648641286 amazon_reviews_us_Apparel_v1_00.tsv.gz\n",
      "2017-11-24 13:56:36  582145299 amazon_reviews_us_Automotive_v1_00.tsv.gz\n",
      "2017-11-24 14:04:02  357392893 amazon_reviews_us_Baby_v1_00.tsv.gz\n",
      "2017-11-24 14:08:11  914070021 amazon_reviews_us_Beauty_v1_00.tsv.gz\n",
      "2017-11-24 14:17:41 2740337188 amazon_reviews_us_Books_v1_00.tsv.gz\n",
      "2017-11-24 14:45:50 2692708591 amazon_reviews_us_Books_v1_01.tsv.gz\n",
      "2017-11-24 15:10:21 1329539135 amazon_reviews_us_Books_v1_02.tsv.gz\n",
      "2017-11-24 15:22:13  442653086 amazon_reviews_us_Camera_v1_00.tsv.gz\n",
      "2017-11-24 15:27:13 2689739299 amazon_reviews_us_Digital_Ebook_Purchase_v1_00.tsv.gz\n",
      "2017-11-24 15:49:13 1294879074 amazon_reviews_us_Digital_Ebook_Purchase_v1_01.tsv.gz\n",
      "2017-11-24 15:59:24  253570168 amazon_reviews_us_Digital_Music_Purchase_v1_00.tsv.gz\n",
      "2017-11-24 16:01:47   18997559 amazon_reviews_us_Digital_Software_v1_00.tsv.gz\n",
      "2017-11-24 16:01:53  506979922 amazon_reviews_us_Digital_Video_Download_v1_00.tsv.gz\n",
      "2017-11-24 16:06:31   27442648 amazon_reviews_us_Digital_Video_Games_v1_00.tsv.gz\n",
      "2017-11-24 16:06:42  698828243 amazon_reviews_us_Electronics_v1_00.tsv.gz\n",
      "2017-11-24 16:12:44  148982796 amazon_reviews_us_Furniture_v1_00.tsv.gz\n",
      "2017-11-24 16:13:52   12134676 amazon_reviews_us_Gift_Card_v1_00.tsv.gz\n",
      "2017-11-24 16:13:59  401337166 amazon_reviews_us_Grocery_v1_00.tsv.gz\n",
      "2017-11-24 19:55:29 1011180212 amazon_reviews_us_Health_Personal_Care_v1_00.tsv.gz\n",
      "2017-11-24 20:30:55  193168458 amazon_reviews_us_Home_Entertainment_v1_00.tsv.gz\n",
      "2017-11-24 20:37:56  503339178 amazon_reviews_us_Home_Improvement_v1_00.tsv.gz\n",
      "2017-11-24 20:55:43 1081002012 amazon_reviews_us_Home_v1_00.tsv.gz\n",
      "2017-11-24 21:47:51  247022254 amazon_reviews_us_Jewelry_v1_00.tsv.gz\n",
      "2017-11-24 21:59:56  930744854 amazon_reviews_us_Kitchen_v1_00.tsv.gz\n",
      "2017-11-24 23:41:48  486772662 amazon_reviews_us_Lawn_and_Garden_v1_00.tsv.gz\n",
      "2017-11-24 23:59:42   60320191 amazon_reviews_us_Luggage_v1_00.tsv.gz\n",
      "2017-11-25 00:01:59   24359816 amazon_reviews_us_Major_Appliances_v1_00.tsv.gz\n",
      "2017-11-25 00:02:45  557959415 amazon_reviews_us_Mobile_Apps_v1_00.tsv.gz\n",
      "2017-11-25 00:22:19   22870508 amazon_reviews_us_Mobile_Electronics_v1_00.tsv.gz\n",
      "2017-11-25 00:23:06 1521994296 amazon_reviews_us_Music_v1_00.tsv.gz\n",
      "2017-11-25 00:58:36  193389086 amazon_reviews_us_Musical_Instruments_v1_00.tsv.gz\n",
      "2017-11-25 01:03:14  512323500 amazon_reviews_us_Office_Products_v1_00.tsv.gz\n",
      "2017-11-25 07:21:21  448963100 amazon_reviews_us_Outdoors_v1_00.tsv.gz\n",
      "2017-11-25 07:32:46 1512903923 amazon_reviews_us_PC_v1_00.tsv.gz\n",
      "2017-11-25 08:10:33   17634794 amazon_reviews_us_Personal_Care_Appliances_v1_00.tsv.gz\n",
      "2017-11-25 08:11:02  515815253 amazon_reviews_us_Pet_Products_v1_00.tsv.gz\n",
      "2017-11-25 08:22:26  642255314 amazon_reviews_us_Shoes_v1_00.tsv.gz\n",
      "2017-11-25 08:39:15   94010685 amazon_reviews_us_Software_v1_00.tsv.gz\n",
      "2017-11-27 10:36:58  872478735 amazon_reviews_us_Sports_v1_00.tsv.gz\n",
      "2017-11-25 08:52:11  333782939 amazon_reviews_us_Tools_v1_00.tsv.gz\n",
      "2017-11-25 09:06:08  838451398 amazon_reviews_us_Toys_v1_00.tsv.gz\n",
      "2017-11-25 09:42:13 1512355451 amazon_reviews_us_Video_DVD_v1_00.tsv.gz\n",
      "2017-11-25 10:50:22  475199894 amazon_reviews_us_Video_Games_v1_00.tsv.gz\n",
      "2017-11-25 11:07:59  138929896 amazon_reviews_us_Video_v1_00.tsv.gz\n",
      "2017-11-25 11:14:07  162973819 amazon_reviews_us_Watches_v1_00.tsv.gz\n",
      "2017-11-26 15:24:07 1704713674 amazon_reviews_us_Wireless_v1_00.tsv.gz\n",
      "2022-02-17 08:46:18       6162 index.txt\n",
      "2017-11-27 11:08:16      17553 sample_fr.tsv\n",
      "2017-11-27 11:08:17      15906 sample_us.tsv\n"
     ]
    }
   ],
   "source": [
    "!aws s3 ls s3://amazon-reviews-pds/tsv/"
   ]
  },
  {
   "cell_type": "code",
   "execution_count": 4,
   "id": "d8ae66df-8311-46b8-b7a2-e57f50907635",
   "metadata": {
    "tags": []
   },
   "outputs": [
    {
     "name": "stdout",
     "output_type": "stream",
     "text": [
      "                           PRE product_category=Apparel/\n",
      "                           PRE product_category=Automotive/\n",
      "                           PRE product_category=Baby/\n",
      "                           PRE product_category=Beauty/\n",
      "                           PRE product_category=Books/\n",
      "                           PRE product_category=Camera/\n",
      "                           PRE product_category=Digital_Ebook_Purchase/\n",
      "                           PRE product_category=Digital_Music_Purchase/\n",
      "                           PRE product_category=Digital_Software/\n",
      "                           PRE product_category=Digital_Video_Download/\n",
      "                           PRE product_category=Digital_Video_Games/\n",
      "                           PRE product_category=Electronics/\n",
      "                           PRE product_category=Furniture/\n",
      "                           PRE product_category=Gift_Card/\n",
      "                           PRE product_category=Grocery/\n",
      "                           PRE product_category=Health_&_Personal_Care/\n",
      "                           PRE product_category=Home/\n",
      "                           PRE product_category=Home_Entertainment/\n",
      "                           PRE product_category=Home_Improvement/\n",
      "                           PRE product_category=Jewelry/\n",
      "                           PRE product_category=Kitchen/\n",
      "                           PRE product_category=Lawn_and_Garden/\n",
      "                           PRE product_category=Luggage/\n",
      "                           PRE product_category=Major_Appliances/\n",
      "                           PRE product_category=Mobile_Apps/\n",
      "                           PRE product_category=Mobile_Electronics/\n",
      "                           PRE product_category=Music/\n",
      "                           PRE product_category=Musical_Instruments/\n",
      "                           PRE product_category=Office_Products/\n",
      "                           PRE product_category=Outdoors/\n",
      "                           PRE product_category=PC/\n",
      "                           PRE product_category=Personal_Care_Appliances/\n",
      "                           PRE product_category=Pet_Products/\n",
      "                           PRE product_category=Shoes/\n",
      "                           PRE product_category=Software/\n",
      "                           PRE product_category=Sports/\n",
      "                           PRE product_category=Tools/\n",
      "                           PRE product_category=Toys/\n",
      "                           PRE product_category=Video/\n",
      "                           PRE product_category=Video_DVD/\n",
      "                           PRE product_category=Video_Games/\n",
      "                           PRE product_category=Watches/\n",
      "                           PRE product_category=Wireless/\n"
     ]
    }
   ],
   "source": [
    "!aws s3 ls s3://amazon-reviews-pds/parquet/"
   ]
  },
  {
   "cell_type": "code",
   "execution_count": 33,
   "id": "d739cdc5-9f33-4425-bdb2-18b5fde38989",
   "metadata": {
    "tags": []
   },
   "outputs": [],
   "source": [
    "import boto3\n",
    "import sagemaker\n",
    "import pandas as pd\n",
    "\n",
    "sess = sagemaker.Session()\n",
    "bucket = sess.default_bucket()\n",
    "role = sagemaker.get_execution_role()\n",
    "region = boto3.Session().region_name\n",
    "account_id = boto3.client(\"sts\").get_caller_identity().get(\"Account\")\n",
    "\n",
    "sm = boto3.Session().client(service_name=\"sagemaker\", region_name=region)"
   ]
  },
  {
   "cell_type": "code",
   "execution_count": 23,
   "id": "3c8880ee-5e63-437d-9487-2d0eaa6ec042",
   "metadata": {
    "tags": []
   },
   "outputs": [
    {
     "name": "stdout",
     "output_type": "stream",
     "text": [
      "make_bucket: amazon-reviews-capstone\n"
     ]
    }
   ],
   "source": [
    "!aws s3 mb s3://amazon-reviews-capstone"
   ]
  },
  {
   "cell_type": "code",
   "execution_count": 25,
   "id": "83b0ef0d-2030-4e6d-9f87-9231afafe417",
   "metadata": {
    "tags": []
   },
   "outputs": [],
   "source": [
    "s3_public_source_tsv = \"s3://amazon-reviews-pds/tsv\""
   ]
  },
  {
   "cell_type": "code",
   "execution_count": 26,
   "id": "33f1a841-de8e-4485-8bc2-7aac4ceb8a1b",
   "metadata": {
    "tags": []
   },
   "outputs": [
    {
     "name": "stdout",
     "output_type": "stream",
     "text": [
      "Stored 's3_source_tsv' (str)\n"
     ]
    }
   ],
   "source": [
    "%store s3_source_tsv"
   ]
  },
  {
   "cell_type": "code",
   "execution_count": 27,
   "id": "18a21f28-aa68-4828-bd07-e514dd29d926",
   "metadata": {
    "tags": []
   },
   "outputs": [
    {
     "name": "stdout",
     "output_type": "stream",
     "text": [
      "s3://amazon-reviews-capstone/amazon-reviews-pds/tsv\n"
     ]
    }
   ],
   "source": [
    "s3_private_source_tsv = \"s3://amazon-reviews-capstone/amazon-reviews-pds/tsv\".format(bucket)\n",
    "print(s3_private_source_tsv)"
   ]
  },
  {
   "cell_type": "code",
   "execution_count": 28,
   "id": "cac4753d-757a-4861-b643-5736abe062cb",
   "metadata": {
    "tags": []
   },
   "outputs": [
    {
     "name": "stdout",
     "output_type": "stream",
     "text": [
      "Stored 's3_private_source_tsv' (str)\n"
     ]
    }
   ],
   "source": [
    "%store s3_private_source_tsv"
   ]
  },
  {
   "cell_type": "code",
   "execution_count": 29,
   "id": "7b1a46e6-791a-4785-b23d-21797f54ab27",
   "metadata": {
    "tags": []
   },
   "outputs": [
    {
     "name": "stdout",
     "output_type": "stream",
     "text": [
      "copy: s3://amazon-reviews-pds/tsv/amazon_reviews_multilingual_FR_v1_00.tsv.gz to s3://amazon-reviews-capstone/amazon-reviews-pds/tsv/amazon_reviews_multilingual_FR_v1_00.tsv.gz\n",
      "copy: s3://amazon-reviews-pds/tsv/amazon_reviews_multilingual_JP_v1_00.tsv.gz to s3://amazon-reviews-capstone/amazon-reviews-pds/tsv/amazon_reviews_multilingual_JP_v1_00.tsv.gz\n",
      "copy: s3://amazon-reviews-pds/tsv/amazon_reviews_us_Apparel_v1_00.tsv.gz to s3://amazon-reviews-capstone/amazon-reviews-pds/tsv/amazon_reviews_us_Apparel_v1_00.tsv.gz\n",
      "copy: s3://amazon-reviews-pds/tsv/amazon_reviews_multilingual_DE_v1_00.tsv.gz to s3://amazon-reviews-capstone/amazon-reviews-pds/tsv/amazon_reviews_multilingual_DE_v1_00.tsv.gz\n",
      "copy: s3://amazon-reviews-pds/tsv/amazon_reviews_multilingual_UK_v1_00.tsv.gz to s3://amazon-reviews-capstone/amazon-reviews-pds/tsv/amazon_reviews_multilingual_UK_v1_00.tsv.gz\n",
      "copy: s3://amazon-reviews-pds/tsv/amazon_reviews_us_Beauty_v1_00.tsv.gz to s3://amazon-reviews-capstone/amazon-reviews-pds/tsv/amazon_reviews_us_Beauty_v1_00.tsv.gz\n",
      "copy: s3://amazon-reviews-pds/tsv/amazon_reviews_us_Baby_v1_00.tsv.gz to s3://amazon-reviews-capstone/amazon-reviews-pds/tsv/amazon_reviews_us_Baby_v1_00.tsv.gz\n",
      "copy: s3://amazon-reviews-pds/tsv/amazon_reviews_us_Automotive_v1_00.tsv.gz to s3://amazon-reviews-capstone/amazon-reviews-pds/tsv/amazon_reviews_us_Automotive_v1_00.tsv.gz\n",
      "copy: s3://amazon-reviews-pds/tsv/amazon_reviews_multilingual_US_v1_00.tsv.gz to s3://amazon-reviews-capstone/amazon-reviews-pds/tsv/amazon_reviews_multilingual_US_v1_00.tsv.gz\n",
      "copy: s3://amazon-reviews-pds/tsv/amazon_reviews_us_Camera_v1_00.tsv.gz to s3://amazon-reviews-capstone/amazon-reviews-pds/tsv/amazon_reviews_us_Camera_v1_00.tsv.gz\n",
      "copy: s3://amazon-reviews-pds/tsv/amazon_reviews_us_Books_v1_02.tsv.gz to s3://amazon-reviews-capstone/amazon-reviews-pds/tsv/amazon_reviews_us_Books_v1_02.tsv.gz\n",
      "copy: s3://amazon-reviews-pds/tsv/amazon_reviews_us_Digital_Music_Purchase_v1_00.tsv.gz to s3://amazon-reviews-capstone/amazon-reviews-pds/tsv/amazon_reviews_us_Digital_Music_Purchase_v1_00.tsv.gz\n",
      "copy: s3://amazon-reviews-pds/tsv/amazon_reviews_us_Digital_Software_v1_00.tsv.gz to s3://amazon-reviews-capstone/amazon-reviews-pds/tsv/amazon_reviews_us_Digital_Software_v1_00.tsv.gz\n",
      "copy: s3://amazon-reviews-pds/tsv/amazon_reviews_us_Digital_Video_Download_v1_00.tsv.gz to s3://amazon-reviews-capstone/amazon-reviews-pds/tsv/amazon_reviews_us_Digital_Video_Download_v1_00.tsv.gz\n",
      "copy: s3://amazon-reviews-pds/tsv/amazon_reviews_us_Digital_Video_Games_v1_00.tsv.gz to s3://amazon-reviews-capstone/amazon-reviews-pds/tsv/amazon_reviews_us_Digital_Video_Games_v1_00.tsv.gz\n",
      "copy: s3://amazon-reviews-pds/tsv/amazon_reviews_us_Digital_Ebook_Purchase_v1_01.tsv.gz to s3://amazon-reviews-capstone/amazon-reviews-pds/tsv/amazon_reviews_us_Digital_Ebook_Purchase_v1_01.tsv.gz\n",
      "copy: s3://amazon-reviews-pds/tsv/amazon_reviews_us_Furniture_v1_00.tsv.gz to s3://amazon-reviews-capstone/amazon-reviews-pds/tsv/amazon_reviews_us_Furniture_v1_00.tsv.gz\n",
      "copy: s3://amazon-reviews-pds/tsv/amazon_reviews_us_Gift_Card_v1_00.tsv.gz to s3://amazon-reviews-capstone/amazon-reviews-pds/tsv/amazon_reviews_us_Gift_Card_v1_00.tsv.gz\n",
      "copy: s3://amazon-reviews-pds/tsv/amazon_reviews_us_Electronics_v1_00.tsv.gz to s3://amazon-reviews-capstone/amazon-reviews-pds/tsv/amazon_reviews_us_Electronics_v1_00.tsv.gz\n",
      "copy: s3://amazon-reviews-pds/tsv/amazon_reviews_us_Books_v1_00.tsv.gz to s3://amazon-reviews-capstone/amazon-reviews-pds/tsv/amazon_reviews_us_Books_v1_00.tsv.gz\n",
      "copy: s3://amazon-reviews-pds/tsv/amazon_reviews_us_Books_v1_01.tsv.gz to s3://amazon-reviews-capstone/amazon-reviews-pds/tsv/amazon_reviews_us_Books_v1_01.tsv.gz\n",
      "copy: s3://amazon-reviews-pds/tsv/amazon_reviews_us_Grocery_v1_00.tsv.gz to s3://amazon-reviews-capstone/amazon-reviews-pds/tsv/amazon_reviews_us_Grocery_v1_00.tsv.gz\n",
      "copy: s3://amazon-reviews-pds/tsv/amazon_reviews_us_Home_Entertainment_v1_00.tsv.gz to s3://amazon-reviews-capstone/amazon-reviews-pds/tsv/amazon_reviews_us_Home_Entertainment_v1_00.tsv.gz\n",
      "copy: s3://amazon-reviews-pds/tsv/amazon_reviews_us_Jewelry_v1_00.tsv.gz to s3://amazon-reviews-capstone/amazon-reviews-pds/tsv/amazon_reviews_us_Jewelry_v1_00.tsv.gz\n",
      "copy: s3://amazon-reviews-pds/tsv/amazon_reviews_us_Home_Improvement_v1_00.tsv.gz to s3://amazon-reviews-capstone/amazon-reviews-pds/tsv/amazon_reviews_us_Home_Improvement_v1_00.tsv.gz\n",
      "copy: s3://amazon-reviews-pds/tsv/amazon_reviews_us_Digital_Ebook_Purchase_v1_00.tsv.gz to s3://amazon-reviews-capstone/amazon-reviews-pds/tsv/amazon_reviews_us_Digital_Ebook_Purchase_v1_00.tsv.gz\n",
      "copy: s3://amazon-reviews-pds/tsv/amazon_reviews_us_Health_Personal_Care_v1_00.tsv.gz to s3://amazon-reviews-capstone/amazon-reviews-pds/tsv/amazon_reviews_us_Health_Personal_Care_v1_00.tsv.gz\n",
      "copy: s3://amazon-reviews-pds/tsv/amazon_reviews_us_Major_Appliances_v1_00.tsv.gz to s3://amazon-reviews-capstone/amazon-reviews-pds/tsv/amazon_reviews_us_Major_Appliances_v1_00.tsv.gz\n",
      "copy: s3://amazon-reviews-pds/tsv/amazon_reviews_us_Luggage_v1_00.tsv.gz to s3://amazon-reviews-capstone/amazon-reviews-pds/tsv/amazon_reviews_us_Luggage_v1_00.tsv.gz\n",
      "copy: s3://amazon-reviews-pds/tsv/amazon_reviews_us_Mobile_Electronics_v1_00.tsv.gz to s3://amazon-reviews-capstone/amazon-reviews-pds/tsv/amazon_reviews_us_Mobile_Electronics_v1_00.tsv.gz\n",
      "copy: s3://amazon-reviews-pds/tsv/amazon_reviews_us_Lawn_and_Garden_v1_00.tsv.gz to s3://amazon-reviews-capstone/amazon-reviews-pds/tsv/amazon_reviews_us_Lawn_and_Garden_v1_00.tsv.gz\n",
      "copy: s3://amazon-reviews-pds/tsv/amazon_reviews_us_Home_v1_00.tsv.gz to s3://amazon-reviews-capstone/amazon-reviews-pds/tsv/amazon_reviews_us_Home_v1_00.tsv.gz\n",
      "copy: s3://amazon-reviews-pds/tsv/amazon_reviews_us_Musical_Instruments_v1_00.tsv.gz to s3://amazon-reviews-capstone/amazon-reviews-pds/tsv/amazon_reviews_us_Musical_Instruments_v1_00.tsv.gz\n",
      "copy: s3://amazon-reviews-pds/tsv/amazon_reviews_us_Kitchen_v1_00.tsv.gz to s3://amazon-reviews-capstone/amazon-reviews-pds/tsv/amazon_reviews_us_Kitchen_v1_00.tsv.gz\n",
      "copy: s3://amazon-reviews-pds/tsv/amazon_reviews_us_Mobile_Apps_v1_00.tsv.gz to s3://amazon-reviews-capstone/amazon-reviews-pds/tsv/amazon_reviews_us_Mobile_Apps_v1_00.tsv.gz\n",
      "copy: s3://amazon-reviews-pds/tsv/amazon_reviews_us_Personal_Care_Appliances_v1_00.tsv.gz to s3://amazon-reviews-capstone/amazon-reviews-pds/tsv/amazon_reviews_us_Personal_Care_Appliances_v1_00.tsv.gz\n",
      "copy: s3://amazon-reviews-pds/tsv/amazon_reviews_us_Office_Products_v1_00.tsv.gz to s3://amazon-reviews-capstone/amazon-reviews-pds/tsv/amazon_reviews_us_Office_Products_v1_00.tsv.gz\n",
      "copy: s3://amazon-reviews-pds/tsv/amazon_reviews_us_Outdoors_v1_00.tsv.gz to s3://amazon-reviews-capstone/amazon-reviews-pds/tsv/amazon_reviews_us_Outdoors_v1_00.tsv.gz\n",
      "copy: s3://amazon-reviews-pds/tsv/amazon_reviews_us_Software_v1_00.tsv.gz to s3://amazon-reviews-capstone/amazon-reviews-pds/tsv/amazon_reviews_us_Software_v1_00.tsv.gz\n",
      "copy: s3://amazon-reviews-pds/tsv/amazon_reviews_us_Pet_Products_v1_00.tsv.gz to s3://amazon-reviews-capstone/amazon-reviews-pds/tsv/amazon_reviews_us_Pet_Products_v1_00.tsv.gz\n",
      "copy: s3://amazon-reviews-pds/tsv/amazon_reviews_us_Tools_v1_00.tsv.gz to s3://amazon-reviews-capstone/amazon-reviews-pds/tsv/amazon_reviews_us_Tools_v1_00.tsv.gz\n",
      "copy: s3://amazon-reviews-pds/tsv/amazon_reviews_us_Shoes_v1_00.tsv.gz to s3://amazon-reviews-capstone/amazon-reviews-pds/tsv/amazon_reviews_us_Shoes_v1_00.tsv.gz\n",
      "copy: s3://amazon-reviews-pds/tsv/amazon_reviews_us_Music_v1_00.tsv.gz to s3://amazon-reviews-capstone/amazon-reviews-pds/tsv/amazon_reviews_us_Music_v1_00.tsv.gz\n",
      "copy: s3://amazon-reviews-pds/tsv/amazon_reviews_us_Sports_v1_00.tsv.gz to s3://amazon-reviews-capstone/amazon-reviews-pds/tsv/amazon_reviews_us_Sports_v1_00.tsv.gz\n",
      "copy: s3://amazon-reviews-pds/tsv/amazon_reviews_us_Video_Games_v1_00.tsv.gz to s3://amazon-reviews-capstone/amazon-reviews-pds/tsv/amazon_reviews_us_Video_Games_v1_00.tsv.gz\n",
      "copy: s3://amazon-reviews-pds/tsv/amazon_reviews_us_PC_v1_00.tsv.gz to s3://amazon-reviews-capstone/amazon-reviews-pds/tsv/amazon_reviews_us_PC_v1_00.tsv.gz\n",
      "copy: s3://amazon-reviews-pds/tsv/amazon_reviews_us_Video_v1_00.tsv.gz to s3://amazon-reviews-capstone/amazon-reviews-pds/tsv/amazon_reviews_us_Video_v1_00.tsv.gz\n",
      "copy: s3://amazon-reviews-pds/tsv/index.txt to s3://amazon-reviews-capstone/amazon-reviews-pds/tsv/index.txt\n",
      "copy: s3://amazon-reviews-pds/tsv/sample_fr.tsv to s3://amazon-reviews-capstone/amazon-reviews-pds/tsv/sample_fr.tsv\n",
      "copy: s3://amazon-reviews-pds/tsv/sample_us.tsv to s3://amazon-reviews-capstone/amazon-reviews-pds/tsv/sample_us.tsv\n",
      "copy: s3://amazon-reviews-pds/tsv/amazon_reviews_us_Watches_v1_00.tsv.gz to s3://amazon-reviews-capstone/amazon-reviews-pds/tsv/amazon_reviews_us_Watches_v1_00.tsv.gz\n",
      "copy: s3://amazon-reviews-pds/tsv/amazon_reviews_us_Toys_v1_00.tsv.gz to s3://amazon-reviews-capstone/amazon-reviews-pds/tsv/amazon_reviews_us_Toys_v1_00.tsv.gz\n",
      "copy: s3://amazon-reviews-pds/tsv/amazon_reviews_us_Video_DVD_v1_00.tsv.gz to s3://amazon-reviews-capstone/amazon-reviews-pds/tsv/amazon_reviews_us_Video_DVD_v1_00.tsv.gz\n",
      "copy: s3://amazon-reviews-pds/tsv/amazon_reviews_us_Wireless_v1_00.tsv.gz to s3://amazon-reviews-capstone/amazon-reviews-pds/tsv/amazon_reviews_us_Wireless_v1_00.tsv.gz\n"
     ]
    }
   ],
   "source": [
    "!aws s3 cp --recursive $s3_public_source_tsv/ $s3_private_source_tsv/"
   ]
  },
  {
   "cell_type": "code",
   "execution_count": 38,
   "id": "d55341ce-37b2-4773-86d5-c6111bdeebfd",
   "metadata": {},
   "outputs": [
    {
     "name": "stdout",
     "output_type": "stream",
     "text": [
      "Requirement already satisfied: PyAthena in /opt/conda/lib/python3.7/site-packages (2.23.0)\n",
      "Requirement already satisfied: boto3>=1.26.4 in /opt/conda/lib/python3.7/site-packages (from PyAthena) (1.26.69)\n",
      "Requirement already satisfied: fsspec in /opt/conda/lib/python3.7/site-packages (from PyAthena) (2023.1.0)\n",
      "Requirement already satisfied: botocore>=1.29.4 in /opt/conda/lib/python3.7/site-packages (from PyAthena) (1.29.69)\n",
      "Requirement already satisfied: tenacity>=4.1.0 in /opt/conda/lib/python3.7/site-packages (from PyAthena) (8.2.1)\n",
      "Requirement already satisfied: s3transfer<0.7.0,>=0.6.0 in /opt/conda/lib/python3.7/site-packages (from boto3>=1.26.4->PyAthena) (0.6.0)\n",
      "Requirement already satisfied: jmespath<2.0.0,>=0.7.1 in /opt/conda/lib/python3.7/site-packages (from boto3>=1.26.4->PyAthena) (1.0.1)\n",
      "Requirement already satisfied: python-dateutil<3.0.0,>=2.1 in /opt/conda/lib/python3.7/site-packages (from botocore>=1.29.4->PyAthena) (2.8.2)\n",
      "Requirement already satisfied: urllib3<1.27,>=1.25.4 in /opt/conda/lib/python3.7/site-packages (from botocore>=1.29.4->PyAthena) (1.26.14)\n",
      "Requirement already satisfied: six>=1.5 in /opt/conda/lib/python3.7/site-packages (from python-dateutil<3.0.0,>=2.1->botocore>=1.29.4->PyAthena) (1.14.0)\n",
      "\u001b[33mWARNING: Running pip as the 'root' user can result in broken permissions and conflicting behaviour with the system package manager. It is recommended to use a virtual environment instead: https://pip.pypa.io/warnings/venv\u001b[0m\u001b[33m\n",
      "\u001b[0m\n",
      "\u001b[1m[\u001b[0m\u001b[34;49mnotice\u001b[0m\u001b[1;39;49m]\u001b[0m\u001b[39;49m A new release of pip is available: \u001b[0m\u001b[31;49m23.0\u001b[0m\u001b[39;49m -> \u001b[0m\u001b[32;49m23.0.1\u001b[0m\n",
      "\u001b[1m[\u001b[0m\u001b[34;49mnotice\u001b[0m\u001b[1;39;49m]\u001b[0m\u001b[39;49m To update, run: \u001b[0m\u001b[32;49mpip install --upgrade pip\u001b[0m\n"
     ]
    }
   ],
   "source": [
    "import sys\n",
    "!{sys.executable} -m pip install PyAthena\n",
    "db_name = \"amazon_reviews_capstone\""
   ]
  },
  {
   "cell_type": "code",
   "execution_count": 40,
   "id": "0eebb8cb-e2e2-40d4-8c66-2b7e1354c579",
   "metadata": {
    "tags": []
   },
   "outputs": [],
   "source": [
    "from pyathena import connect\n",
    "import pandas as pd\n",
    "conn = connect(s3_staging_dir = \"s3://{0}/athena/staging\".format(bucket),\n",
    "               region_name=\"us-east-1\")\n",
    "\n"
   ]
  },
  {
   "cell_type": "code",
   "execution_count": 41,
   "id": "496e4792-4bf6-48d4-9ebd-c5b510715031",
   "metadata": {
    "tags": []
   },
   "outputs": [
    {
     "name": "stdout",
     "output_type": "stream",
     "text": [
      "CREATE DATABASE IF NOT EXISTS amazon_reviews_capstone\n"
     ]
    }
   ],
   "source": [
    "statement = \"CREATE DATABASE IF NOT EXISTS {}\".format(db_name)\n",
    "print(statement)"
   ]
  },
  {
   "cell_type": "code",
   "execution_count": 42,
   "id": "47c0de10-5dd2-41c4-9483-b77875a52c00",
   "metadata": {
    "tags": []
   },
   "outputs": [
    {
     "data": {
      "text/html": [
       "<div>\n",
       "<style scoped>\n",
       "    .dataframe tbody tr th:only-of-type {\n",
       "        vertical-align: middle;\n",
       "    }\n",
       "\n",
       "    .dataframe tbody tr th {\n",
       "        vertical-align: top;\n",
       "    }\n",
       "\n",
       "    .dataframe thead th {\n",
       "        text-align: right;\n",
       "    }\n",
       "</style>\n",
       "<table border=\"1\" class=\"dataframe\">\n",
       "  <thead>\n",
       "    <tr style=\"text-align: right;\">\n",
       "      <th></th>\n",
       "    </tr>\n",
       "  </thead>\n",
       "  <tbody>\n",
       "  </tbody>\n",
       "</table>\n",
       "</div>"
      ],
      "text/plain": [
       "Empty DataFrame\n",
       "Columns: []\n",
       "Index: []"
      ]
     },
     "execution_count": 42,
     "metadata": {},
     "output_type": "execute_result"
    }
   ],
   "source": [
    "import pandas as pd\n",
    "\n",
    "pd.read_sql(statement, conn)"
   ]
  },
  {
   "cell_type": "code",
   "execution_count": 49,
   "id": "64929a09-3221-4d1e-9929-98741f94850c",
   "metadata": {
    "tags": []
   },
   "outputs": [
    {
     "name": "stdout",
     "output_type": "stream",
     "text": [
      "CREATE EXTERNAL TABLE IF NOT EXISTS amazon_reviews_capstone.amazon_reviews_tsv(\n",
      "    marketplace string,\n",
      "    customer_id string,\n",
      "    review_id string,\n",
      "    product_id string,\n",
      "    product_parent string,\n",
      "    product_title string,\n",
      "    product_category string,\n",
      "    star_rating int,\n",
      "    helpful_votes int,\n",
      "    total_votes int,\n",
      "    vine string,\n",
      "    verified_purchase string,\n",
      "    review_headline string,\n",
      "    review_body string,\n",
      "    review_date string\n",
      "    ) \n",
      "    ROW FORMAT DELIMITED FIELDS TERMINATED BY '\t'\n",
      "    LINES TERMINATED BY '\n",
      "'\n",
      "    LOCATION 's3://amazon-reviews-capstone/amazon-reviews-pds/tsv'\n",
      "    TBLPROPERTIES ('compressionType'='gzip', 'skip.header.line.count'='1')\n"
     ]
    }
   ],
   "source": [
    "table_name_tsv = \"amazon_reviews_tsv\"\n",
    "\n",
    "# SQL statement to execute\n",
    "statement = \"\"\"CREATE EXTERNAL TABLE IF NOT EXISTS amazon_reviews_capstone.amazon_reviews_tsv(\n",
    "    marketplace string,\n",
    "    customer_id string,\n",
    "    review_id string,\n",
    "    product_id string,\n",
    "    product_parent string,\n",
    "    product_title string,\n",
    "    product_category string,\n",
    "    star_rating int,\n",
    "    helpful_votes int,\n",
    "    total_votes int,\n",
    "    vine string,\n",
    "    verified_purchase string,\n",
    "    review_headline string,\n",
    "    review_body string,\n",
    "    review_date string\n",
    "    ) \n",
    "    ROW FORMAT DELIMITED FIELDS TERMINATED BY '\\t'\n",
    "    LINES TERMINATED BY '\\n'\n",
    "    LOCATION 's3://amazon-reviews-capstone/amazon-reviews-pds/tsv'\n",
    "    TBLPROPERTIES ('compressionType'='gzip', 'skip.header.line.count'='1')\"\"\"\n",
    "\n",
    "pd.read_sql(statement, conn)\n",
    "print(statement)"
   ]
  },
  {
   "cell_type": "code",
   "execution_count": 51,
   "id": "3c0cba45-03d1-4fc7-a733-6dfe0a1115ec",
   "metadata": {
    "tags": []
   },
   "outputs": [
    {
     "data": {
      "text/html": [
       "<div>\n",
       "<style scoped>\n",
       "    .dataframe tbody tr th:only-of-type {\n",
       "        vertical-align: middle;\n",
       "    }\n",
       "\n",
       "    .dataframe tbody tr th {\n",
       "        vertical-align: top;\n",
       "    }\n",
       "\n",
       "    .dataframe thead th {\n",
       "        text-align: right;\n",
       "    }\n",
       "</style>\n",
       "<table border=\"1\" class=\"dataframe\">\n",
       "  <thead>\n",
       "    <tr style=\"text-align: right;\">\n",
       "      <th></th>\n",
       "      <th>marketplace</th>\n",
       "      <th>customer_id</th>\n",
       "      <th>review_id</th>\n",
       "      <th>product_id</th>\n",
       "      <th>product_parent</th>\n",
       "      <th>product_title</th>\n",
       "      <th>product_category</th>\n",
       "      <th>star_rating</th>\n",
       "      <th>helpful_votes</th>\n",
       "      <th>total_votes</th>\n",
       "      <th>vine</th>\n",
       "      <th>verified_purchase</th>\n",
       "      <th>review_headline</th>\n",
       "      <th>review_body</th>\n",
       "      <th>review_date</th>\n",
       "    </tr>\n",
       "  </thead>\n",
       "  <tbody>\n",
       "    <tr>\n",
       "      <th>0</th>\n",
       "      <td>US</td>\n",
       "      <td>10140119</td>\n",
       "      <td>R3LI5TRP3YIDQL</td>\n",
       "      <td>B00TXH4OLC</td>\n",
       "      <td>384427924</td>\n",
       "      <td>Whatever's for Us: Remastered</td>\n",
       "      <td>Music</td>\n",
       "      <td>5</td>\n",
       "      <td>0</td>\n",
       "      <td>0</td>\n",
       "      <td>N</td>\n",
       "      <td>Y</td>\n",
       "      <td>Five Stars</td>\n",
       "      <td>Love this CD along with other CDs by the same ...</td>\n",
       "      <td>2015-08-31</td>\n",
       "    </tr>\n",
       "    <tr>\n",
       "      <th>1</th>\n",
       "      <td>US</td>\n",
       "      <td>27664622</td>\n",
       "      <td>R3LGC3EKEG84PX</td>\n",
       "      <td>B00B6QXN6U</td>\n",
       "      <td>831769051</td>\n",
       "      <td>Same Trailer Different Park</td>\n",
       "      <td>Music</td>\n",
       "      <td>5</td>\n",
       "      <td>0</td>\n",
       "      <td>0</td>\n",
       "      <td>N</td>\n",
       "      <td>Y</td>\n",
       "      <td>A new fave in our house</td>\n",
       "      <td>This is the album that introduced me to Kacey ...</td>\n",
       "      <td>2015-08-31</td>\n",
       "    </tr>\n",
       "    <tr>\n",
       "      <th>2</th>\n",
       "      <td>US</td>\n",
       "      <td>45946560</td>\n",
       "      <td>R9PYL3OYH55QY</td>\n",
       "      <td>B001GCZXW6</td>\n",
       "      <td>14067376</td>\n",
       "      <td>Soaring (Jazz Club)</td>\n",
       "      <td>Music</td>\n",
       "      <td>5</td>\n",
       "      <td>0</td>\n",
       "      <td>1</td>\n",
       "      <td>N</td>\n",
       "      <td>Y</td>\n",
       "      <td>Five Stars</td>\n",
       "      <td>Excellent / thanks</td>\n",
       "      <td>2015-08-31</td>\n",
       "    </tr>\n",
       "    <tr>\n",
       "      <th>3</th>\n",
       "      <td>US</td>\n",
       "      <td>15146326</td>\n",
       "      <td>R3PWBAWUS4NT0Q</td>\n",
       "      <td>B000003EK6</td>\n",
       "      <td>566295619</td>\n",
       "      <td>CARIBBEAN PARTY</td>\n",
       "      <td>Music</td>\n",
       "      <td>3</td>\n",
       "      <td>0</td>\n",
       "      <td>0</td>\n",
       "      <td>N</td>\n",
       "      <td>Y</td>\n",
       "      <td>Three Stars</td>\n",
       "      <td>Nice variety of caribbean artists.</td>\n",
       "      <td>2015-08-31</td>\n",
       "    </tr>\n",
       "    <tr>\n",
       "      <th>4</th>\n",
       "      <td>US</td>\n",
       "      <td>16794688</td>\n",
       "      <td>R15LYP3O51UU9E</td>\n",
       "      <td>B00N1F0BKK</td>\n",
       "      <td>210426072</td>\n",
       "      <td>Pain Killer</td>\n",
       "      <td>Music</td>\n",
       "      <td>5</td>\n",
       "      <td>0</td>\n",
       "      <td>0</td>\n",
       "      <td>N</td>\n",
       "      <td>Y</td>\n",
       "      <td>Five Stars</td>\n",
       "      <td>Purchased as a gift and they loved this cd</td>\n",
       "      <td>2015-08-31</td>\n",
       "    </tr>\n",
       "    <tr>\n",
       "      <th>5</th>\n",
       "      <td>US</td>\n",
       "      <td>32203364</td>\n",
       "      <td>R1AD7L0CC3DSRI</td>\n",
       "      <td>B00V7KAO7Q</td>\n",
       "      <td>360249504</td>\n",
       "      <td>A Thoughtiverse Unmarred</td>\n",
       "      <td>Music</td>\n",
       "      <td>5</td>\n",
       "      <td>0</td>\n",
       "      <td>0</td>\n",
       "      <td>N</td>\n",
       "      <td>Y</td>\n",
       "      <td>Definitely worth a listen.</td>\n",
       "      <td>Really enjoyed the content of this album.  I b...</td>\n",
       "      <td>2015-08-31</td>\n",
       "    </tr>\n",
       "    <tr>\n",
       "      <th>6</th>\n",
       "      <td>US</td>\n",
       "      <td>1194276</td>\n",
       "      <td>R32FE8Y45QV434</td>\n",
       "      <td>B000094Q4P</td>\n",
       "      <td>20972283</td>\n",
       "      <td>Comfort of Her Wings</td>\n",
       "      <td>Music</td>\n",
       "      <td>5</td>\n",
       "      <td>0</td>\n",
       "      <td>0</td>\n",
       "      <td>N</td>\n",
       "      <td>Y</td>\n",
       "      <td>Five Stars</td>\n",
       "      <td>Great CD</td>\n",
       "      <td>2015-08-31</td>\n",
       "    </tr>\n",
       "    <tr>\n",
       "      <th>7</th>\n",
       "      <td>US</td>\n",
       "      <td>45813052</td>\n",
       "      <td>R3NM4MZ4XWL43Q</td>\n",
       "      <td>B00JMK0P1I</td>\n",
       "      <td>378049560</td>\n",
       "      <td>Sleep Soundly CD - Calming Guitar Music with N...</td>\n",
       "      <td>Music</td>\n",
       "      <td>5</td>\n",
       "      <td>1</td>\n",
       "      <td>2</td>\n",
       "      <td>N</td>\n",
       "      <td>Y</td>\n",
       "      <td>Five Stars</td>\n",
       "      <td>Excellent CD!</td>\n",
       "      <td>2015-08-31</td>\n",
       "    </tr>\n",
       "  </tbody>\n",
       "</table>\n",
       "</div>"
      ],
      "text/plain": [
       "  marketplace customer_id       review_id  product_id product_parent  \\\n",
       "0          US    10140119  R3LI5TRP3YIDQL  B00TXH4OLC      384427924   \n",
       "1          US    27664622  R3LGC3EKEG84PX  B00B6QXN6U      831769051   \n",
       "2          US    45946560   R9PYL3OYH55QY  B001GCZXW6       14067376   \n",
       "3          US    15146326  R3PWBAWUS4NT0Q  B000003EK6      566295619   \n",
       "4          US    16794688  R15LYP3O51UU9E  B00N1F0BKK      210426072   \n",
       "5          US    32203364  R1AD7L0CC3DSRI  B00V7KAO7Q      360249504   \n",
       "6          US     1194276  R32FE8Y45QV434  B000094Q4P       20972283   \n",
       "7          US    45813052  R3NM4MZ4XWL43Q  B00JMK0P1I      378049560   \n",
       "\n",
       "                                       product_title product_category  \\\n",
       "0                      Whatever's for Us: Remastered            Music   \n",
       "1                        Same Trailer Different Park            Music   \n",
       "2                                Soaring (Jazz Club)            Music   \n",
       "3                                    CARIBBEAN PARTY            Music   \n",
       "4                                        Pain Killer            Music   \n",
       "5                           A Thoughtiverse Unmarred            Music   \n",
       "6                               Comfort of Her Wings            Music   \n",
       "7  Sleep Soundly CD - Calming Guitar Music with N...            Music   \n",
       "\n",
       "   star_rating  helpful_votes  total_votes vine verified_purchase  \\\n",
       "0            5              0            0    N                 Y   \n",
       "1            5              0            0    N                 Y   \n",
       "2            5              0            1    N                 Y   \n",
       "3            3              0            0    N                 Y   \n",
       "4            5              0            0    N                 Y   \n",
       "5            5              0            0    N                 Y   \n",
       "6            5              0            0    N                 Y   \n",
       "7            5              1            2    N                 Y   \n",
       "\n",
       "              review_headline  \\\n",
       "0                  Five Stars   \n",
       "1     A new fave in our house   \n",
       "2                  Five Stars   \n",
       "3                 Three Stars   \n",
       "4                  Five Stars   \n",
       "5  Definitely worth a listen.   \n",
       "6                  Five Stars   \n",
       "7                  Five Stars   \n",
       "\n",
       "                                         review_body review_date  \n",
       "0  Love this CD along with other CDs by the same ...  2015-08-31  \n",
       "1  This is the album that introduced me to Kacey ...  2015-08-31  \n",
       "2                                 Excellent / thanks  2015-08-31  \n",
       "3                 Nice variety of caribbean artists.  2015-08-31  \n",
       "4         Purchased as a gift and they loved this cd  2015-08-31  \n",
       "5  Really enjoyed the content of this album.  I b...  2015-08-31  \n",
       "6                                           Great CD  2015-08-31  \n",
       "7                                      Excellent CD!  2015-08-31  "
      ]
     },
     "execution_count": 51,
     "metadata": {},
     "output_type": "execute_result"
    }
   ],
   "source": [
    "df = pd.read_sql(\"SELECT * FROM amazon_reviews_capstone.amazon_reviews_tsv limit 8;\", conn)\n",
    "df"
   ]
  },
  {
   "cell_type": "code",
   "execution_count": null,
   "id": "cee8fa29-7c76-4b5e-8dae-1c6ba5504571",
   "metadata": {
    "tags": []
   },
   "outputs": [],
   "source": [
    "table_name_parquet = \"amazon_reviews_parquet\"\n",
    "# Set S3 path to Parquet data\n",
    "s3_path_parquet = \"s3://amazon-reviews-capstone/amazon-reviews-pds/parquet\".format(bucket)\n",
    "# SQL statement to execute\n",
    "statement = \"\"\"CREATE TABLE IF NOT EXISTS amazon_reviews_capstone.amazon_reviews_parquet\n",
    "WITH (format = 'PARQUET', external_location = 's3://amazon-reviews-capstone/amazon-reviews-pds/parquet', partitioned_by = ARRAY['product_category']) AS\n",
    "SELECT marketplace,\n",
    "         customer_id,\n",
    "         review_id,\n",
    "         product_id,\n",
    "         product_parent,\n",
    "         product_title,\n",
    "         star_rating,\n",
    "         helpful_votes,\n",
    "         total_votes,\n",
    "         vine,\n",
    "         verified_purchase,\n",
    "         review_headline,\n",
    "         review_body,\n",
    "         CAST(YEAR(DATE(review_date)) AS INTEGER) AS year,\n",
    "         DATE(review_date) AS review_date,\n",
    "         product_category\n",
    "FROM amazon_reviews_capstone.amazon_reviews_tsv\"\"\"\n",
    "pd.read_sql(statement, conn)\n",
    "print(statement)"
   ]
  },
  {
   "cell_type": "code",
   "execution_count": null,
   "id": "8df4e4cc-432b-484f-b12d-a7c93e575d16",
   "metadata": {},
   "outputs": [],
   "source": []
  },
  {
   "cell_type": "code",
   "execution_count": null,
   "id": "b0e5086e-1c09-4823-a8c3-eed9f3f0101c",
   "metadata": {},
   "outputs": [],
   "source": []
  },
  {
   "cell_type": "code",
   "execution_count": null,
   "id": "1df0417e-3142-4404-bb7e-d5f42b5a5455",
   "metadata": {},
   "outputs": [],
   "source": []
  }
 ],
 "metadata": {
  "forced_instance_type": "ml.t3.medium",
  "forced_lcc_arn": "",
  "instance_type": "ml.t3.medium",
  "kernelspec": {
   "display_name": "Python 3 (Data Science)",
   "language": "python",
   "name": "python3__SAGEMAKER_INTERNAL__arn:aws:sagemaker:us-east-1:081325390199:image/datascience-1.0"
  },
  "language_info": {
   "codemirror_mode": {
    "name": "ipython",
    "version": 3
   },
   "file_extension": ".py",
   "mimetype": "text/x-python",
   "name": "python",
   "nbconvert_exporter": "python",
   "pygments_lexer": "ipython3",
   "version": "3.7.10"
  }
 },
 "nbformat": 4,
 "nbformat_minor": 5
}
